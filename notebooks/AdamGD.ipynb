{
  "nbformat": 4,
  "nbformat_minor": 0,
  "metadata": {
    "colab": {
      "name": "AdamGD.ipynb",
      "provenance": [],
      "authorship_tag": "ABX9TyOgezfLd8ZLSXmYLC3t/7ul",
      "include_colab_link": true
    },
    "kernelspec": {
      "name": "python3",
      "display_name": "Python 3"
    },
    "language_info": {
      "name": "python"
    }
  },
  "cells": [
    {
      "cell_type": "markdown",
      "metadata": {
        "id": "view-in-github",
        "colab_type": "text"
      },
      "source": [
        "<a href=\"https://colab.research.google.com/github/SafaaFathii/Numerical-Optimization-GD/blob/main/notebooks/AdamGD.ipynb\" target=\"_parent\"><img src=\"https://colab.research.google.com/assets/colab-badge.svg\" alt=\"Open In Colab\"/></a>"
      ]
    },
    {
      "cell_type": "code",
      "execution_count": null,
      "metadata": {
        "id": "51qw2oW7GJ9K"
      },
      "outputs": [],
      "source": [
        "import numpy as np\n",
        "import pandas as pd\n",
        "import math\n",
        "import matplotlib.pyplot as plt"
      ]
    },
    {
      "cell_type": "code",
      "source": [
        "df = pd.DataFrame(columns=[\"X\",\"Y\"])\n",
        "df[\"X\"] = np.linspace(0,20)\n",
        "df[\"Y\"] = -1*df[\"X\"]+2\n",
        "from sklearn.utils import shuffle\n",
        "df = shuffle(df)\n",
        "df.reset_index(inplace = True , drop=True)\n",
        "df.head()"
      ],
      "metadata": {
        "colab": {
          "base_uri": "https://localhost:8080/",
          "height": 206
        },
        "id": "TRjzBtgLGOo_",
        "outputId": "d490c099-3cc0-47a9-f337-5d573b595291"
      },
      "execution_count": null,
      "outputs": [
        {
          "output_type": "execute_result",
          "data": {
            "text/plain": [
              "           X          Y\n",
              "0   4.081633  -2.081633\n",
              "1   0.000000   2.000000\n",
              "2   7.755102  -5.755102\n",
              "3  18.367347 -16.367347\n",
              "4   3.265306  -1.265306"
            ],
            "text/html": [
              "\n",
              "  <div id=\"df-279d284c-3438-42e0-a7dc-3ddc6782de8f\">\n",
              "    <div class=\"colab-df-container\">\n",
              "      <div>\n",
              "<style scoped>\n",
              "    .dataframe tbody tr th:only-of-type {\n",
              "        vertical-align: middle;\n",
              "    }\n",
              "\n",
              "    .dataframe tbody tr th {\n",
              "        vertical-align: top;\n",
              "    }\n",
              "\n",
              "    .dataframe thead th {\n",
              "        text-align: right;\n",
              "    }\n",
              "</style>\n",
              "<table border=\"1\" class=\"dataframe\">\n",
              "  <thead>\n",
              "    <tr style=\"text-align: right;\">\n",
              "      <th></th>\n",
              "      <th>X</th>\n",
              "      <th>Y</th>\n",
              "    </tr>\n",
              "  </thead>\n",
              "  <tbody>\n",
              "    <tr>\n",
              "      <th>0</th>\n",
              "      <td>4.081633</td>\n",
              "      <td>-2.081633</td>\n",
              "    </tr>\n",
              "    <tr>\n",
              "      <th>1</th>\n",
              "      <td>0.000000</td>\n",
              "      <td>2.000000</td>\n",
              "    </tr>\n",
              "    <tr>\n",
              "      <th>2</th>\n",
              "      <td>7.755102</td>\n",
              "      <td>-5.755102</td>\n",
              "    </tr>\n",
              "    <tr>\n",
              "      <th>3</th>\n",
              "      <td>18.367347</td>\n",
              "      <td>-16.367347</td>\n",
              "    </tr>\n",
              "    <tr>\n",
              "      <th>4</th>\n",
              "      <td>3.265306</td>\n",
              "      <td>-1.265306</td>\n",
              "    </tr>\n",
              "  </tbody>\n",
              "</table>\n",
              "</div>\n",
              "      <button class=\"colab-df-convert\" onclick=\"convertToInteractive('df-279d284c-3438-42e0-a7dc-3ddc6782de8f')\"\n",
              "              title=\"Convert this dataframe to an interactive table.\"\n",
              "              style=\"display:none;\">\n",
              "        \n",
              "  <svg xmlns=\"http://www.w3.org/2000/svg\" height=\"24px\"viewBox=\"0 0 24 24\"\n",
              "       width=\"24px\">\n",
              "    <path d=\"M0 0h24v24H0V0z\" fill=\"none\"/>\n",
              "    <path d=\"M18.56 5.44l.94 2.06.94-2.06 2.06-.94-2.06-.94-.94-2.06-.94 2.06-2.06.94zm-11 1L8.5 8.5l.94-2.06 2.06-.94-2.06-.94L8.5 2.5l-.94 2.06-2.06.94zm10 10l.94 2.06.94-2.06 2.06-.94-2.06-.94-.94-2.06-.94 2.06-2.06.94z\"/><path d=\"M17.41 7.96l-1.37-1.37c-.4-.4-.92-.59-1.43-.59-.52 0-1.04.2-1.43.59L10.3 9.45l-7.72 7.72c-.78.78-.78 2.05 0 2.83L4 21.41c.39.39.9.59 1.41.59.51 0 1.02-.2 1.41-.59l7.78-7.78 2.81-2.81c.8-.78.8-2.07 0-2.86zM5.41 20L4 18.59l7.72-7.72 1.47 1.35L5.41 20z\"/>\n",
              "  </svg>\n",
              "      </button>\n",
              "      \n",
              "  <style>\n",
              "    .colab-df-container {\n",
              "      display:flex;\n",
              "      flex-wrap:wrap;\n",
              "      gap: 12px;\n",
              "    }\n",
              "\n",
              "    .colab-df-convert {\n",
              "      background-color: #E8F0FE;\n",
              "      border: none;\n",
              "      border-radius: 50%;\n",
              "      cursor: pointer;\n",
              "      display: none;\n",
              "      fill: #1967D2;\n",
              "      height: 32px;\n",
              "      padding: 0 0 0 0;\n",
              "      width: 32px;\n",
              "    }\n",
              "\n",
              "    .colab-df-convert:hover {\n",
              "      background-color: #E2EBFA;\n",
              "      box-shadow: 0px 1px 2px rgba(60, 64, 67, 0.3), 0px 1px 3px 1px rgba(60, 64, 67, 0.15);\n",
              "      fill: #174EA6;\n",
              "    }\n",
              "\n",
              "    [theme=dark] .colab-df-convert {\n",
              "      background-color: #3B4455;\n",
              "      fill: #D2E3FC;\n",
              "    }\n",
              "\n",
              "    [theme=dark] .colab-df-convert:hover {\n",
              "      background-color: #434B5C;\n",
              "      box-shadow: 0px 1px 3px 1px rgba(0, 0, 0, 0.15);\n",
              "      filter: drop-shadow(0px 1px 2px rgba(0, 0, 0, 0.3));\n",
              "      fill: #FFFFFF;\n",
              "    }\n",
              "  </style>\n",
              "\n",
              "      <script>\n",
              "        const buttonEl =\n",
              "          document.querySelector('#df-279d284c-3438-42e0-a7dc-3ddc6782de8f button.colab-df-convert');\n",
              "        buttonEl.style.display =\n",
              "          google.colab.kernel.accessAllowed ? 'block' : 'none';\n",
              "\n",
              "        async function convertToInteractive(key) {\n",
              "          const element = document.querySelector('#df-279d284c-3438-42e0-a7dc-3ddc6782de8f');\n",
              "          const dataTable =\n",
              "            await google.colab.kernel.invokeFunction('convertToInteractive',\n",
              "                                                     [key], {});\n",
              "          if (!dataTable) return;\n",
              "\n",
              "          const docLinkHtml = 'Like what you see? Visit the ' +\n",
              "            '<a target=\"_blank\" href=https://colab.research.google.com/notebooks/data_table.ipynb>data table notebook</a>'\n",
              "            + ' to learn more about interactive tables.';\n",
              "          element.innerHTML = '';\n",
              "          dataTable['output_type'] = 'display_data';\n",
              "          await google.colab.output.renderOutput(dataTable, element);\n",
              "          const docLink = document.createElement('div');\n",
              "          docLink.innerHTML = docLinkHtml;\n",
              "          element.appendChild(docLink);\n",
              "        }\n",
              "      </script>\n",
              "    </div>\n",
              "  </div>\n",
              "  "
            ]
          },
          "metadata": {},
          "execution_count": 200
        }
      ]
    },
    {
      "cell_type": "code",
      "source": [
        "def Adam_Batch_GD(df,alpha,eps):\n",
        "  theta_0 = 0\n",
        "  theta_1 =0\n",
        "  vt0 = 0\n",
        "  vt1 = 0\n",
        "  gamma1 = 0.9\n",
        "  gamma2 = 0.999\n",
        "  mt0 = 0\n",
        "  mt1 = 0\n",
        "  Cost_List = []\n",
        "  theta_0_List = []\n",
        "  theta_1_List = []\n",
        "  for i in range(1000):\n",
        "    theta_0_List.append(theta_0)\n",
        "    theta_1_List.append(theta_1)\n",
        "    df[\"YPredict\"] = theta_0 + theta_1 * df[\"X\"]\n",
        "    sumii = sum(np.power(df[\"YPredict\"]-df[\"Y\"] , 2))\n",
        "    totalCost = sumii/(2*df.shape[0])\n",
        "    Cost_List.append(totalCost)    \n",
        "    G_Theta_0 = sum(df[\"YPredict\"]-df[\"Y\"])/df.shape[0]\n",
        "    G_Theta_1 = sum((df[\"YPredict\"] - df[\"Y\"])*df[\"X\"])/df.shape[0]\n",
        "    mt0 = (gamma1 * mt0) + (1 - gamma1)*(G_Theta_0)\n",
        "    mt1 = (gamma1 * mt1) + (1 - gamma1)*(G_Theta_1)\n",
        "    vt0 = (gamma2 * vt0) +(1-gamma2)*(G_Theta_0**2)\n",
        "    vt1 = (gamma2 * vt1) +(1-gamma2)*(G_Theta_1**2)\n",
        "    theta_0 -= (alpha * mt0)/(math.sqrt(vt0)+eps)\n",
        "    theta_1 -= (alpha * mt1)/(math.sqrt(vt1)+eps)\n",
        "  return theta_0_List,theta_1_List,Cost_List,theta_0,theta_1\n"
      ],
      "metadata": {
        "id": "VP6LfJL6GYIz"
      },
      "execution_count": null,
      "outputs": []
    },
    {
      "cell_type": "code",
      "source": [
        "theta_0_List,theta_1_List,Cost_List,theta_0,theta_1 = Adam_Batch_GD(df,0.01,1e-8)"
      ],
      "metadata": {
        "id": "Ak_RQNCAHBKW"
      },
      "execution_count": null,
      "outputs": []
    },
    {
      "cell_type": "code",
      "source": [
        "from sklearn.metrics import r2_score\n",
        "print(r2_score(df[\"Y\"], df[\"YPredict\"]))"
      ],
      "metadata": {
        "colab": {
          "base_uri": "https://localhost:8080/"
        },
        "id": "sYIMcFdIHJxH",
        "outputId": "900f3aa3-aa5a-470a-cd8e-2680e9c1b5e4"
      },
      "execution_count": null,
      "outputs": [
        {
          "output_type": "stream",
          "name": "stdout",
          "text": [
            "0.9999933469730578\n"
          ]
        }
      ]
    },
    {
      "cell_type": "code",
      "source": [
        "ax = plt.axes()\n",
        "ax.scatter(df[\"X\"],df[\"Y\"])\n",
        "ax.plot(df[\"X\"],df[\"YPredict\"])\n",
        "plt.show()"
      ],
      "metadata": {
        "colab": {
          "base_uri": "https://localhost:8080/",
          "height": 265
        },
        "id": "shp3n7a7HPTx",
        "outputId": "f332c72c-0a21-4166-ff36-5e0530ee3d54"
      },
      "execution_count": null,
      "outputs": [
        {
          "output_type": "display_data",
          "data": {
            "text/plain": [
              "<Figure size 432x288 with 1 Axes>"
            ],
            "image/png": "[encoded data removed]"
          },
          "metadata": {
            "needs_background": "light"
          }
        }
      ]
    },
    {
      "cell_type": "code",
      "source": [
        "plt.plot(theta_0_List,Cost_List)\n",
        "plt.xlabel(\"Theta 0\")\n",
        "plt.ylabel(\"Cost Value\")\n",
        "plt.show()"
      ],
      "metadata": {
        "colab": {
          "base_uri": "https://localhost:8080/",
          "height": 279
        },
        "id": "r7o86A-NHSuH",
        "outputId": "a3e3b296-8c5f-44b3-e53c-ea27b554b9f5"
      },
      "execution_count": null,
      "outputs": [
        {
          "output_type": "display_data",
          "data": {
            "text/plain": [
              "<Figure size 432x288 with 1 Axes>"
            ],
            "image/png": "[encoded data removed]"
          },
          "metadata": {
            "needs_background": "light"
          }
        }
      ]
    },
    {
      "cell_type": "code",
      "source": [
        "plt.plot(theta_1_List,Cost_List)\n",
        "plt.xlabel(\"Theta 1\")\n",
        "plt.ylabel(\"Cost Value\")\n",
        "plt.show()"
      ],
      "metadata": {
        "colab": {
          "base_uri": "https://localhost:8080/",
          "height": 279
        },
        "id": "XkzoFb_yHZTd",
        "outputId": "56e3292a-22d7-435b-f6dd-5feec379eeca"
      },
      "execution_count": null,
      "outputs": [
        {
          "output_type": "display_data",
          "data": {
            "text/plain": [
              "<Figure size 432x288 with 1 Axes>"
            ],
            "image/png": "[encoded data removed]"
          },
          "metadata": {
            "needs_background": "light"
          }
        }
      ]
    },
    {
      "cell_type": "code",
      "source": [
        "plt.plot(range(len(Cost_List)),Cost_List)\n",
        "plt.xlabel(\"Iteration\")\n",
        "plt.ylabel(\"Cost Value\")\n",
        "plt.show()"
      ],
      "metadata": {
        "colab": {
          "base_uri": "https://localhost:8080/",
          "height": 279
        },
        "id": "jgEZfWspHcdr",
        "outputId": "3b145e17-e540-4871-a6e3-a7ded1d56c7d"
      },
      "execution_count": null,
      "outputs": [
        {
          "output_type": "display_data",
          "data": {
            "text/plain": [
              "<Figure size 432x288 with 1 Axes>"
            ],
            "image/png": "[encoded data removed]"
          },
          "metadata": {
            "needs_background": "light"
          }
        }
      ]
    },
    {
      "cell_type": "code",
      "source": [
        ""
      ],
      "metadata": {
        "id": "BF5u4PwWHfxg"
      },
      "execution_count": null,
      "outputs": []
    },
    {
      "cell_type": "markdown",
      "source": [
        "Adam Single MiniBatch"
      ],
      "metadata": {
        "id": "R3x7vO4CH0Ys"
      }
    },
    {
      "cell_type": "code",
      "source": [
        "df2 = pd.DataFrame(columns=[\"X\",\"Y\"])\n",
        "df2[\"X\"] = np.linspace(0,20)\n",
        "df2[\"Y\"] = -1*df2[\"X\"]+2\n",
        "from sklearn.utils import shuffle\n",
        "df2 = shuffle(df2)\n",
        "df2.reset_index(inplace = True , drop=True)\n",
        "df2.head()"
      ],
      "metadata": {
        "colab": {
          "base_uri": "https://localhost:8080/",
          "height": 206
        },
        "id": "kdfHDjssH4AJ",
        "outputId": "0aa5cc9b-0f39-4c16-b887-4a8d0b8f6249"
      },
      "execution_count": null,
      "outputs": [
        {
          "output_type": "execute_result",
          "data": {
            "text/plain": [
              "           X          Y\n",
              "0   0.408163   1.591837\n",
              "1   8.571429  -6.571429\n",
              "2   3.265306  -1.265306\n",
              "3  17.959184 -15.959184\n",
              "4   9.387755  -7.387755"
            ],
            "text/html": [
              "\n",
              "  <div id=\"df-dd007577-5495-4439-8072-4abbffdd4bce\">\n",
              "    <div class=\"colab-df-container\">\n",
              "      <div>\n",
              "<style scoped>\n",
              "    .dataframe tbody tr th:only-of-type {\n",
              "        vertical-align: middle;\n",
              "    }\n",
              "\n",
              "    .dataframe tbody tr th {\n",
              "        vertical-align: top;\n",
              "    }\n",
              "\n",
              "    .dataframe thead th {\n",
              "        text-align: right;\n",
              "    }\n",
              "</style>\n",
              "<table border=\"1\" class=\"dataframe\">\n",
              "  <thead>\n",
              "    <tr style=\"text-align: right;\">\n",
              "      <th></th>\n",
              "      <th>X</th>\n",
              "      <th>Y</th>\n",
              "    </tr>\n",
              "  </thead>\n",
              "  <tbody>\n",
              "    <tr>\n",
              "      <th>0</th>\n",
              "      <td>0.408163</td>\n",
              "      <td>1.591837</td>\n",
              "    </tr>\n",
              "    <tr>\n",
              "      <th>1</th>\n",
              "      <td>8.571429</td>\n",
              "      <td>-6.571429</td>\n",
              "    </tr>\n",
              "    <tr>\n",
              "      <th>2</th>\n",
              "      <td>3.265306</td>\n",
              "      <td>-1.265306</td>\n",
              "    </tr>\n",
              "    <tr>\n",
              "      <th>3</th>\n",
              "      <td>17.959184</td>\n",
              "      <td>-15.959184</td>\n",
              "    </tr>\n",
              "    <tr>\n",
              "      <th>4</th>\n",
              "      <td>9.387755</td>\n",
              "      <td>-7.387755</td>\n",
              "    </tr>\n",
              "  </tbody>\n",
              "</table>\n",
              "</div>\n",
              "      <button class=\"colab-df-convert\" onclick=\"convertToInteractive('df-dd007577-5495-4439-8072-4abbffdd4bce')\"\n",
              "              title=\"Convert this dataframe to an interactive table.\"\n",
              "              style=\"display:none;\">\n",
              "        \n",
              "  <svg xmlns=\"http://www.w3.org/2000/svg\" height=\"24px\"viewBox=\"0 0 24 24\"\n",
              "       width=\"24px\">\n",
              "    <path d=\"M0 0h24v24H0V0z\" fill=\"none\"/>\n",
              "    <path d=\"M18.56 5.44l.94 2.06.94-2.06 2.06-.94-2.06-.94-.94-2.06-.94 2.06-2.06.94zm-11 1L8.5 8.5l.94-2.06 2.06-.94-2.06-.94L8.5 2.5l-.94 2.06-2.06.94zm10 10l.94 2.06.94-2.06 2.06-.94-2.06-.94-.94-2.06-.94 2.06-2.06.94z\"/><path d=\"M17.41 7.96l-1.37-1.37c-.4-.4-.92-.59-1.43-.59-.52 0-1.04.2-1.43.59L10.3 9.45l-7.72 7.72c-.78.78-.78 2.05 0 2.83L4 21.41c.39.39.9.59 1.41.59.51 0 1.02-.2 1.41-.59l7.78-7.78 2.81-2.81c.8-.78.8-2.07 0-2.86zM5.41 20L4 18.59l7.72-7.72 1.47 1.35L5.41 20z\"/>\n",
              "  </svg>\n",
              "      </button>\n",
              "      \n",
              "  <style>\n",
              "    .colab-df-container {\n",
              "      display:flex;\n",
              "      flex-wrap:wrap;\n",
              "      gap: 12px;\n",
              "    }\n",
              "\n",
              "    .colab-df-convert {\n",
              "      background-color: #E8F0FE;\n",
              "      border: none;\n",
              "      border-radius: 50%;\n",
              "      cursor: pointer;\n",
              "      display: none;\n",
              "      fill: #1967D2;\n",
              "      height: 32px;\n",
              "      padding: 0 0 0 0;\n",
              "      width: 32px;\n",
              "    }\n",
              "\n",
              "    .colab-df-convert:hover {\n",
              "      background-color: #E2EBFA;\n",
              "      box-shadow: 0px 1px 2px rgba(60, 64, 67, 0.3), 0px 1px 3px 1px rgba(60, 64, 67, 0.15);\n",
              "      fill: #174EA6;\n",
              "    }\n",
              "\n",
              "    [theme=dark] .colab-df-convert {\n",
              "      background-color: #3B4455;\n",
              "      fill: #D2E3FC;\n",
              "    }\n",
              "\n",
              "    [theme=dark] .colab-df-convert:hover {\n",
              "      background-color: #434B5C;\n",
              "      box-shadow: 0px 1px 3px 1px rgba(0, 0, 0, 0.15);\n",
              "      filter: drop-shadow(0px 1px 2px rgba(0, 0, 0, 0.3));\n",
              "      fill: #FFFFFF;\n",
              "    }\n",
              "  </style>\n",
              "\n",
              "      <script>\n",
              "        const buttonEl =\n",
              "          document.querySelector('#df-dd007577-5495-4439-8072-4abbffdd4bce button.colab-df-convert');\n",
              "        buttonEl.style.display =\n",
              "          google.colab.kernel.accessAllowed ? 'block' : 'none';\n",
              "\n",
              "        async function convertToInteractive(key) {\n",
              "          const element = document.querySelector('#df-dd007577-5495-4439-8072-4abbffdd4bce');\n",
              "          const dataTable =\n",
              "            await google.colab.kernel.invokeFunction('convertToInteractive',\n",
              "                                                     [key], {});\n",
              "          if (!dataTable) return;\n",
              "\n",
              "          const docLinkHtml = 'Like what you see? Visit the ' +\n",
              "            '<a target=\"_blank\" href=https://colab.research.google.com/notebooks/data_table.ipynb>data table notebook</a>'\n",
              "            + ' to learn more about interactive tables.';\n",
              "          element.innerHTML = '';\n",
              "          dataTable['output_type'] = 'display_data';\n",
              "          await google.colab.output.renderOutput(dataTable, element);\n",
              "          const docLink = document.createElement('div');\n",
              "          docLink.innerHTML = docLinkHtml;\n",
              "          element.appendChild(docLink);\n",
              "        }\n",
              "      </script>\n",
              "    </div>\n",
              "  </div>\n",
              "  "
            ]
          },
          "metadata": {},
          "execution_count": 208
        }
      ]
    },
    {
      "cell_type": "code",
      "source": [
        "def Adam_Single_MiniBatch(df3,alpha,eps):\n",
        "    theta_0 = 0\n",
        "    theta_1 = 0\n",
        "    theta0List = []\n",
        "    theta1List = []\n",
        "    CostList = []\n",
        "    gamma1 = 0.9\n",
        "    gamma2 = 0.999\n",
        "    vt0 = 0\n",
        "    vt1 = 0\n",
        "    mt0 = 0\n",
        "    mt1 = 0\n",
        "    CostPrev = 0\n",
        "    batchSize = len(df3)//5\n",
        "    end = False\n",
        "    for i in range(200):\n",
        "      for j in range(0,df3.shape[0],batchSize):\n",
        "        theta0List.append(theta_0)\n",
        "        theta1List.append(theta_1)\n",
        "        df3.loc[j:j+batchSize-1,\"Y_Predict\"]= theta_0+theta_1*df3.loc[j:j+batchSize-1,\"X\"]\n",
        "        Cost = sum(( df3.loc[j:j+batchSize-1,\"Y_Predict\"]- df3.loc[j:j+batchSize-1,\"Y\"])**2)/(2*batchSize)\n",
        "        CostList.append(Cost) \n",
        "        Gradient_Theta_0 = sum(df3.loc[j:j+batchSize-1,\"Y_Predict\"] - df3.loc[j:j+batchSize-1,\"Y\"])/batchSize\n",
        "        Gradient_Theta_1 = sum((df3.loc[j:j+batchSize-1,\"Y_Predict\"] - df3.loc[j:j+batchSize-1,\"Y\"]) * df3.loc[j:j+batchSize-1,\"X\"])/batchSize\n",
        "\n",
        "        mt0 = (gamma1 * mt0) + (1 - gamma1)*(Gradient_Theta_0)\n",
        "        mt1 = (gamma1 * mt1) + (1 - gamma1)*(Gradient_Theta_1)\n",
        "        vt0 = (gamma2 * vt0) +(1-gamma2)*(Gradient_Theta_0**2)\n",
        "        vt1 = (gamma2 * vt1) +(1-gamma2)*(Gradient_Theta_1**2)\n",
        "        theta_0 -= (alpha * mt0)/(math.sqrt(vt0)+eps)\n",
        "        theta_1 -= (alpha * mt1)/(math.sqrt(vt1)+eps)\n",
        "\n",
        "      if abs(Cost - CostPrev)<0.001:\n",
        "        end = True\n",
        "      else:\n",
        "        CostPrev = Cost   \n",
        "      if end:\n",
        "        break\n",
        "    return theta0List,theta1List,CostList,theta_0,theta_1"
      ],
      "metadata": {
        "id": "MVwnpOySH6qn"
      },
      "execution_count": null,
      "outputs": []
    },
    {
      "cell_type": "code",
      "source": [
        "theta_0_List,theta_1_List,Cost_List,theta_0,theta_1 = Adam_Single_MiniBatch(df2,0.1,1e-8)"
      ],
      "metadata": {
        "id": "fGC4alsbIZlM"
      },
      "execution_count": null,
      "outputs": []
    },
    {
      "cell_type": "code",
      "source": [
        "from sklearn.metrics import r2_score\n",
        "print(r2_score(df2[\"Y\"], df2[\"Y_Predict\"]))"
      ],
      "metadata": {
        "colab": {
          "base_uri": "https://localhost:8080/"
        },
        "id": "7Qv5k0dCIhX4",
        "outputId": "78f7216d-d9d4-4af4-fe63-01c92c805cbe"
      },
      "execution_count": null,
      "outputs": [
        {
          "output_type": "stream",
          "name": "stdout",
          "text": [
            "0.9436037477705713\n"
          ]
        }
      ]
    },
    {
      "cell_type": "code",
      "source": [
        "ax = plt.axes()\n",
        "ax.scatter(df2[\"X\"],df2[\"Y\"])\n",
        "ax.plot(df2[\"X\"],df2[\"Y_Predict\"])\n",
        "plt.show()"
      ],
      "metadata": {
        "colab": {
          "base_uri": "https://localhost:8080/",
          "height": 265
        },
        "id": "txwb7pKwIryE",
        "outputId": "b8a72187-17e2-49b9-b9c0-a5cf58511d7e"
      },
      "execution_count": null,
      "outputs": [
        {
          "output_type": "display_data",
          "data": {
            "text/plain": [
              "<Figure size 432x288 with 1 Axes>"
            ],
            "image/png": "[encoded data removed]"
          },
          "metadata": {
            "needs_background": "light"
          }
        }
      ]
    },
    {
      "cell_type": "code",
      "source": [
        "plt.plot(theta_0_List,Cost_List)\n",
        "plt.xlabel(\"Theta 0\")\n",
        "plt.ylabel(\"Cost Value\")\n",
        "plt.show()"
      ],
      "metadata": {
        "colab": {
          "base_uri": "https://localhost:8080/",
          "height": 279
        },
        "id": "ZRmiEkKYIuFZ",
        "outputId": "a7f8ea59-7cf3-4249-ba13-857edbe8aa48"
      },
      "execution_count": null,
      "outputs": [
        {
          "output_type": "display_data",
          "data": {
            "text/plain": [
              "<Figure size 432x288 with 1 Axes>"
            ],
            "image/png": "[encoded data removed]"
          },
          "metadata": {
            "needs_background": "light"
          }
        }
      ]
    },
    {
      "cell_type": "code",
      "source": [
        "plt.plot(theta_1_List,Cost_List)\n",
        "plt.xlabel(\"Theta 1\")\n",
        "plt.ylabel(\"Cost Value\")\n",
        "plt.show()"
      ],
      "metadata": {
        "colab": {
          "base_uri": "https://localhost:8080/",
          "height": 279
        },
        "id": "toCWukpHIxL2",
        "outputId": "55ac044e-63d3-4d9b-adfe-2afaade95fd3"
      },
      "execution_count": null,
      "outputs": [
        {
          "output_type": "display_data",
          "data": {
            "text/plain": [
              "<Figure size 432x288 with 1 Axes>"
            ],
            "image/png": "[encoded data removed]"
          },
          "metadata": {
            "needs_background": "light"
          }
        }
      ]
    },
    {
      "cell_type": "code",
      "source": [
        ""
      ],
      "metadata": {
        "id": "-f8DBPeoI6-6"
      },
      "execution_count": null,
      "outputs": []
    },
    {
      "cell_type": "markdown",
      "source": [
        "Adam Single Stochastic"
      ],
      "metadata": {
        "id": "ilS-gyhYI-Zz"
      }
    },
    {
      "cell_type": "code",
      "source": [
        "df3 = pd.DataFrame(columns=[\"X\",\"Y\",\"Y_Predict\"])\n",
        "df3[\"X\"] = np.linspace(0,20)\n",
        "df3[\"Y\"] = -1*df3[\"X\"]+2\n",
        "from sklearn.utils import shuffle\n",
        "df3 = shuffle(df3)\n",
        "df3.reset_index(inplace = True , drop=True)\n",
        "df3.head()"
      ],
      "metadata": {
        "colab": {
          "base_uri": "https://localhost:8080/",
          "height": 206
        },
        "id": "2Yi1p6kpJDu3",
        "outputId": "d8be6eb1-3286-4962-f060-30701fdcdf2d"
      },
      "execution_count": null,
      "outputs": [
        {
          "output_type": "execute_result",
          "data": {
            "text/plain": [
              "           X          Y Y_Predict\n",
              "0   8.979592  -6.979592       NaN\n",
              "1  15.510204 -13.510204       NaN\n",
              "2   0.000000   2.000000       NaN\n",
              "3  15.102041 -13.102041       NaN\n",
              "4   8.163265  -6.163265       NaN"
            ],
            "text/html": [
              "\n",
              "  <div id=\"df-1e75a14d-8070-4a13-96d9-c674b59d4e98\">\n",
              "    <div class=\"colab-df-container\">\n",
              "      <div>\n",
              "<style scoped>\n",
              "    .dataframe tbody tr th:only-of-type {\n",
              "        vertical-align: middle;\n",
              "    }\n",
              "\n",
              "    .dataframe tbody tr th {\n",
              "        vertical-align: top;\n",
              "    }\n",
              "\n",
              "    .dataframe thead th {\n",
              "        text-align: right;\n",
              "    }\n",
              "</style>\n",
              "<table border=\"1\" class=\"dataframe\">\n",
              "  <thead>\n",
              "    <tr style=\"text-align: right;\">\n",
              "      <th></th>\n",
              "      <th>X</th>\n",
              "      <th>Y</th>\n",
              "      <th>Y_Predict</th>\n",
              "    </tr>\n",
              "  </thead>\n",
              "  <tbody>\n",
              "    <tr>\n",
              "      <th>0</th>\n",
              "      <td>8.979592</td>\n",
              "      <td>-6.979592</td>\n",
              "      <td>NaN</td>\n",
              "    </tr>\n",
              "    <tr>\n",
              "      <th>1</th>\n",
              "      <td>15.510204</td>\n",
              "      <td>-13.510204</td>\n",
              "      <td>NaN</td>\n",
              "    </tr>\n",
              "    <tr>\n",
              "      <th>2</th>\n",
              "      <td>0.000000</td>\n",
              "      <td>2.000000</td>\n",
              "      <td>NaN</td>\n",
              "    </tr>\n",
              "    <tr>\n",
              "      <th>3</th>\n",
              "      <td>15.102041</td>\n",
              "      <td>-13.102041</td>\n",
              "      <td>NaN</td>\n",
              "    </tr>\n",
              "    <tr>\n",
              "      <th>4</th>\n",
              "      <td>8.163265</td>\n",
              "      <td>-6.163265</td>\n",
              "      <td>NaN</td>\n",
              "    </tr>\n",
              "  </tbody>\n",
              "</table>\n",
              "</div>\n",
              "      <button class=\"colab-df-convert\" onclick=\"convertToInteractive('df-1e75a14d-8070-4a13-96d9-c674b59d4e98')\"\n",
              "              title=\"Convert this dataframe to an interactive table.\"\n",
              "              style=\"display:none;\">\n",
              "        \n",
              "  <svg xmlns=\"http://www.w3.org/2000/svg\" height=\"24px\"viewBox=\"0 0 24 24\"\n",
              "       width=\"24px\">\n",
              "    <path d=\"M0 0h24v24H0V0z\" fill=\"none\"/>\n",
              "    <path d=\"M18.56 5.44l.94 2.06.94-2.06 2.06-.94-2.06-.94-.94-2.06-.94 2.06-2.06.94zm-11 1L8.5 8.5l.94-2.06 2.06-.94-2.06-.94L8.5 2.5l-.94 2.06-2.06.94zm10 10l.94 2.06.94-2.06 2.06-.94-2.06-.94-.94-2.06-.94 2.06-2.06.94z\"/><path d=\"M17.41 7.96l-1.37-1.37c-.4-.4-.92-.59-1.43-.59-.52 0-1.04.2-1.43.59L10.3 9.45l-7.72 7.72c-.78.78-.78 2.05 0 2.83L4 21.41c.39.39.9.59 1.41.59.51 0 1.02-.2 1.41-.59l7.78-7.78 2.81-2.81c.8-.78.8-2.07 0-2.86zM5.41 20L4 18.59l7.72-7.72 1.47 1.35L5.41 20z\"/>\n",
              "  </svg>\n",
              "      </button>\n",
              "      \n",
              "  <style>\n",
              "    .colab-df-container {\n",
              "      display:flex;\n",
              "      flex-wrap:wrap;\n",
              "      gap: 12px;\n",
              "    }\n",
              "\n",
              "    .colab-df-convert {\n",
              "      background-color: #E8F0FE;\n",
              "      border: none;\n",
              "      border-radius: 50%;\n",
              "      cursor: pointer;\n",
              "      display: none;\n",
              "      fill: #1967D2;\n",
              "      height: 32px;\n",
              "      padding: 0 0 0 0;\n",
              "      width: 32px;\n",
              "    }\n",
              "\n",
              "    .colab-df-convert:hover {\n",
              "      background-color: #E2EBFA;\n",
              "      box-shadow: 0px 1px 2px rgba(60, 64, 67, 0.3), 0px 1px 3px 1px rgba(60, 64, 67, 0.15);\n",
              "      fill: #174EA6;\n",
              "    }\n",
              "\n",
              "    [theme=dark] .colab-df-convert {\n",
              "      background-color: #3B4455;\n",
              "      fill: #D2E3FC;\n",
              "    }\n",
              "\n",
              "    [theme=dark] .colab-df-convert:hover {\n",
              "      background-color: #434B5C;\n",
              "      box-shadow: 0px 1px 3px 1px rgba(0, 0, 0, 0.15);\n",
              "      filter: drop-shadow(0px 1px 2px rgba(0, 0, 0, 0.3));\n",
              "      fill: #FFFFFF;\n",
              "    }\n",
              "  </style>\n",
              "\n",
              "      <script>\n",
              "        const buttonEl =\n",
              "          document.querySelector('#df-1e75a14d-8070-4a13-96d9-c674b59d4e98 button.colab-df-convert');\n",
              "        buttonEl.style.display =\n",
              "          google.colab.kernel.accessAllowed ? 'block' : 'none';\n",
              "\n",
              "        async function convertToInteractive(key) {\n",
              "          const element = document.querySelector('#df-1e75a14d-8070-4a13-96d9-c674b59d4e98');\n",
              "          const dataTable =\n",
              "            await google.colab.kernel.invokeFunction('convertToInteractive',\n",
              "                                                     [key], {});\n",
              "          if (!dataTable) return;\n",
              "\n",
              "          const docLinkHtml = 'Like what you see? Visit the ' +\n",
              "            '<a target=\"_blank\" href=https://colab.research.google.com/notebooks/data_table.ipynb>data table notebook</a>'\n",
              "            + ' to learn more about interactive tables.';\n",
              "          element.innerHTML = '';\n",
              "          dataTable['output_type'] = 'display_data';\n",
              "          await google.colab.output.renderOutput(dataTable, element);\n",
              "          const docLink = document.createElement('div');\n",
              "          docLink.innerHTML = docLinkHtml;\n",
              "          element.appendChild(docLink);\n",
              "        }\n",
              "      </script>\n",
              "    </div>\n",
              "  </div>\n",
              "  "
            ]
          },
          "metadata": {},
          "execution_count": 215
        }
      ]
    },
    {
      "cell_type": "code",
      "source": [
        "def Adam_Single_Stochastic(df2,alpha,eps):\n",
        "  theta_0 = 0\n",
        "  theta_1 = 0\n",
        "  theta0List = []\n",
        "  theta1List = []\n",
        "  CostList = []\n",
        "  gamma1 = 0.9\n",
        "  gamma2 = 0.999\n",
        "  vt0 = 0\n",
        "  vt1 = 0\n",
        "  mt0 = 0\n",
        "  mt1 = 0\n",
        "  CostPrev = 0\n",
        "  end = False\n",
        "  for i in range(10000):\n",
        "    for j in range(df2.shape[0]):\n",
        "      maxIter= i*j\n",
        "      theta0List.append(theta_0)\n",
        "      theta1List.append(theta_1)\n",
        "      df2.loc[j,\"Y_Predict\"] = theta_0+theta_1*df2.loc[j,\"X\"]\n",
        "      Cost = ((df2.loc[j,\"Y_Predict\"] - df2.loc[j,\"Y\"])**2)/2   \n",
        "      CostList.append(Cost)   \n",
        "      Gradient_Theta_0 = df2.loc[j,\"Y_Predict\"] - df2.loc[j,\"Y\"]\n",
        "      Gradient_Theta_1 = (df2.loc[j,\"Y_Predict\"] - df2.loc[j,\"Y\"])*df2.loc[j,\"X\"]\n",
        "      mt0 = (gamma1 * mt0) + (1 - gamma1)*(Gradient_Theta_0)\n",
        "      mt1 = (gamma1 * mt1) + (1 - gamma1)*(Gradient_Theta_1)\n",
        "      #mt0 = mt0 / (1 - gamma1)\n",
        "      #mt1 = mt1 / (1 - gamma1)\n",
        "      vt0 = (gamma2 * vt0) +(1-gamma2)*(Gradient_Theta_0**2)\n",
        "      vt1 = (gamma2 * vt1) +(1-gamma2)*(Gradient_Theta_1**2)\n",
        "      theta_0 -= (alpha * mt0)/(math.sqrt(vt0)+eps)\n",
        "      theta_1 -= (alpha * mt1)/(math.sqrt(vt1)+eps)\n",
        "    if abs(Cost - CostPrev)<0.001:\n",
        "        end = True\n",
        "    else:\n",
        "      CostPrev = Cost   \n",
        "    if end:\n",
        "      break\n",
        "  return theta0List,theta1List,CostList,theta_0,theta_1\n",
        "\n"
      ],
      "metadata": {
        "id": "ul7CTNqyJmlG"
      },
      "execution_count": null,
      "outputs": []
    },
    {
      "cell_type": "code",
      "source": [
        "theta_0_List,theta_1_List,Cost_List,theta_0,theta_1 = Adam_Single_Stochastic(df3,0.01,1e-8)"
      ],
      "metadata": {
        "id": "-FJVkWchKADz"
      },
      "execution_count": null,
      "outputs": []
    },
    {
      "cell_type": "code",
      "source": [
        "from sklearn.metrics import r2_score\n",
        "print(r2_score(df3[\"Y\"], df3[\"Y_Predict\"]))"
      ],
      "metadata": {
        "colab": {
          "base_uri": "https://localhost:8080/"
        },
        "id": "WfgDABZGKG79",
        "outputId": "9f5fb206-e209-4e1b-dcff-d5510fec4c29"
      },
      "execution_count": null,
      "outputs": [
        {
          "output_type": "stream",
          "name": "stdout",
          "text": [
            "0.9997785205204545\n"
          ]
        }
      ]
    },
    {
      "cell_type": "code",
      "source": [
        "ax = plt.axes()\n",
        "ax.scatter(df3[\"X\"],df3[\"Y\"])\n",
        "ax.plot(df3[\"X\"],df3[\"Y_Predict\"])\n",
        "plt.show()"
      ],
      "metadata": {
        "colab": {
          "base_uri": "https://localhost:8080/",
          "height": 265
        },
        "id": "1MoaEW7kKO2O",
        "outputId": "64666f39-9d2b-4d76-8450-83e4c3c3cfe5"
      },
      "execution_count": null,
      "outputs": [
        {
          "output_type": "display_data",
          "data": {
            "text/plain": [
              "<Figure size 432x288 with 1 Axes>"
            ],
            "image/png": "[encoded data removed]"
          },
          "metadata": {
            "needs_background": "light"
          }
        }
      ]
    },
    {
      "cell_type": "code",
      "source": [
        "plt.plot(theta_0_List,Cost_List)\n",
        "plt.xlabel(\"Theta 0\")\n",
        "plt.ylabel(\"Cost Value\")\n",
        "plt.show()"
      ],
      "metadata": {
        "colab": {
          "base_uri": "https://localhost:8080/",
          "height": 279
        },
        "id": "pS-Rr_IvKRUg",
        "outputId": "391cb5c7-2964-4fff-9410-f031c60a8d8f"
      },
      "execution_count": null,
      "outputs": [
        {
          "output_type": "display_data",
          "data": {
            "text/plain": [
              "<Figure size 432x288 with 1 Axes>"
            ],
            "image/png": "[encoded data removed]"
          },
          "metadata": {
            "needs_background": "light"
          }
        }
      ]
    },
    {
      "cell_type": "code",
      "source": [
        "plt.plot(theta_1_List,Cost_List)\n",
        "plt.xlabel(\"Theta 1\")\n",
        "plt.ylabel(\"Cost Value\")\n",
        "plt.show()"
      ],
      "metadata": {
        "colab": {
          "base_uri": "https://localhost:8080/",
          "height": 279
        },
        "id": "NO3GhxwcKULW",
        "outputId": "d14b1785-cfea-431b-b1d1-5fb57c3f3f03"
      },
      "execution_count": null,
      "outputs": [
        {
          "output_type": "display_data",
          "data": {
            "text/plain": [
              "<Figure size 432x288 with 1 Axes>"
            ],
            "image/png": "[encoded data removed]"
          },
          "metadata": {
            "needs_background": "light"
          }
        }
      ]
    },
    {
      "cell_type": "code",
      "source": [
        ""
      ],
      "metadata": {
        "id": "9C_6Zd9WKXHv"
      },
      "execution_count": null,
      "outputs": []
    },
    {
      "cell_type": "markdown",
      "source": [
        "Adam Multi MiniBatch"
      ],
      "metadata": {
        "id": "FUC2lnI8KlhX"
      }
    },
    {
      "cell_type": "code",
      "source": [
        "df4 = pd.read_csv(\"MultipleLR.csv\",names = [\"X1\",\"X2\",\"X3\",\"Y\"])\n",
        "from sklearn.utils import shuffle\n",
        "df4 = shuffle(df4)\n",
        "df4.reset_index(inplace = True , drop=True)\n",
        "df4.head()"
      ],
      "metadata": {
        "colab": {
          "base_uri": "https://localhost:8080/",
          "height": 206
        },
        "id": "xeCYJJAGKo3W",
        "outputId": "1ac9b15f-faa2-4f49-c0bc-f8dd8fd90206"
      },
      "execution_count": null,
      "outputs": [
        {
          "output_type": "execute_result",
          "data": {
            "text/plain": [
              "   X1  X2   X3    Y\n",
              "0  73  80   75  152\n",
              "1  89  91   90  180\n",
              "2  96  98  100  196\n",
              "3  86  82   89  175\n",
              "4  96  93   95  192"
            ],
            "text/html": [
              "\n",
              "  <div id=\"df-26af1823-fd0d-4fbc-9548-7ffaca01e9bc\">\n",
              "    <div class=\"colab-df-container\">\n",
              "      <div>\n",
              "<style scoped>\n",
              "    .dataframe tbody tr th:only-of-type {\n",
              "        vertical-align: middle;\n",
              "    }\n",
              "\n",
              "    .dataframe tbody tr th {\n",
              "        vertical-align: top;\n",
              "    }\n",
              "\n",
              "    .dataframe thead th {\n",
              "        text-align: right;\n",
              "    }\n",
              "</style>\n",
              "<table border=\"1\" class=\"dataframe\">\n",
              "  <thead>\n",
              "    <tr style=\"text-align: right;\">\n",
              "      <th></th>\n",
              "      <th>X1</th>\n",
              "      <th>X2</th>\n",
              "      <th>X3</th>\n",
              "      <th>Y</th>\n",
              "    </tr>\n",
              "  </thead>\n",
              "  <tbody>\n",
              "    <tr>\n",
              "      <th>0</th>\n",
              "      <td>73</td>\n",
              "      <td>80</td>\n",
              "      <td>75</td>\n",
              "      <td>152</td>\n",
              "    </tr>\n",
              "    <tr>\n",
              "      <th>1</th>\n",
              "      <td>89</td>\n",
              "      <td>91</td>\n",
              "      <td>90</td>\n",
              "      <td>180</td>\n",
              "    </tr>\n",
              "    <tr>\n",
              "      <th>2</th>\n",
              "      <td>96</td>\n",
              "      <td>98</td>\n",
              "      <td>100</td>\n",
              "      <td>196</td>\n",
              "    </tr>\n",
              "    <tr>\n",
              "      <th>3</th>\n",
              "      <td>86</td>\n",
              "      <td>82</td>\n",
              "      <td>89</td>\n",
              "      <td>175</td>\n",
              "    </tr>\n",
              "    <tr>\n",
              "      <th>4</th>\n",
              "      <td>96</td>\n",
              "      <td>93</td>\n",
              "      <td>95</td>\n",
              "      <td>192</td>\n",
              "    </tr>\n",
              "  </tbody>\n",
              "</table>\n",
              "</div>\n",
              "      <button class=\"colab-df-convert\" onclick=\"convertToInteractive('df-26af1823-fd0d-4fbc-9548-7ffaca01e9bc')\"\n",
              "              title=\"Convert this dataframe to an interactive table.\"\n",
              "              style=\"display:none;\">\n",
              "        \n",
              "  <svg xmlns=\"http://www.w3.org/2000/svg\" height=\"24px\"viewBox=\"0 0 24 24\"\n",
              "       width=\"24px\">\n",
              "    <path d=\"M0 0h24v24H0V0z\" fill=\"none\"/>\n",
              "    <path d=\"M18.56 5.44l.94 2.06.94-2.06 2.06-.94-2.06-.94-.94-2.06-.94 2.06-2.06.94zm-11 1L8.5 8.5l.94-2.06 2.06-.94-2.06-.94L8.5 2.5l-.94 2.06-2.06.94zm10 10l.94 2.06.94-2.06 2.06-.94-2.06-.94-.94-2.06-.94 2.06-2.06.94z\"/><path d=\"M17.41 7.96l-1.37-1.37c-.4-.4-.92-.59-1.43-.59-.52 0-1.04.2-1.43.59L10.3 9.45l-7.72 7.72c-.78.78-.78 2.05 0 2.83L4 21.41c.39.39.9.59 1.41.59.51 0 1.02-.2 1.41-.59l7.78-7.78 2.81-2.81c.8-.78.8-2.07 0-2.86zM5.41 20L4 18.59l7.72-7.72 1.47 1.35L5.41 20z\"/>\n",
              "  </svg>\n",
              "      </button>\n",
              "      \n",
              "  <style>\n",
              "    .colab-df-container {\n",
              "      display:flex;\n",
              "      flex-wrap:wrap;\n",
              "      gap: 12px;\n",
              "    }\n",
              "\n",
              "    .colab-df-convert {\n",
              "      background-color: #E8F0FE;\n",
              "      border: none;\n",
              "      border-radius: 50%;\n",
              "      cursor: pointer;\n",
              "      display: none;\n",
              "      fill: #1967D2;\n",
              "      height: 32px;\n",
              "      padding: 0 0 0 0;\n",
              "      width: 32px;\n",
              "    }\n",
              "\n",
              "    .colab-df-convert:hover {\n",
              "      background-color: #E2EBFA;\n",
              "      box-shadow: 0px 1px 2px rgba(60, 64, 67, 0.3), 0px 1px 3px 1px rgba(60, 64, 67, 0.15);\n",
              "      fill: #174EA6;\n",
              "    }\n",
              "\n",
              "    [theme=dark] .colab-df-convert {\n",
              "      background-color: #3B4455;\n",
              "      fill: #D2E3FC;\n",
              "    }\n",
              "\n",
              "    [theme=dark] .colab-df-convert:hover {\n",
              "      background-color: #434B5C;\n",
              "      box-shadow: 0px 1px 3px 1px rgba(0, 0, 0, 0.15);\n",
              "      filter: drop-shadow(0px 1px 2px rgba(0, 0, 0, 0.3));\n",
              "      fill: #FFFFFF;\n",
              "    }\n",
              "  </style>\n",
              "\n",
              "      <script>\n",
              "        const buttonEl =\n",
              "          document.querySelector('#df-26af1823-fd0d-4fbc-9548-7ffaca01e9bc button.colab-df-convert');\n",
              "        buttonEl.style.display =\n",
              "          google.colab.kernel.accessAllowed ? 'block' : 'none';\n",
              "\n",
              "        async function convertToInteractive(key) {\n",
              "          const element = document.querySelector('#df-26af1823-fd0d-4fbc-9548-7ffaca01e9bc');\n",
              "          const dataTable =\n",
              "            await google.colab.kernel.invokeFunction('convertToInteractive',\n",
              "                                                     [key], {});\n",
              "          if (!dataTable) return;\n",
              "\n",
              "          const docLinkHtml = 'Like what you see? Visit the ' +\n",
              "            '<a target=\"_blank\" href=https://colab.research.google.com/notebooks/data_table.ipynb>data table notebook</a>'\n",
              "            + ' to learn more about interactive tables.';\n",
              "          element.innerHTML = '';\n",
              "          dataTable['output_type'] = 'display_data';\n",
              "          await google.colab.output.renderOutput(dataTable, element);\n",
              "          const docLink = document.createElement('div');\n",
              "          docLink.innerHTML = docLinkHtml;\n",
              "          element.appendChild(docLink);\n",
              "        }\n",
              "      </script>\n",
              "    </div>\n",
              "  </div>\n",
              "  "
            ]
          },
          "metadata": {},
          "execution_count": 222
        }
      ]
    },
    {
      "cell_type": "code",
      "source": [
        "def Adam_Multi_MiniBatch(df3,alpha,eps):\n",
        "    thetas = np.array([0,0,0,0],dtype = np.float64)\n",
        "    Vts = np.array([0,0,0,0],dtype = np.float64)\n",
        "    df3.insert(loc = 0,column = \"X0\",value = 1)\n",
        "    predictors= list(df3.iloc[:,:4].columns)\n",
        "    CostList = []\n",
        "    CostPrev = 0\n",
        "    thetaList = []\n",
        "    gamma1 = 0.9\n",
        "    gamma2 = 0.999\n",
        "    mts = np.array([0,0,0,0],dtype=np.float64)\n",
        "    batchSize = len(df3)//5\n",
        "    end = False\n",
        "    for i in range(200):\n",
        "      for j in range(0,df3.shape[0],batchSize):\n",
        "        thetaList.append(thetas[0])\n",
        "        df3.loc[j:j+batchSize-1,\"Y_Predict\"]= df3.loc[j:j+batchSize-1,predictors].dot(thetas)\n",
        "        Cost = sum(( df3.loc[j:j+batchSize-1,\"Y_Predict\"]- df3.loc[j:j+batchSize-1,\"Y\"])**2)/(2*batchSize)\n",
        "        CostList.append(Cost) \n",
        "        GradientList= []\n",
        "        for k in predictors:\n",
        "            GradientList.append(sum(( df3.loc[j:j+batchSize-1,\"Y_Predict\"] - df3.loc[j:j+batchSize-1,\"Y\"])*df3.loc[j:j+batchSize-1,k])/batchSize)\n",
        "\n",
        "      mts = (gamma1 * mts) + (1 - gamma1) * (np.array(GradientList))\n",
        "      Vts = (gamma2 * Vts) + (1 - gamma2) * (np.array(GradientList)**2)\n",
        "      thetas -= (alpha * mts)/((Vts**0.5)+eps)\n",
        "       \n",
        "      if abs(Cost - CostPrev)<0.001:\n",
        "        end = True\n",
        "      else:\n",
        "        CostPrev = Cost   \n",
        "      if end:\n",
        "        break\n",
        "    return CostList,thetas,thetaList"
      ],
      "metadata": {
        "id": "GwhbhcexKsdC"
      },
      "execution_count": null,
      "outputs": []
    },
    {
      "cell_type": "code",
      "source": [
        "CostList,thetas,thetaList = Adam_Multi_MiniBatch(df4,0.01,1e-8)"
      ],
      "metadata": {
        "id": "imJ7W5t6MPis"
      },
      "execution_count": null,
      "outputs": []
    },
    {
      "cell_type": "code",
      "source": [
        "from sklearn.metrics import r2_score\n",
        "print(r2_score(df4[\"Y\"], df4[\"Y_Predict\"]))"
      ],
      "metadata": {
        "colab": {
          "base_uri": "https://localhost:8080/"
        },
        "id": "vB2pAg55MTXq",
        "outputId": "458f74b2-a5b1-4565-ad2e-e4914b3f1c38"
      },
      "execution_count": null,
      "outputs": [
        {
          "output_type": "stream",
          "name": "stdout",
          "text": [
            "0.9704155054034229\n"
          ]
        }
      ]
    },
    {
      "cell_type": "code",
      "source": [
        "plt.plot(thetaList,CostList)\n",
        "plt.xlabel(\"Iteration\")\n",
        "plt.ylabel(\"Cost Value\")\n",
        "plt.show()"
      ],
      "metadata": {
        "colab": {
          "base_uri": "https://localhost:8080/",
          "height": 279
        },
        "id": "ayWpgpP4BpZj",
        "outputId": "1f6822fa-14df-47bd-bbf0-946390fcf4f7"
      },
      "execution_count": null,
      "outputs": [
        {
          "output_type": "display_data",
          "data": {
            "text/plain": [
              "<Figure size 432x288 with 1 Axes>"
            ],
            "image/png": "[encoded data removed]"
          },
          "metadata": {
            "needs_background": "light"
          }
        }
      ]
    },
    {
      "cell_type": "code",
      "source": [
        "plt.plot(range(len(CostList)),CostList)\n",
        "plt.xlabel(\"Iteration\")\n",
        "plt.ylabel(\"Cost Value\")\n",
        "plt.show()"
      ],
      "metadata": {
        "colab": {
          "base_uri": "https://localhost:8080/",
          "height": 279
        },
        "id": "_TnJ0HR4MZ_h",
        "outputId": "45429e6e-1776-4748-8e2c-5d20fbc5f061"
      },
      "execution_count": null,
      "outputs": [
        {
          "output_type": "display_data",
          "data": {
            "text/plain": [
              "<Figure size 432x288 with 1 Axes>"
            ],
            "image/png": "[encoded data removed]"
          },
          "metadata": {
            "needs_background": "light"
          }
        }
      ]
    },
    {
      "cell_type": "code",
      "source": [
        ""
      ],
      "metadata": {
        "id": "uiPa7wxdMduK"
      },
      "execution_count": null,
      "outputs": []
    },
    {
      "cell_type": "markdown",
      "source": [
        "Adam Multi Stochastic"
      ],
      "metadata": {
        "id": "d9elKFFgMhKy"
      }
    },
    {
      "cell_type": "code",
      "source": [
        "df5 = pd.read_csv(\"MultipleLR.csv\",names = [\"X1\",\"X2\",\"X3\",\"Y\"])\n",
        "from sklearn.utils import shuffle\n",
        "df5 = shuffle(df5)\n",
        "df5.reset_index(inplace = True , drop=True)\n",
        "df5.head()"
      ],
      "metadata": {
        "colab": {
          "base_uri": "https://localhost:8080/",
          "height": 206
        },
        "id": "VgcoJVH2MjA4",
        "outputId": "d4708799-d36a-403f-8b09-0dcc3b35a8b1"
      },
      "execution_count": null,
      "outputs": [
        {
          "output_type": "execute_result",
          "data": {
            "text/plain": [
              "   X1  X2  X3    Y\n",
              "0  78  83  77  159\n",
              "1  69  70  73  141\n",
              "2  86  82  89  175\n",
              "3  81  90  93  183\n",
              "4  82  86  90  177"
            ],
            "text/html": [
              "\n",
              "  <div id=\"df-86647593-d045-400c-a1ad-50690c01453b\">\n",
              "    <div class=\"colab-df-container\">\n",
              "      <div>\n",
              "<style scoped>\n",
              "    .dataframe tbody tr th:only-of-type {\n",
              "        vertical-align: middle;\n",
              "    }\n",
              "\n",
              "    .dataframe tbody tr th {\n",
              "        vertical-align: top;\n",
              "    }\n",
              "\n",
              "    .dataframe thead th {\n",
              "        text-align: right;\n",
              "    }\n",
              "</style>\n",
              "<table border=\"1\" class=\"dataframe\">\n",
              "  <thead>\n",
              "    <tr style=\"text-align: right;\">\n",
              "      <th></th>\n",
              "      <th>X1</th>\n",
              "      <th>X2</th>\n",
              "      <th>X3</th>\n",
              "      <th>Y</th>\n",
              "    </tr>\n",
              "  </thead>\n",
              "  <tbody>\n",
              "    <tr>\n",
              "      <th>0</th>\n",
              "      <td>78</td>\n",
              "      <td>83</td>\n",
              "      <td>77</td>\n",
              "      <td>159</td>\n",
              "    </tr>\n",
              "    <tr>\n",
              "      <th>1</th>\n",
              "      <td>69</td>\n",
              "      <td>70</td>\n",
              "      <td>73</td>\n",
              "      <td>141</td>\n",
              "    </tr>\n",
              "    <tr>\n",
              "      <th>2</th>\n",
              "      <td>86</td>\n",
              "      <td>82</td>\n",
              "      <td>89</td>\n",
              "      <td>175</td>\n",
              "    </tr>\n",
              "    <tr>\n",
              "      <th>3</th>\n",
              "      <td>81</td>\n",
              "      <td>90</td>\n",
              "      <td>93</td>\n",
              "      <td>183</td>\n",
              "    </tr>\n",
              "    <tr>\n",
              "      <th>4</th>\n",
              "      <td>82</td>\n",
              "      <td>86</td>\n",
              "      <td>90</td>\n",
              "      <td>177</td>\n",
              "    </tr>\n",
              "  </tbody>\n",
              "</table>\n",
              "</div>\n",
              "      <button class=\"colab-df-convert\" onclick=\"convertToInteractive('df-86647593-d045-400c-a1ad-50690c01453b')\"\n",
              "              title=\"Convert this dataframe to an interactive table.\"\n",
              "              style=\"display:none;\">\n",
              "        \n",
              "  <svg xmlns=\"http://www.w3.org/2000/svg\" height=\"24px\"viewBox=\"0 0 24 24\"\n",
              "       width=\"24px\">\n",
              "    <path d=\"M0 0h24v24H0V0z\" fill=\"none\"/>\n",
              "    <path d=\"M18.56 5.44l.94 2.06.94-2.06 2.06-.94-2.06-.94-.94-2.06-.94 2.06-2.06.94zm-11 1L8.5 8.5l.94-2.06 2.06-.94-2.06-.94L8.5 2.5l-.94 2.06-2.06.94zm10 10l.94 2.06.94-2.06 2.06-.94-2.06-.94-.94-2.06-.94 2.06-2.06.94z\"/><path d=\"M17.41 7.96l-1.37-1.37c-.4-.4-.92-.59-1.43-.59-.52 0-1.04.2-1.43.59L10.3 9.45l-7.72 7.72c-.78.78-.78 2.05 0 2.83L4 21.41c.39.39.9.59 1.41.59.51 0 1.02-.2 1.41-.59l7.78-7.78 2.81-2.81c.8-.78.8-2.07 0-2.86zM5.41 20L4 18.59l7.72-7.72 1.47 1.35L5.41 20z\"/>\n",
              "  </svg>\n",
              "      </button>\n",
              "      \n",
              "  <style>\n",
              "    .colab-df-container {\n",
              "      display:flex;\n",
              "      flex-wrap:wrap;\n",
              "      gap: 12px;\n",
              "    }\n",
              "\n",
              "    .colab-df-convert {\n",
              "      background-color: #E8F0FE;\n",
              "      border: none;\n",
              "      border-radius: 50%;\n",
              "      cursor: pointer;\n",
              "      display: none;\n",
              "      fill: #1967D2;\n",
              "      height: 32px;\n",
              "      padding: 0 0 0 0;\n",
              "      width: 32px;\n",
              "    }\n",
              "\n",
              "    .colab-df-convert:hover {\n",
              "      background-color: #E2EBFA;\n",
              "      box-shadow: 0px 1px 2px rgba(60, 64, 67, 0.3), 0px 1px 3px 1px rgba(60, 64, 67, 0.15);\n",
              "      fill: #174EA6;\n",
              "    }\n",
              "\n",
              "    [theme=dark] .colab-df-convert {\n",
              "      background-color: #3B4455;\n",
              "      fill: #D2E3FC;\n",
              "    }\n",
              "\n",
              "    [theme=dark] .colab-df-convert:hover {\n",
              "      background-color: #434B5C;\n",
              "      box-shadow: 0px 1px 3px 1px rgba(0, 0, 0, 0.15);\n",
              "      filter: drop-shadow(0px 1px 2px rgba(0, 0, 0, 0.3));\n",
              "      fill: #FFFFFF;\n",
              "    }\n",
              "  </style>\n",
              "\n",
              "      <script>\n",
              "        const buttonEl =\n",
              "          document.querySelector('#df-86647593-d045-400c-a1ad-50690c01453b button.colab-df-convert');\n",
              "        buttonEl.style.display =\n",
              "          google.colab.kernel.accessAllowed ? 'block' : 'none';\n",
              "\n",
              "        async function convertToInteractive(key) {\n",
              "          const element = document.querySelector('#df-86647593-d045-400c-a1ad-50690c01453b');\n",
              "          const dataTable =\n",
              "            await google.colab.kernel.invokeFunction('convertToInteractive',\n",
              "                                                     [key], {});\n",
              "          if (!dataTable) return;\n",
              "\n",
              "          const docLinkHtml = 'Like what you see? Visit the ' +\n",
              "            '<a target=\"_blank\" href=https://colab.research.google.com/notebooks/data_table.ipynb>data table notebook</a>'\n",
              "            + ' to learn more about interactive tables.';\n",
              "          element.innerHTML = '';\n",
              "          dataTable['output_type'] = 'display_data';\n",
              "          await google.colab.output.renderOutput(dataTable, element);\n",
              "          const docLink = document.createElement('div');\n",
              "          docLink.innerHTML = docLinkHtml;\n",
              "          element.appendChild(docLink);\n",
              "        }\n",
              "      </script>\n",
              "    </div>\n",
              "  </div>\n",
              "  "
            ]
          },
          "metadata": {},
          "execution_count": 228
        }
      ]
    },
    {
      "cell_type": "code",
      "source": [
        "def Adam_Multi_Stochastic(df2,alpha,eps):\n",
        "  thetas = np.array([0,0,0,0],dtype = np.float64)\n",
        "  df2.insert(loc = 0,column = \"X0\",value = 1)\n",
        "  predictors= list(df2.iloc[:,:4].columns)\n",
        "  mts = np.array([0,0,0,0],dtype=np.float64)\n",
        "  Vts = np.array([0,0,0,0],dtype = np.float64)\n",
        "  CostList = []\n",
        "  CostPrev = 0\n",
        "  gamma1 = 0.9\n",
        "  gamma2 = 0.999\n",
        "  end = False\n",
        "  for i in range(200):\n",
        "    for j in range(df2.shape[0]):\n",
        "      df2.loc[j,\"Y_Predict\"] = df2.loc[j,predictors].dot(thetas)\n",
        "      Cost = ((df2.loc[j,\"Y_Predict\"] - df2.loc[j,\"Y\"])**2)/2   \n",
        "      CostList.append(Cost)   \n",
        "      GradientList= []\n",
        "      for k in predictors:\n",
        "        GradientList.append((df2.loc[j,\"Y_Predict\"]-df2.loc[j,\"Y\"])*df2.loc[j,k])\n",
        "      mts = (gamma1 * mts) + (1 - gamma1) * (np.array(GradientList))\n",
        "      Vts = (gamma2 * Vts) + (1 - gamma2) * (np.array(GradientList)**2)\n",
        "      thetas -= (alpha * mts)/((Vts**0.5)+eps)\n",
        "    if abs(Cost - CostPrev)<0.001:\n",
        "        end = True\n",
        "    else:\n",
        "      CostPrev = Cost   \n",
        "    if end:\n",
        "      break\n",
        "  return CostList,thetas\n",
        "\n"
      ],
      "metadata": {
        "id": "q7tnbdl3NXCw"
      },
      "execution_count": null,
      "outputs": []
    },
    {
      "cell_type": "code",
      "source": [
        "CostList,thetas = Adam_Multi_Stochastic(df5,0.01,1e-8)"
      ],
      "metadata": {
        "id": "GMFdi2UVNmno"
      },
      "execution_count": null,
      "outputs": []
    },
    {
      "cell_type": "code",
      "source": [
        "from sklearn.metrics import r2_score\n",
        "print(r2_score(df5[\"Y\"], df5[\"Y_Predict\"]))"
      ],
      "metadata": {
        "colab": {
          "base_uri": "https://localhost:8080/"
        },
        "id": "lv9wK9lUNtHO",
        "outputId": "89c3cae5-1710-4dee-dc17-286993ddbba8"
      },
      "execution_count": null,
      "outputs": [
        {
          "output_type": "stream",
          "name": "stdout",
          "text": [
            "0.9769754878755371\n"
          ]
        }
      ]
    },
    {
      "cell_type": "code",
      "source": [
        "plt.plot(range(len(CostList)),CostList)\n",
        "plt.xlabel(\"Iteration\")\n",
        "plt.ylabel(\"Cost Value\")\n",
        "plt.show()"
      ],
      "metadata": {
        "colab": {
          "base_uri": "https://localhost:8080/",
          "height": 279
        },
        "id": "aM4YlaT1N7xj",
        "outputId": "286719e8-6f9e-46e8-8ce9-701ea9cd4d18"
      },
      "execution_count": null,
      "outputs": [
        {
          "output_type": "display_data",
          "data": {
            "text/plain": [
              "<Figure size 432x288 with 1 Axes>"
            ],
            "image/png": "[encoded data removed]"
          },
          "metadata": {
            "needs_background": "light"
          }
        }
      ]
    },
    {
      "cell_type": "code",
      "source": [
        ""
      ],
      "metadata": {
        "id": "JhZU9x_LOA_1"
      },
      "execution_count": null,
      "outputs": []
    }
  ]
}