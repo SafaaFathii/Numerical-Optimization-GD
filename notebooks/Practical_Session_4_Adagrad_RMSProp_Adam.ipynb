{
  "cells": [
    {
      "cell_type": "markdown",
      "metadata": {
        "id": "view-in-github",
        "colab_type": "text"
      },
      "source": [
        "<a href=\"https://colab.research.google.com/github/SafaaFathii/Numerical-Optimization-GD/blob/main/notebooks/Practical_Session_4_Adagrad_RMSProp_Adam.ipynb\" target=\"_parent\"><img src=\"https://colab.research.google.com/assets/colab-badge.svg\" alt=\"Open In Colab\"/></a>"
      ]
    },
    {
      "cell_type": "markdown",
      "metadata": {
        "id": "ZSqLYPpp8umf"
      },
      "source": [
        "## Practical Work 4"
      ]
    },
    {
      "cell_type": "markdown",
      "metadata": {
        "id": "tuzqR_QT8umo"
      },
      "source": [
        "For this practical work, the student will have to develop a Python program that is able to implement the accelerated gradient descent methods with adaptive learning rate <b>(Adagrad, RMSProp, and Adam)</b> in order to achieve the linear regression of a set of datapoints."
      ]
    },
    {
      "cell_type": "markdown",
      "metadata": {
        "id": "LAeso7xj8ump"
      },
      "source": [
        "#### Import numpy, matplotlib.pyplot and make it inline"
      ]
    },
    {
      "cell_type": "code",
      "execution_count": null,
      "metadata": {
        "id": "C423L3PI8umq"
      },
      "outputs": [],
      "source": [
        "import numpy as np\n",
        "import pandas as pd\n",
        "import math\n",
        "import matplotlib.pyplot as plt"
      ]
    },
    {
      "cell_type": "markdown",
      "metadata": {
        "id": "ghCdloN28ums"
      },
      "source": [
        "To have a dataset or set of data points, the student must generate a pair of arrays <b>X</b> and <b>y</b> with the values in <b>X</b> equally distributed between <b>0</b> and <b>20</b> and the values in <b>y</b> such that: \n",
        "<b>yi = a*xi + b (and a = -1, b = 2)</b>\n"
      ]
    },
    {
      "cell_type": "code",
      "execution_count": null,
      "metadata": {
        "id": "_waYuRad8ums",
        "outputId": "25db9de9-1318-4091-b12d-d77226db9197"
      },
      "outputs": [
        {
          "data": {
            "text/html": [
              "<div>\n",
              "<style scoped>\n",
              "    .dataframe tbody tr th:only-of-type {\n",
              "        vertical-align: middle;\n",
              "    }\n",
              "\n",
              "    .dataframe tbody tr th {\n",
              "        vertical-align: top;\n",
              "    }\n",
              "\n",
              "    .dataframe thead th {\n",
              "        text-align: right;\n",
              "    }\n",
              "</style>\n",
              "<table border=\"1\" class=\"dataframe\">\n",
              "  <thead>\n",
              "    <tr style=\"text-align: right;\">\n",
              "      <th></th>\n",
              "      <th>X</th>\n",
              "      <th>Y</th>\n",
              "    </tr>\n",
              "  </thead>\n",
              "  <tbody>\n",
              "    <tr>\n",
              "      <th>0</th>\n",
              "      <td>0.000000</td>\n",
              "      <td>2.000000</td>\n",
              "    </tr>\n",
              "    <tr>\n",
              "      <th>1</th>\n",
              "      <td>0.408163</td>\n",
              "      <td>1.591837</td>\n",
              "    </tr>\n",
              "    <tr>\n",
              "      <th>2</th>\n",
              "      <td>0.816327</td>\n",
              "      <td>1.183673</td>\n",
              "    </tr>\n",
              "    <tr>\n",
              "      <th>3</th>\n",
              "      <td>1.224490</td>\n",
              "      <td>0.775510</td>\n",
              "    </tr>\n",
              "    <tr>\n",
              "      <th>4</th>\n",
              "      <td>1.632653</td>\n",
              "      <td>0.367347</td>\n",
              "    </tr>\n",
              "    <tr>\n",
              "      <th>5</th>\n",
              "      <td>2.040816</td>\n",
              "      <td>-0.040816</td>\n",
              "    </tr>\n",
              "    <tr>\n",
              "      <th>6</th>\n",
              "      <td>2.448980</td>\n",
              "      <td>-0.448980</td>\n",
              "    </tr>\n",
              "    <tr>\n",
              "      <th>7</th>\n",
              "      <td>2.857143</td>\n",
              "      <td>-0.857143</td>\n",
              "    </tr>\n",
              "    <tr>\n",
              "      <th>8</th>\n",
              "      <td>3.265306</td>\n",
              "      <td>-1.265306</td>\n",
              "    </tr>\n",
              "    <tr>\n",
              "      <th>9</th>\n",
              "      <td>3.673469</td>\n",
              "      <td>-1.673469</td>\n",
              "    </tr>\n",
              "    <tr>\n",
              "      <th>10</th>\n",
              "      <td>4.081633</td>\n",
              "      <td>-2.081633</td>\n",
              "    </tr>\n",
              "    <tr>\n",
              "      <th>11</th>\n",
              "      <td>4.489796</td>\n",
              "      <td>-2.489796</td>\n",
              "    </tr>\n",
              "    <tr>\n",
              "      <th>12</th>\n",
              "      <td>4.897959</td>\n",
              "      <td>-2.897959</td>\n",
              "    </tr>\n",
              "    <tr>\n",
              "      <th>13</th>\n",
              "      <td>5.306122</td>\n",
              "      <td>-3.306122</td>\n",
              "    </tr>\n",
              "    <tr>\n",
              "      <th>14</th>\n",
              "      <td>5.714286</td>\n",
              "      <td>-3.714286</td>\n",
              "    </tr>\n",
              "    <tr>\n",
              "      <th>15</th>\n",
              "      <td>6.122449</td>\n",
              "      <td>-4.122449</td>\n",
              "    </tr>\n",
              "    <tr>\n",
              "      <th>16</th>\n",
              "      <td>6.530612</td>\n",
              "      <td>-4.530612</td>\n",
              "    </tr>\n",
              "    <tr>\n",
              "      <th>17</th>\n",
              "      <td>6.938776</td>\n",
              "      <td>-4.938776</td>\n",
              "    </tr>\n",
              "    <tr>\n",
              "      <th>18</th>\n",
              "      <td>7.346939</td>\n",
              "      <td>-5.346939</td>\n",
              "    </tr>\n",
              "    <tr>\n",
              "      <th>19</th>\n",
              "      <td>7.755102</td>\n",
              "      <td>-5.755102</td>\n",
              "    </tr>\n",
              "    <tr>\n",
              "      <th>20</th>\n",
              "      <td>8.163265</td>\n",
              "      <td>-6.163265</td>\n",
              "    </tr>\n",
              "    <tr>\n",
              "      <th>21</th>\n",
              "      <td>8.571429</td>\n",
              "      <td>-6.571429</td>\n",
              "    </tr>\n",
              "    <tr>\n",
              "      <th>22</th>\n",
              "      <td>8.979592</td>\n",
              "      <td>-6.979592</td>\n",
              "    </tr>\n",
              "    <tr>\n",
              "      <th>23</th>\n",
              "      <td>9.387755</td>\n",
              "      <td>-7.387755</td>\n",
              "    </tr>\n",
              "    <tr>\n",
              "      <th>24</th>\n",
              "      <td>9.795918</td>\n",
              "      <td>-7.795918</td>\n",
              "    </tr>\n",
              "    <tr>\n",
              "      <th>25</th>\n",
              "      <td>10.204082</td>\n",
              "      <td>-8.204082</td>\n",
              "    </tr>\n",
              "    <tr>\n",
              "      <th>26</th>\n",
              "      <td>10.612245</td>\n",
              "      <td>-8.612245</td>\n",
              "    </tr>\n",
              "    <tr>\n",
              "      <th>27</th>\n",
              "      <td>11.020408</td>\n",
              "      <td>-9.020408</td>\n",
              "    </tr>\n",
              "    <tr>\n",
              "      <th>28</th>\n",
              "      <td>11.428571</td>\n",
              "      <td>-9.428571</td>\n",
              "    </tr>\n",
              "    <tr>\n",
              "      <th>29</th>\n",
              "      <td>11.836735</td>\n",
              "      <td>-9.836735</td>\n",
              "    </tr>\n",
              "    <tr>\n",
              "      <th>30</th>\n",
              "      <td>12.244898</td>\n",
              "      <td>-10.244898</td>\n",
              "    </tr>\n",
              "    <tr>\n",
              "      <th>31</th>\n",
              "      <td>12.653061</td>\n",
              "      <td>-10.653061</td>\n",
              "    </tr>\n",
              "    <tr>\n",
              "      <th>32</th>\n",
              "      <td>13.061224</td>\n",
              "      <td>-11.061224</td>\n",
              "    </tr>\n",
              "    <tr>\n",
              "      <th>33</th>\n",
              "      <td>13.469388</td>\n",
              "      <td>-11.469388</td>\n",
              "    </tr>\n",
              "    <tr>\n",
              "      <th>34</th>\n",
              "      <td>13.877551</td>\n",
              "      <td>-11.877551</td>\n",
              "    </tr>\n",
              "    <tr>\n",
              "      <th>35</th>\n",
              "      <td>14.285714</td>\n",
              "      <td>-12.285714</td>\n",
              "    </tr>\n",
              "    <tr>\n",
              "      <th>36</th>\n",
              "      <td>14.693878</td>\n",
              "      <td>-12.693878</td>\n",
              "    </tr>\n",
              "    <tr>\n",
              "      <th>37</th>\n",
              "      <td>15.102041</td>\n",
              "      <td>-13.102041</td>\n",
              "    </tr>\n",
              "    <tr>\n",
              "      <th>38</th>\n",
              "      <td>15.510204</td>\n",
              "      <td>-13.510204</td>\n",
              "    </tr>\n",
              "    <tr>\n",
              "      <th>39</th>\n",
              "      <td>15.918367</td>\n",
              "      <td>-13.918367</td>\n",
              "    </tr>\n",
              "    <tr>\n",
              "      <th>40</th>\n",
              "      <td>16.326531</td>\n",
              "      <td>-14.326531</td>\n",
              "    </tr>\n",
              "    <tr>\n",
              "      <th>41</th>\n",
              "      <td>16.734694</td>\n",
              "      <td>-14.734694</td>\n",
              "    </tr>\n",
              "    <tr>\n",
              "      <th>42</th>\n",
              "      <td>17.142857</td>\n",
              "      <td>-15.142857</td>\n",
              "    </tr>\n",
              "    <tr>\n",
              "      <th>43</th>\n",
              "      <td>17.551020</td>\n",
              "      <td>-15.551020</td>\n",
              "    </tr>\n",
              "    <tr>\n",
              "      <th>44</th>\n",
              "      <td>17.959184</td>\n",
              "      <td>-15.959184</td>\n",
              "    </tr>\n",
              "    <tr>\n",
              "      <th>45</th>\n",
              "      <td>18.367347</td>\n",
              "      <td>-16.367347</td>\n",
              "    </tr>\n",
              "    <tr>\n",
              "      <th>46</th>\n",
              "      <td>18.775510</td>\n",
              "      <td>-16.775510</td>\n",
              "    </tr>\n",
              "    <tr>\n",
              "      <th>47</th>\n",
              "      <td>19.183673</td>\n",
              "      <td>-17.183673</td>\n",
              "    </tr>\n",
              "    <tr>\n",
              "      <th>48</th>\n",
              "      <td>19.591837</td>\n",
              "      <td>-17.591837</td>\n",
              "    </tr>\n",
              "    <tr>\n",
              "      <th>49</th>\n",
              "      <td>20.000000</td>\n",
              "      <td>-18.000000</td>\n",
              "    </tr>\n",
              "  </tbody>\n",
              "</table>\n",
              "</div>"
            ],
            "text/plain": [
              "            X          Y\n",
              "0    0.000000   2.000000\n",
              "1    0.408163   1.591837\n",
              "2    0.816327   1.183673\n",
              "3    1.224490   0.775510\n",
              "4    1.632653   0.367347\n",
              "5    2.040816  -0.040816\n",
              "6    2.448980  -0.448980\n",
              "7    2.857143  -0.857143\n",
              "8    3.265306  -1.265306\n",
              "9    3.673469  -1.673469\n",
              "10   4.081633  -2.081633\n",
              "11   4.489796  -2.489796\n",
              "12   4.897959  -2.897959\n",
              "13   5.306122  -3.306122\n",
              "14   5.714286  -3.714286\n",
              "15   6.122449  -4.122449\n",
              "16   6.530612  -4.530612\n",
              "17   6.938776  -4.938776\n",
              "18   7.346939  -5.346939\n",
              "19   7.755102  -5.755102\n",
              "20   8.163265  -6.163265\n",
              "21   8.571429  -6.571429\n",
              "22   8.979592  -6.979592\n",
              "23   9.387755  -7.387755\n",
              "24   9.795918  -7.795918\n",
              "25  10.204082  -8.204082\n",
              "26  10.612245  -8.612245\n",
              "27  11.020408  -9.020408\n",
              "28  11.428571  -9.428571\n",
              "29  11.836735  -9.836735\n",
              "30  12.244898 -10.244898\n",
              "31  12.653061 -10.653061\n",
              "32  13.061224 -11.061224\n",
              "33  13.469388 -11.469388\n",
              "34  13.877551 -11.877551\n",
              "35  14.285714 -12.285714\n",
              "36  14.693878 -12.693878\n",
              "37  15.102041 -13.102041\n",
              "38  15.510204 -13.510204\n",
              "39  15.918367 -13.918367\n",
              "40  16.326531 -14.326531\n",
              "41  16.734694 -14.734694\n",
              "42  17.142857 -15.142857\n",
              "43  17.551020 -15.551020\n",
              "44  17.959184 -15.959184\n",
              "45  18.367347 -16.367347\n",
              "46  18.775510 -16.775510\n",
              "47  19.183673 -17.183673\n",
              "48  19.591837 -17.591837\n",
              "49  20.000000 -18.000000"
            ]
          },
          "execution_count": 2,
          "metadata": {},
          "output_type": "execute_result"
        }
      ],
      "source": [
        "df = pd.DataFrame(columns=[\"X\",\"Y\"])\n",
        "df[\"X\"] = np.linspace(0,20)\n",
        "df[\"Y\"] = -1*df[\"X\"]+2\n",
        "#df = df.sample(frac = 1)\n",
        "df"
      ]
    },
    {
      "cell_type": "code",
      "execution_count": null,
      "metadata": {
        "id": "Ib0XYo1R8umu",
        "outputId": "c09b1870-8e49-47d8-a5bd-a64a25e47102"
      },
      "outputs": [
        {
          "data": {
            "image/png": "[encoded data removed]",
            "text/plain": [
              "<Figure size 432x288 with 1 Axes>"
            ]
          },
          "metadata": {
            "needs_background": "light"
          },
          "output_type": "display_data"
        }
      ],
      "source": [
        "plt.plot(df[\"X\"],df[\"Y\"])\n",
        "plt.xlabel(\"X Data\")\n",
        "plt.ylabel(\"Y Data\")\n",
        "plt.show()"
      ]
    },
    {
      "cell_type": "markdown",
      "metadata": {
        "id": "tYmBTQ4s8umv"
      },
      "source": [
        "#### Plot your data points. "
      ]
    },
    {
      "cell_type": "code",
      "execution_count": null,
      "metadata": {
        "scrolled": false,
        "id": "iQnYaWJA8umw"
      },
      "outputs": [],
      "source": [
        ""
      ]
    },
    {
      "cell_type": "markdown",
      "metadata": {
        "id": "AW8-nDxM8umx"
      },
      "source": [
        "## Adagrad"
      ]
    },
    {
      "cell_type": "markdown",
      "metadata": {
        "id": "FeOf77Et8umy"
      },
      "source": [
        "### For a single variable linear regression ML model, build a function to find the optimum Theta_0 and Theta_1 parameters using Adagrad optimization algorithm.\n",
        "#### The funtion should have the following input parameters:\n",
        "##### 1. Input data as a matrix (or vector based on your data).\n",
        "##### 2. Target label as a vector.\n",
        "##### 3. Learning rate.\n",
        "##### 4. Epsilon.\n",
        "##### 5. Maximum number of iterations (Epochs).\n",
        "#### The funtion should return the following outputs:\n",
        "##### 1. All predicted Theta_0 in all iterations.\n",
        "##### 2. All predicted Theta_1 in all iterations.\n",
        "##### 3. Corresponding loss for each Theta_0 and Theta_1 predictions.\n",
        "##### 4.All hypothesis outputs (prdicted labels) for each Theta_0 and Theta_1 predictions.\n",
        "##### 5.Final Optimum values of Theta_0 and Theta_1.\n",
        "#### Choose the suitable number of iterations, learning rate, Epsilon, and stop criteria.\n",
        "#### Calculate r2 score. Shouldn't below 0.9\n",
        "#### Plot the required curves (loss-epochs, loss-theta0, loss-theta1, all fitted lines per epoch (single graph), best fit line)\n",
        "#### Try different values of the huperparameters and see the differnce in your results."
      ]
    },
    {
      "cell_type": "code",
      "execution_count": null,
      "metadata": {
        "id": "_k5rEZNU8umz"
      },
      "outputs": [],
      "source": [
        "eps = 1e-8\n",
        "alpha = 0.1\n",
        "theta_0 = 0\n",
        "theta_1 =0\n",
        "vt0 = 0\n",
        "vt1 = 0\n"
      ]
    },
    {
      "cell_type": "code",
      "execution_count": null,
      "metadata": {
        "id": "ae0Srk1Y8um0",
        "outputId": "928ff4d4-e539-4a4d-d047-3f65aa5b0299"
      },
      "outputs": [
        {
          "data": {
            "image/png": "[encoded data removed]",
            "text/plain": [
              "<Figure size 432x288 with 1 Axes>"
            ]
          },
          "metadata": {
            "needs_background": "light"
          },
          "output_type": "display_data"
        }
      ],
      "source": [
        "Cost_List = []\n",
        "theta_0_List = []\n",
        "for i in range(1000):\n",
        "    theta_0_List.append(theta_0)\n",
        "    df[\"YPredict\"] = theta_0 + theta_1 * df[\"X\"]\n",
        "    sumii = sum(np.power(df[\"YPredict\"]-df[\"Y\"] , 2))\n",
        "    totalCost = sumii/(2*df.shape[0])\n",
        "    Cost_List.append(totalCost)    \n",
        "    G_Theta_0 = sum(df[\"YPredict\"]-df[\"Y\"])/df.shape[0]\n",
        "    G_Theta_1 = sum((df[\"YPredict\"] - df[\"Y\"])*df[\"X\"])/df.shape[0]\n",
        "    vt0 += (G_Theta_0)**2\n",
        "    vt1 += (G_Theta_1)**2\n",
        "    theta_0 -= (alpha * G_Theta_0)/(math.sqrt(vt0)+eps)\n",
        "    theta_1 -= (alpha * G_Theta_1)/(math.sqrt(vt1)+eps)\n",
        "plt.plot(theta_0_List,Cost_List)\n",
        "plt.show()\n"
      ]
    },
    {
      "cell_type": "code",
      "execution_count": null,
      "metadata": {
        "id": "ocGZbZVq8um1",
        "outputId": "6bf64e4c-4ea2-411f-adb3-747b00d0b022"
      },
      "outputs": [
        {
          "name": "stdout",
          "output_type": "stream",
          "text": [
            "0.9958222978287462\n"
          ]
        }
      ],
      "source": [
        "from sklearn.metrics import r2_score\n",
        "print(r2_score(df[\"Y\"], df[\"YPredict\"]))"
      ]
    },
    {
      "cell_type": "code",
      "execution_count": null,
      "metadata": {
        "id": "_xr5rvMT8um1"
      },
      "outputs": [],
      "source": [
        ""
      ]
    },
    {
      "cell_type": "code",
      "execution_count": null,
      "metadata": {
        "id": "JtQTYGwx8um1"
      },
      "outputs": [],
      "source": [
        ""
      ]
    },
    {
      "cell_type": "markdown",
      "metadata": {
        "id": "rCGjWpdi8um2"
      },
      "source": [
        "## RMSProp"
      ]
    },
    {
      "cell_type": "markdown",
      "metadata": {
        "id": "paIKre9x8um2"
      },
      "source": [
        "### Update the previos implementation to be RMSProp.\n",
        "#### Compare your results with Adagrad results."
      ]
    },
    {
      "cell_type": "code",
      "execution_count": null,
      "metadata": {
        "id": "5gnWW1ev8um3",
        "outputId": "2bc41005-8791-47da-b7dc-57f9285edc8f"
      },
      "outputs": [
        {
          "data": {
            "image/png": "[encoded data removed]",
            "text/plain": [
              "<Figure size 432x288 with 1 Axes>"
            ]
          },
          "metadata": {
            "needs_background": "light"
          },
          "output_type": "display_data"
        }
      ],
      "source": [
        "eps = 1e-8\n",
        "alpha = 0.1\n",
        "theta_0 = 0\n",
        "theta_1 =0\n",
        "vt0 = 0\n",
        "vt1 = 0\n",
        "gamma = 0.9\n",
        "Cost_List = []\n",
        "theta_0_List = []\n",
        "for i in range(1000):\n",
        "    theta_0_List.append(theta_0)\n",
        "    df[\"YPredict\"] = theta_0 + theta_1 * df[\"X\"]\n",
        "    sumii = sum(np.power(df[\"YPredict\"]-df[\"Y\"] , 2))\n",
        "    totalCost = sumii/(2*df.shape[0])\n",
        "    Cost_List.append(totalCost)    \n",
        "    G_Theta_0 = sum(df[\"YPredict\"]-df[\"Y\"])/df.shape[0]\n",
        "    G_Theta_1 = sum((df[\"YPredict\"] - df[\"Y\"])*df[\"X\"])/df.shape[0]\n",
        "    vt0 = (gamma * vt0) +(1-gamma)*(G_Theta_0**2)\n",
        "    vt1 = (gamma * vt1) +(1-gamma)*(G_Theta_1**2)\n",
        "    theta_0 -= (alpha * G_Theta_0)/(math.sqrt(vt0)+eps)\n",
        "    theta_1 -= (alpha * G_Theta_1)/(math.sqrt(vt1)+eps)\n",
        "plt.plot(theta_0_List,Cost_List)\n",
        "plt.show()\n"
      ]
    },
    {
      "cell_type": "code",
      "execution_count": null,
      "metadata": {
        "id": "VDYjmBcs8um3",
        "outputId": "5da264ea-d0d5-4af7-bffd-76b915fcd339"
      },
      "outputs": [
        {
          "name": "stdout",
          "output_type": "stream",
          "text": [
            "0.9887808824105883\n"
          ]
        }
      ],
      "source": [
        "from sklearn.metrics import r2_score\n",
        "print(r2_score(df[\"Y\"], df[\"YPredict\"]))"
      ]
    },
    {
      "cell_type": "code",
      "execution_count": null,
      "metadata": {
        "id": "oeEurnL_8um4"
      },
      "outputs": [],
      "source": [
        ""
      ]
    },
    {
      "cell_type": "code",
      "execution_count": null,
      "metadata": {
        "id": "kqEhSHDq8um4"
      },
      "outputs": [],
      "source": [
        ""
      ]
    },
    {
      "cell_type": "code",
      "execution_count": null,
      "metadata": {
        "id": "OLfr825U8um4"
      },
      "outputs": [],
      "source": [
        ""
      ]
    },
    {
      "cell_type": "code",
      "execution_count": null,
      "metadata": {
        "id": "Mchid5A78um5"
      },
      "outputs": [],
      "source": [
        ""
      ]
    },
    {
      "cell_type": "markdown",
      "metadata": {
        "id": "Qlpgcoc08um5"
      },
      "source": [
        "## Adam"
      ]
    },
    {
      "cell_type": "markdown",
      "metadata": {
        "id": "tkL_gCvk8um5"
      },
      "source": [
        "### Update the previos implementation to be Adam.\n",
        "#### Compare your results with Adagrad and RMSProp results."
      ]
    },
    {
      "cell_type": "code",
      "execution_count": null,
      "metadata": {
        "id": "7u52yM_s8um6",
        "outputId": "451dbc13-bc02-43d9-abb4-99681bdc3793"
      },
      "outputs": [
        {
          "data": {
            "image/png": "[encoded data removed]",
            "text/plain": [
              "<Figure size 432x288 with 1 Axes>"
            ]
          },
          "metadata": {
            "needs_background": "light"
          },
          "output_type": "display_data"
        }
      ],
      "source": [
        "eps = 1e-8\n",
        "alpha = 0.01\n",
        "theta_0 = 0\n",
        "theta_1 =0\n",
        "vt0 = 0\n",
        "vt1 = 0\n",
        "gamma1 = 0.9\n",
        "gamma2 = 0.999\n",
        "mt0 = 0\n",
        "mt1 = 0\n",
        "Cost_List = []\n",
        "theta_0_List = []\n",
        "for i in range(1000):\n",
        "    theta_0_List.append(theta_0)\n",
        "    df[\"YPredict\"] = theta_0 + theta_1 * df[\"X\"]\n",
        "    sumii = sum(np.power(df[\"YPredict\"]-df[\"Y\"] , 2))\n",
        "    totalCost = sumii/(2*df.shape[0])\n",
        "    Cost_List.append(totalCost)    \n",
        "    G_Theta_0 = sum(df[\"YPredict\"]-df[\"Y\"])/df.shape[0]\n",
        "    G_Theta_1 = sum((df[\"YPredict\"] - df[\"Y\"])*df[\"X\"])/df.shape[0]\n",
        "    mt0 = (gamma1 * mt0) + (1 - gamma1)*(G_Theta_0)\n",
        "    mt1 = (gamma1 * mt1) + (1 - gamma1)*(G_Theta_1)\n",
        "    vt0 = (gamma2 * vt0) +(1-gamma2)*(G_Theta_0**2)\n",
        "    vt1 = (gamma2 * vt1) +(1-gamma2)*(G_Theta_1**2)\n",
        "    theta_0 -= (alpha * mt0)/(math.sqrt(vt0)+eps)\n",
        "    theta_1 -= (alpha * mt1)/(math.sqrt(vt1)+eps)\n",
        "plt.plot(theta_0_List,Cost_List)\n",
        "plt.show()\n"
      ]
    },
    {
      "cell_type": "code",
      "execution_count": null,
      "metadata": {
        "id": "2U6CsRGc8um7",
        "outputId": "cc319442-6428-49fe-a135-9837521bb626"
      },
      "outputs": [
        {
          "name": "stdout",
          "output_type": "stream",
          "text": [
            "0.9999933469730578\n"
          ]
        }
      ],
      "source": [
        "from sklearn.metrics import r2_score\n",
        "print(r2_score(df[\"Y\"], df[\"YPredict\"]))"
      ]
    },
    {
      "cell_type": "code",
      "execution_count": null,
      "metadata": {
        "id": "isozfgqw8um7"
      },
      "outputs": [],
      "source": [
        ""
      ]
    },
    {
      "cell_type": "code",
      "execution_count": null,
      "metadata": {
        "id": "HTxWLc6p8um7"
      },
      "outputs": [],
      "source": [
        ""
      ]
    },
    {
      "cell_type": "code",
      "execution_count": null,
      "metadata": {
        "id": "6PwFaiP_8um8"
      },
      "outputs": [],
      "source": [
        ""
      ]
    },
    {
      "cell_type": "markdown",
      "metadata": {
        "id": "3z-S2Tkc8um8"
      },
      "source": [
        "## Congratulations "
      ]
    },
    {
      "cell_type": "code",
      "execution_count": null,
      "metadata": {
        "id": "50GNOTtK8um8"
      },
      "outputs": [],
      "source": [
        ""
      ]
    }
  ],
  "metadata": {
    "kernelspec": {
      "display_name": "Python 3",
      "language": "python",
      "name": "python3"
    },
    "language_info": {
      "codemirror_mode": {
        "name": "ipython",
        "version": 3
      },
      "file_extension": ".py",
      "mimetype": "text/x-python",
      "name": "python",
      "nbconvert_exporter": "python",
      "pygments_lexer": "ipython3",
      "version": "3.10.2"
    },
    "colab": {
      "name": "Practical Session 4 Adagrad-RMSProp-Adam.ipynb",
      "provenance": [],
      "include_colab_link": true
    }
  },
  "nbformat": 4,
  "nbformat_minor": 0
}