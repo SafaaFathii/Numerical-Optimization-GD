{
  "cells": [
    {
      "cell_type": "markdown",
      "metadata": {
        "id": "view-in-github",
        "colab_type": "text"
      },
      "source": [
        "<a href=\"https://colab.research.google.com/github/SafaaFathii/Numerical-Optimization-GD/blob/main/notebooks/Practical_Session_2_GD_Variants_Batch_Mini_Batch_Stochastic.ipynb\" target=\"_parent\"><img src=\"https://colab.research.google.com/assets/colab-badge.svg\" alt=\"Open In Colab\"/></a>"
      ]
    },
    {
      "cell_type": "markdown",
      "metadata": {
        "id": "_WXa9rvuueEJ"
      },
      "source": [
        "## Practical Work 2"
      ]
    },
    {
      "cell_type": "markdown",
      "metadata": {
        "id": "x2auWYNnueEY"
      },
      "source": [
        "For this practical work, the student will have to develop a Python program that is able to implement the gradient descent variants (Batch/Mini-Batch/Stochastic) in order to achieve the linear regression of a set of datapoints."
      ]
    },
    {
      "cell_type": "markdown",
      "metadata": {
        "id": "fJ4AIpexueEd"
      },
      "source": [
        "#### Import numpy, matplotlib.pyplot and make it inline"
      ]
    },
    {
      "cell_type": "code",
      "execution_count": null,
      "metadata": {
        "id": "UwDSmK2UueEe"
      },
      "outputs": [],
      "source": [
        "import numpy as np\n",
        "import matplotlib.pyplot as plt\n",
        "import pandas as pd"
      ]
    },
    {
      "cell_type": "markdown",
      "metadata": {
        "id": "aofkGDJnueEg"
      },
      "source": [
        "To have a dataset or set of data points, the student must generate a pair of arrays <b>X</b> and <b>y</b> with the values in <b>X</b> equally distributed between <b>0</b> and <b>20</b> and the values in <b>y</b> such that: \n",
        "<b>yi = a*xi + b (and a = -2, b = 1)</b>\n"
      ]
    },
    {
      "cell_type": "code",
      "execution_count": null,
      "metadata": {
        "id": "UJxZU9RXueEh",
        "outputId": "4368a20a-3ea6-4747-861c-454102ebdd3f"
      },
      "outputs": [
        {
          "data": {
            "text/html": [
              "<div>\n",
              "<style scoped>\n",
              "    .dataframe tbody tr th:only-of-type {\n",
              "        vertical-align: middle;\n",
              "    }\n",
              "\n",
              "    .dataframe tbody tr th {\n",
              "        vertical-align: top;\n",
              "    }\n",
              "\n",
              "    .dataframe thead th {\n",
              "        text-align: right;\n",
              "    }\n",
              "</style>\n",
              "<table border=\"1\" class=\"dataframe\">\n",
              "  <thead>\n",
              "    <tr style=\"text-align: right;\">\n",
              "      <th></th>\n",
              "      <th>X</th>\n",
              "      <th>Y</th>\n",
              "    </tr>\n",
              "  </thead>\n",
              "  <tbody>\n",
              "    <tr>\n",
              "      <th>0</th>\n",
              "      <td>0.000000</td>\n",
              "      <td>1.000000</td>\n",
              "    </tr>\n",
              "    <tr>\n",
              "      <th>1</th>\n",
              "      <td>0.408163</td>\n",
              "      <td>0.183673</td>\n",
              "    </tr>\n",
              "    <tr>\n",
              "      <th>2</th>\n",
              "      <td>0.816327</td>\n",
              "      <td>-0.632653</td>\n",
              "    </tr>\n",
              "    <tr>\n",
              "      <th>3</th>\n",
              "      <td>1.224490</td>\n",
              "      <td>-1.448980</td>\n",
              "    </tr>\n",
              "    <tr>\n",
              "      <th>4</th>\n",
              "      <td>1.632653</td>\n",
              "      <td>-2.265306</td>\n",
              "    </tr>\n",
              "    <tr>\n",
              "      <th>5</th>\n",
              "      <td>2.040816</td>\n",
              "      <td>-3.081633</td>\n",
              "    </tr>\n",
              "    <tr>\n",
              "      <th>6</th>\n",
              "      <td>2.448980</td>\n",
              "      <td>-3.897959</td>\n",
              "    </tr>\n",
              "    <tr>\n",
              "      <th>7</th>\n",
              "      <td>2.857143</td>\n",
              "      <td>-4.714286</td>\n",
              "    </tr>\n",
              "    <tr>\n",
              "      <th>8</th>\n",
              "      <td>3.265306</td>\n",
              "      <td>-5.530612</td>\n",
              "    </tr>\n",
              "    <tr>\n",
              "      <th>9</th>\n",
              "      <td>3.673469</td>\n",
              "      <td>-6.346939</td>\n",
              "    </tr>\n",
              "    <tr>\n",
              "      <th>10</th>\n",
              "      <td>4.081633</td>\n",
              "      <td>-7.163265</td>\n",
              "    </tr>\n",
              "    <tr>\n",
              "      <th>11</th>\n",
              "      <td>4.489796</td>\n",
              "      <td>-7.979592</td>\n",
              "    </tr>\n",
              "    <tr>\n",
              "      <th>12</th>\n",
              "      <td>4.897959</td>\n",
              "      <td>-8.795918</td>\n",
              "    </tr>\n",
              "    <tr>\n",
              "      <th>13</th>\n",
              "      <td>5.306122</td>\n",
              "      <td>-9.612245</td>\n",
              "    </tr>\n",
              "    <tr>\n",
              "      <th>14</th>\n",
              "      <td>5.714286</td>\n",
              "      <td>-10.428571</td>\n",
              "    </tr>\n",
              "    <tr>\n",
              "      <th>15</th>\n",
              "      <td>6.122449</td>\n",
              "      <td>-11.244898</td>\n",
              "    </tr>\n",
              "    <tr>\n",
              "      <th>16</th>\n",
              "      <td>6.530612</td>\n",
              "      <td>-12.061224</td>\n",
              "    </tr>\n",
              "    <tr>\n",
              "      <th>17</th>\n",
              "      <td>6.938776</td>\n",
              "      <td>-12.877551</td>\n",
              "    </tr>\n",
              "    <tr>\n",
              "      <th>18</th>\n",
              "      <td>7.346939</td>\n",
              "      <td>-13.693878</td>\n",
              "    </tr>\n",
              "    <tr>\n",
              "      <th>19</th>\n",
              "      <td>7.755102</td>\n",
              "      <td>-14.510204</td>\n",
              "    </tr>\n",
              "    <tr>\n",
              "      <th>20</th>\n",
              "      <td>8.163265</td>\n",
              "      <td>-15.326531</td>\n",
              "    </tr>\n",
              "    <tr>\n",
              "      <th>21</th>\n",
              "      <td>8.571429</td>\n",
              "      <td>-16.142857</td>\n",
              "    </tr>\n",
              "    <tr>\n",
              "      <th>22</th>\n",
              "      <td>8.979592</td>\n",
              "      <td>-16.959184</td>\n",
              "    </tr>\n",
              "    <tr>\n",
              "      <th>23</th>\n",
              "      <td>9.387755</td>\n",
              "      <td>-17.775510</td>\n",
              "    </tr>\n",
              "    <tr>\n",
              "      <th>24</th>\n",
              "      <td>9.795918</td>\n",
              "      <td>-18.591837</td>\n",
              "    </tr>\n",
              "    <tr>\n",
              "      <th>25</th>\n",
              "      <td>10.204082</td>\n",
              "      <td>-19.408163</td>\n",
              "    </tr>\n",
              "    <tr>\n",
              "      <th>26</th>\n",
              "      <td>10.612245</td>\n",
              "      <td>-20.224490</td>\n",
              "    </tr>\n",
              "    <tr>\n",
              "      <th>27</th>\n",
              "      <td>11.020408</td>\n",
              "      <td>-21.040816</td>\n",
              "    </tr>\n",
              "    <tr>\n",
              "      <th>28</th>\n",
              "      <td>11.428571</td>\n",
              "      <td>-21.857143</td>\n",
              "    </tr>\n",
              "    <tr>\n",
              "      <th>29</th>\n",
              "      <td>11.836735</td>\n",
              "      <td>-22.673469</td>\n",
              "    </tr>\n",
              "    <tr>\n",
              "      <th>30</th>\n",
              "      <td>12.244898</td>\n",
              "      <td>-23.489796</td>\n",
              "    </tr>\n",
              "    <tr>\n",
              "      <th>31</th>\n",
              "      <td>12.653061</td>\n",
              "      <td>-24.306122</td>\n",
              "    </tr>\n",
              "    <tr>\n",
              "      <th>32</th>\n",
              "      <td>13.061224</td>\n",
              "      <td>-25.122449</td>\n",
              "    </tr>\n",
              "    <tr>\n",
              "      <th>33</th>\n",
              "      <td>13.469388</td>\n",
              "      <td>-25.938776</td>\n",
              "    </tr>\n",
              "    <tr>\n",
              "      <th>34</th>\n",
              "      <td>13.877551</td>\n",
              "      <td>-26.755102</td>\n",
              "    </tr>\n",
              "    <tr>\n",
              "      <th>35</th>\n",
              "      <td>14.285714</td>\n",
              "      <td>-27.571429</td>\n",
              "    </tr>\n",
              "    <tr>\n",
              "      <th>36</th>\n",
              "      <td>14.693878</td>\n",
              "      <td>-28.387755</td>\n",
              "    </tr>\n",
              "    <tr>\n",
              "      <th>37</th>\n",
              "      <td>15.102041</td>\n",
              "      <td>-29.204082</td>\n",
              "    </tr>\n",
              "    <tr>\n",
              "      <th>38</th>\n",
              "      <td>15.510204</td>\n",
              "      <td>-30.020408</td>\n",
              "    </tr>\n",
              "    <tr>\n",
              "      <th>39</th>\n",
              "      <td>15.918367</td>\n",
              "      <td>-30.836735</td>\n",
              "    </tr>\n",
              "    <tr>\n",
              "      <th>40</th>\n",
              "      <td>16.326531</td>\n",
              "      <td>-31.653061</td>\n",
              "    </tr>\n",
              "    <tr>\n",
              "      <th>41</th>\n",
              "      <td>16.734694</td>\n",
              "      <td>-32.469388</td>\n",
              "    </tr>\n",
              "    <tr>\n",
              "      <th>42</th>\n",
              "      <td>17.142857</td>\n",
              "      <td>-33.285714</td>\n",
              "    </tr>\n",
              "    <tr>\n",
              "      <th>43</th>\n",
              "      <td>17.551020</td>\n",
              "      <td>-34.102041</td>\n",
              "    </tr>\n",
              "    <tr>\n",
              "      <th>44</th>\n",
              "      <td>17.959184</td>\n",
              "      <td>-34.918367</td>\n",
              "    </tr>\n",
              "    <tr>\n",
              "      <th>45</th>\n",
              "      <td>18.367347</td>\n",
              "      <td>-35.734694</td>\n",
              "    </tr>\n",
              "    <tr>\n",
              "      <th>46</th>\n",
              "      <td>18.775510</td>\n",
              "      <td>-36.551020</td>\n",
              "    </tr>\n",
              "    <tr>\n",
              "      <th>47</th>\n",
              "      <td>19.183673</td>\n",
              "      <td>-37.367347</td>\n",
              "    </tr>\n",
              "    <tr>\n",
              "      <th>48</th>\n",
              "      <td>19.591837</td>\n",
              "      <td>-38.183673</td>\n",
              "    </tr>\n",
              "    <tr>\n",
              "      <th>49</th>\n",
              "      <td>20.000000</td>\n",
              "      <td>-39.000000</td>\n",
              "    </tr>\n",
              "  </tbody>\n",
              "</table>\n",
              "</div>"
            ],
            "text/plain": [
              "            X          Y\n",
              "0    0.000000   1.000000\n",
              "1    0.408163   0.183673\n",
              "2    0.816327  -0.632653\n",
              "3    1.224490  -1.448980\n",
              "4    1.632653  -2.265306\n",
              "5    2.040816  -3.081633\n",
              "6    2.448980  -3.897959\n",
              "7    2.857143  -4.714286\n",
              "8    3.265306  -5.530612\n",
              "9    3.673469  -6.346939\n",
              "10   4.081633  -7.163265\n",
              "11   4.489796  -7.979592\n",
              "12   4.897959  -8.795918\n",
              "13   5.306122  -9.612245\n",
              "14   5.714286 -10.428571\n",
              "15   6.122449 -11.244898\n",
              "16   6.530612 -12.061224\n",
              "17   6.938776 -12.877551\n",
              "18   7.346939 -13.693878\n",
              "19   7.755102 -14.510204\n",
              "20   8.163265 -15.326531\n",
              "21   8.571429 -16.142857\n",
              "22   8.979592 -16.959184\n",
              "23   9.387755 -17.775510\n",
              "24   9.795918 -18.591837\n",
              "25  10.204082 -19.408163\n",
              "26  10.612245 -20.224490\n",
              "27  11.020408 -21.040816\n",
              "28  11.428571 -21.857143\n",
              "29  11.836735 -22.673469\n",
              "30  12.244898 -23.489796\n",
              "31  12.653061 -24.306122\n",
              "32  13.061224 -25.122449\n",
              "33  13.469388 -25.938776\n",
              "34  13.877551 -26.755102\n",
              "35  14.285714 -27.571429\n",
              "36  14.693878 -28.387755\n",
              "37  15.102041 -29.204082\n",
              "38  15.510204 -30.020408\n",
              "39  15.918367 -30.836735\n",
              "40  16.326531 -31.653061\n",
              "41  16.734694 -32.469388\n",
              "42  17.142857 -33.285714\n",
              "43  17.551020 -34.102041\n",
              "44  17.959184 -34.918367\n",
              "45  18.367347 -35.734694\n",
              "46  18.775510 -36.551020\n",
              "47  19.183673 -37.367347\n",
              "48  19.591837 -38.183673\n",
              "49  20.000000 -39.000000"
            ]
          },
          "execution_count": 117,
          "metadata": {},
          "output_type": "execute_result"
        }
      ],
      "source": [
        "df = pd.DataFrame(columns=[\"X\",\"Y\"])\n",
        "df[\"X\"] = np.linspace(0,20)\n",
        "df[\"Y\"] = -2*df[\"X\"]+1\n",
        "#df = df.sample(frac = 1)\n",
        "df"
      ]
    },
    {
      "cell_type": "code",
      "execution_count": null,
      "metadata": {
        "id": "XBPQxgWNueEk",
        "outputId": "b2d26602-4c45-4578-c052-9b17e85347f8"
      },
      "outputs": [
        {
          "data": {
            "image/png": "[encoded data removed]",
            "text/plain": [
              "<Figure size 432x288 with 1 Axes>"
            ]
          },
          "metadata": {
            "needs_background": "light"
          },
          "output_type": "display_data"
        }
      ],
      "source": [
        "def Hypo(theta_0,theta_1):\n",
        "    df[\"YPredict\"] = theta_0 + theta_1 * df[\"X\"]\n",
        "def CostFunc():\n",
        "    sumii = sum(np.power(df[\"YPredict\"]-df[\"Y\"] , 2))\n",
        "    totalCost = sumii/(2*df.shape[0])\n",
        "    return totalCost\n",
        "def Gradient_Theta():\n",
        "    G_Theta_0 = sum(df[\"YPredict\"]-df[\"Y\"])/df.shape[0]\n",
        "    G_Theta_1 = sum((df[\"YPredict\"] - df[\"Y\"])*df[\"X\"])/df.shape[0]\n",
        "    return G_Theta_0,G_Theta_1\n",
        "def UpdateParameters(theta_0,theta_1,G_theta_0,G_Theta_1):\n",
        "    theta_0 -= alpha * G_theta_0\n",
        "    theta_1 -= alpha * G_Theta_1\n",
        "    return theta_0,theta_1\n",
        "theta_0 = 0\n",
        "theta_1 = 0\n",
        "alpha = 0.001\n",
        "costList = []\n",
        "theta_0_List = []\n",
        "theta_1_List = []\n",
        "epoch = 0\n",
        "for i in range(100):\n",
        "    Hypo(theta_0,theta_1)\n",
        "    theta_0_List.append(theta_0)\n",
        "    theta_1_List.append(theta_1)\n",
        "    total_Cost = CostFunc()\n",
        "    costList.append(total_Cost)\n",
        "    G_theta_0,G_Theta_1 = Gradient_Theta()\n",
        "    theta_0,theta_1=UpdateParameters(theta_0,theta_1,G_theta_0,G_Theta_1)\n",
        "plt.scatter(range(100),costList)\n",
        "plt.xlabel(\"Number Of Epochs\")\n",
        "plt.ylabel(\"Cost List\")\n",
        "plt.show()\n",
        "\n"
      ]
    },
    {
      "cell_type": "code",
      "execution_count": null,
      "metadata": {
        "id": "76kJCd1JueEo",
        "outputId": "dbb242eb-a4dd-4698-bf5c-4495ba9e17b3"
      },
      "outputs": [
        {
          "data": {
            "image/png": "[encoded data removed]",
            "text/plain": [
              "<Figure size 432x288 with 1 Axes>"
            ]
          },
          "metadata": {
            "needs_background": "light"
          },
          "output_type": "display_data"
        }
      ],
      "source": [
        "plt.scatter(theta_0_List,costList)\n",
        "plt.xlabel(\"Theta_0\")\n",
        "plt.ylabel(\"Cost List\")\n",
        "plt.show()"
      ]
    },
    {
      "cell_type": "code",
      "execution_count": null,
      "metadata": {
        "id": "wxub3q-QueEq",
        "outputId": "b447c312-91ae-48f5-de1e-f42447072525"
      },
      "outputs": [
        {
          "data": {
            "image/png": "[encoded data removed]",
            "text/plain": [
              "<Figure size 432x288 with 1 Axes>"
            ]
          },
          "metadata": {
            "needs_background": "light"
          },
          "output_type": "display_data"
        }
      ],
      "source": [
        "plt.scatter(theta_1_List,costList)\n",
        "plt.xlabel(\"Theta_1\")\n",
        "plt.ylabel(\"Cost List\")\n",
        "plt.show()"
      ]
    },
    {
      "cell_type": "markdown",
      "metadata": {
        "id": "VPNCV7HfueEs"
      },
      "source": [
        "#### Use your code from practical session 1 and create a function to perform GD for single variable linear regression.\n",
        "#### The function should take the following input parameters:\n",
        "##### Input data (X), Target Labels (y), Learning Rate (alpha), Maximum number of iterations\n",
        "#### The function should return the following:\n",
        "##### All Theta_0 and Theta_1 values till converge, and equivellant Losses, all hypothesis output, and optimum values of Theta_0 and Theta_1\n",
        "#### Note: you can choose any suitable stop criteria."
      ]
    },
    {
      "cell_type": "code",
      "execution_count": null,
      "metadata": {
        "id": "5gFAJE4gueEv",
        "outputId": "7e7f8bf7-2f94-451d-fe28-b571c8e3a554"
      },
      "outputs": [
        {
          "name": "stdout",
          "output_type": "stream",
          "text": [
            "0.9976972946618887\n"
          ]
        }
      ],
      "source": [
        "from sklearn.metrics import r2_score\n",
        "print(r2_score(df[\"Y\"], df[\"YPredict\"]))"
      ]
    },
    {
      "cell_type": "markdown",
      "metadata": {
        "id": "1jFoFPJOueE4"
      },
      "source": [
        "#### Try your function with any input parameterss of your choice."
      ]
    },
    {
      "cell_type": "code",
      "execution_count": null,
      "metadata": {
        "id": "nb22VG98ueE5"
      },
      "outputs": [],
      "source": [
        ""
      ]
    },
    {
      "cell_type": "markdown",
      "metadata": {
        "id": "SoICSHxRueE6"
      },
      "source": [
        "#### Calculate r2 score"
      ]
    },
    {
      "cell_type": "code",
      "execution_count": null,
      "metadata": {
        "id": "b2pf0QxLueE6"
      },
      "outputs": [],
      "source": [
        ""
      ]
    },
    {
      "cell_type": "code",
      "execution_count": null,
      "metadata": {
        "id": "RnL6LVSDueE7"
      },
      "outputs": [],
      "source": [
        ""
      ]
    },
    {
      "cell_type": "code",
      "execution_count": null,
      "metadata": {
        "id": "DLNspK5KueE7"
      },
      "outputs": [],
      "source": [
        ""
      ]
    },
    {
      "cell_type": "markdown",
      "metadata": {
        "id": "T-5hsln3ueE8"
      },
      "source": [
        "#### Plot loss vs. epochs"
      ]
    },
    {
      "cell_type": "code",
      "execution_count": null,
      "metadata": {
        "id": "kmi8PGuSueE9"
      },
      "outputs": [],
      "source": [
        ""
      ]
    },
    {
      "cell_type": "code",
      "execution_count": null,
      "metadata": {
        "scrolled": false,
        "id": "mOW902XcueE9"
      },
      "outputs": [],
      "source": [
        ""
      ]
    },
    {
      "cell_type": "markdown",
      "metadata": {
        "id": "RdzcGF6HueE9"
      },
      "source": [
        "#### Plot Theta_0 vs. loss and Theta_1 vs. loss"
      ]
    },
    {
      "cell_type": "code",
      "execution_count": null,
      "metadata": {
        "id": "coXCGXGWueE-"
      },
      "outputs": [],
      "source": [
        ""
      ]
    },
    {
      "cell_type": "code",
      "execution_count": null,
      "metadata": {
        "id": "u_tfq8fBueE-"
      },
      "outputs": [],
      "source": [
        ""
      ]
    },
    {
      "cell_type": "code",
      "execution_count": null,
      "metadata": {
        "id": "OEWRBa1fueE_"
      },
      "outputs": [],
      "source": [
        ""
      ]
    },
    {
      "cell_type": "markdown",
      "metadata": {
        "id": "9LP-9zpTueE_"
      },
      "source": [
        "#### Plot all regression lines till converge"
      ]
    },
    {
      "cell_type": "code",
      "execution_count": null,
      "metadata": {
        "id": "8mpV1WmjueFA"
      },
      "outputs": [],
      "source": [
        ""
      ]
    },
    {
      "cell_type": "code",
      "execution_count": null,
      "metadata": {
        "id": "wKaZSFNxueFA"
      },
      "outputs": [],
      "source": [
        ""
      ]
    },
    {
      "cell_type": "markdown",
      "metadata": {
        "id": "Ck9OBA_-ueFA"
      },
      "source": [
        "#### Plot the best regression line"
      ]
    },
    {
      "cell_type": "code",
      "execution_count": null,
      "metadata": {
        "id": "3tecFA82ueFA"
      },
      "outputs": [],
      "source": [
        ""
      ]
    },
    {
      "cell_type": "code",
      "execution_count": null,
      "metadata": {
        "id": "Aio1q12PueFB"
      },
      "outputs": [],
      "source": [
        ""
      ]
    },
    {
      "cell_type": "markdown",
      "metadata": {
        "id": "vOdCosuOueFB"
      },
      "source": [
        "#### Try different learning rate and number of iterations then plot loss vs. epochs, loss vs. Theat_0 and Theta_1\n",
        "#### all regression lines till converge, and the best regression line\n",
        "#### and see the difference in output."
      ]
    },
    {
      "cell_type": "code",
      "execution_count": null,
      "metadata": {
        "id": "0RLcL4TVueFB"
      },
      "outputs": [],
      "source": [
        ""
      ]
    },
    {
      "cell_type": "code",
      "execution_count": null,
      "metadata": {
        "id": "sfdZzziJueFC"
      },
      "outputs": [],
      "source": [
        ""
      ]
    },
    {
      "cell_type": "code",
      "execution_count": null,
      "metadata": {
        "id": "EUKFN2n-ueFC"
      },
      "outputs": [],
      "source": [
        ""
      ]
    },
    {
      "cell_type": "code",
      "execution_count": null,
      "metadata": {
        "id": "qZmbamgwueFC"
      },
      "outputs": [],
      "source": [
        ""
      ]
    },
    {
      "cell_type": "code",
      "execution_count": null,
      "metadata": {
        "id": "TDVV4lWaueFC"
      },
      "outputs": [],
      "source": [
        ""
      ]
    },
    {
      "cell_type": "code",
      "execution_count": null,
      "metadata": {
        "id": "p_gYXntJueFC"
      },
      "outputs": [],
      "source": [
        ""
      ]
    },
    {
      "cell_type": "code",
      "execution_count": null,
      "metadata": {
        "id": "bi8OdoWAueFD"
      },
      "outputs": [],
      "source": [
        ""
      ]
    },
    {
      "cell_type": "code",
      "execution_count": null,
      "metadata": {
        "id": "ucbYavNxueFD"
      },
      "outputs": [],
      "source": [
        ""
      ]
    },
    {
      "cell_type": "code",
      "execution_count": null,
      "metadata": {
        "id": "_sn0iJoCueFD"
      },
      "outputs": [],
      "source": [
        ""
      ]
    },
    {
      "cell_type": "code",
      "execution_count": null,
      "metadata": {
        "id": "pqiZ_8YzueFD"
      },
      "outputs": [],
      "source": [
        ""
      ]
    },
    {
      "cell_type": "code",
      "execution_count": null,
      "metadata": {
        "id": "gH7WZyt-ueFD"
      },
      "outputs": [],
      "source": [
        ""
      ]
    },
    {
      "cell_type": "code",
      "execution_count": null,
      "metadata": {
        "id": "-YYSPt06ueFD"
      },
      "outputs": [],
      "source": [
        ""
      ]
    },
    {
      "cell_type": "markdown",
      "metadata": {
        "id": "9WSaThwTueFE"
      },
      "source": [
        "#### Update the implementation of the Batch GD to be Mini-Batch and repeat the above plots and evaluations\n",
        "#### Change batch size and see the effect\n",
        "### Note: Try once without shuffling the data and once with shuffle and see the effect on the output."
      ]
    },
    {
      "cell_type": "code",
      "execution_count": null,
      "metadata": {
        "id": "yu0XMxSvueFE",
        "outputId": "a19ed4b6-ce88-4218-8e30-4bc3a34dfed0"
      },
      "outputs": [
        {
          "name": "stderr",
          "output_type": "stream",
          "text": [
            "C:\\Users\\fathy\\AppData\\Local\\Temp\\ipykernel_7580\\1669970886.py:9: UserWarning: you are shuffling a 'Series' object which is not a subclass of 'Sequence'; `shuffle` is not guaranteed to behave correctly. E.g., non-numpy array/tensor objects with view semantics may contain duplicates after shuffling.\n",
            "  np.random.shuffle(df[\"X\"])\n",
            "C:\\Users\\fathy\\AppData\\Local\\Temp\\ipykernel_7580\\1669970886.py:9: SettingWithCopyWarning: \n",
            "A value is trying to be set on a copy of a slice from a DataFrame\n",
            "\n",
            "See the caveats in the documentation: https://pandas.pydata.org/pandas-docs/stable/user_guide/indexing.html#returning-a-view-versus-a-copy\n",
            "  np.random.shuffle(df[\"X\"])\n"
          ]
        },
        {
          "data": {
            "image/png": "[encoded data removed]",
            "text/plain": [
              "<Figure size 432x288 with 1 Axes>"
            ]
          },
          "metadata": {
            "needs_background": "light"
          },
          "output_type": "display_data"
        }
      ],
      "source": [
        "theta_0 = 0\n",
        "theta_1 = 0\n",
        "alpha = 0.0001\n",
        "costList = []\n",
        "theta_0_List = []\n",
        "theta_1_List = []\n",
        "df = pd.DataFrame(columns=[\"X\",\"Y\",\"YPredict\"])\n",
        "df[\"X\"] = np.linspace(0,20)\n",
        "np.random.shuffle(df[\"X\"])\n",
        "df[\"Y\"] = -2*df[\"X\"]+1\n",
        "#df = df.sample(frac = 1)\n",
        "\n",
        "b = 5\n",
        "for i in range(100):\n",
        "    for j in range(df.shape[0]//b+1):\n",
        "        theta_0_List.append(theta_0)\n",
        "        theta_1_List.append(theta_1)        \n",
        "        df.loc[(j*b):((j*b)+b),\"YPredict\"] = theta_0 + theta_1 * df.loc[(j*b):((j*b)+b),\"X\"]\n",
        "        CostFunction = (sum((df.loc[j*b:(j*b)+b,\"YPredict\"] - df.loc[j*b:(j*b)+b,\"Y\"])**2)) / (2*b)\n",
        "        costList.append(CostFunction)\n",
        "        Grad_Theta_0 = sum(df.loc[j*b:(j*b)+b,\"YPredict\"] - df.loc[j*b:(j*b)+b,\"Y\"]) / b\n",
        "        Grad_Theta_1 = sum((df.loc[j*b:(j*b)+b,\"YPredict\"] - df.loc[j*b:(j*b)+b,\"Y\"])* df.loc[j*b:(j*b)+b,\"X\"]) / b\n",
        "        theta_0 -= alpha * Grad_Theta_0\n",
        "        theta_1 -= alpha * Grad_Theta_1 \n",
        "\n",
        "plt.plot(theta_0_List,costList)\n",
        "plt.xlabel(\"Theta_0\")\n",
        "plt.ylabel(\"Cost List\")\n",
        "plt.show()\n",
        "\n"
      ]
    },
    {
      "cell_type": "code",
      "execution_count": null,
      "metadata": {
        "id": "R_A97dnRueFE",
        "outputId": "f162d3ff-963f-43fa-8647-02ff9f9b10c2"
      },
      "outputs": [
        {
          "data": {
            "image/png": "[encoded data removed]",
            "text/plain": [
              "<Figure size 432x288 with 1 Axes>"
            ]
          },
          "metadata": {
            "needs_background": "light"
          },
          "output_type": "display_data"
        }
      ],
      "source": [
        "plt.plot(theta_1_List,costList)\n",
        "plt.xlabel(\"Theta_1\")\n",
        "plt.ylabel(\"Cost List\")\n",
        "plt.show()"
      ]
    },
    {
      "cell_type": "code",
      "execution_count": null,
      "metadata": {
        "id": "SrFJMIjDueFF",
        "outputId": "57adea8d-7c83-4d12-d641-858e09bf136c"
      },
      "outputs": [
        {
          "name": "stdout",
          "output_type": "stream",
          "text": [
            "0.99771611505402\n"
          ]
        }
      ],
      "source": [
        "from sklearn.metrics import r2_score\n",
        "print(r2_score(df[\"Y\"], df[\"YPredict\"]))"
      ]
    },
    {
      "cell_type": "code",
      "execution_count": null,
      "metadata": {
        "id": "dYoqLaG_ueFF"
      },
      "outputs": [],
      "source": [
        ""
      ]
    },
    {
      "cell_type": "code",
      "execution_count": null,
      "metadata": {
        "id": "Vk58xdjKueFF"
      },
      "outputs": [],
      "source": [
        ""
      ]
    },
    {
      "cell_type": "code",
      "execution_count": null,
      "metadata": {
        "id": "uvucorusueFG"
      },
      "outputs": [],
      "source": [
        ""
      ]
    },
    {
      "cell_type": "code",
      "execution_count": null,
      "metadata": {
        "id": "RDOaT0NhueFG"
      },
      "outputs": [],
      "source": [
        ""
      ]
    },
    {
      "cell_type": "code",
      "execution_count": null,
      "metadata": {
        "id": "wvq5aWORueFG"
      },
      "outputs": [],
      "source": [
        ""
      ]
    },
    {
      "cell_type": "code",
      "execution_count": null,
      "metadata": {
        "id": "0yikR1HcueFG"
      },
      "outputs": [],
      "source": [
        ""
      ]
    },
    {
      "cell_type": "code",
      "execution_count": null,
      "metadata": {
        "id": "5hLSoXmGueFG"
      },
      "outputs": [],
      "source": [
        ""
      ]
    },
    {
      "cell_type": "code",
      "execution_count": null,
      "metadata": {
        "id": "bugABjNqueFG"
      },
      "outputs": [],
      "source": [
        ""
      ]
    },
    {
      "cell_type": "code",
      "execution_count": null,
      "metadata": {
        "id": "8ueDiMJzueFH"
      },
      "outputs": [],
      "source": [
        ""
      ]
    },
    {
      "cell_type": "code",
      "execution_count": null,
      "metadata": {
        "id": "sGEjdaP4ueFH"
      },
      "outputs": [],
      "source": [
        ""
      ]
    },
    {
      "cell_type": "code",
      "execution_count": null,
      "metadata": {
        "id": "FTPINh5NueFH"
      },
      "outputs": [],
      "source": [
        ""
      ]
    },
    {
      "cell_type": "code",
      "execution_count": null,
      "metadata": {
        "id": "WrWJh3Q0ueFH"
      },
      "outputs": [],
      "source": [
        ""
      ]
    },
    {
      "cell_type": "markdown",
      "metadata": {
        "id": "DQNehaKCueFH"
      },
      "source": [
        "## Stochastic GD"
      ]
    },
    {
      "cell_type": "markdown",
      "metadata": {
        "id": "dm5iVQenueFI"
      },
      "source": [
        "#### Update the implementation of the Batch GD to beStochastic and rpeat the above plots and evaluations\n",
        "#### You can try different learning rate and see its effect.\n",
        "#### Compare to Batch and Mini-Batch GD\n",
        "### Note: Try once without shuffling the data and once with shuffle and see the effect on the output."
      ]
    },
    {
      "cell_type": "code",
      "execution_count": null,
      "metadata": {
        "id": "_-87QOK3ueFI",
        "outputId": "bc242e00-1705-4ee0-f381-785adf623722"
      },
      "outputs": [
        {
          "name": "stderr",
          "output_type": "stream",
          "text": [
            "C:\\Users\\fathy\\AppData\\Local\\Temp\\ipykernel_7580\\389372337.py:9: UserWarning: you are shuffling a 'Series' object which is not a subclass of 'Sequence'; `shuffle` is not guaranteed to behave correctly. E.g., non-numpy array/tensor objects with view semantics may contain duplicates after shuffling.\n",
            "  np.random.shuffle(df[\"X\"])\n",
            "C:\\Users\\fathy\\AppData\\Local\\Temp\\ipykernel_7580\\389372337.py:9: SettingWithCopyWarning: \n",
            "A value is trying to be set on a copy of a slice from a DataFrame\n",
            "\n",
            "See the caveats in the documentation: https://pandas.pydata.org/pandas-docs/stable/user_guide/indexing.html#returning-a-view-versus-a-copy\n",
            "  np.random.shuffle(df[\"X\"])\n"
          ]
        },
        {
          "data": {
            "image/png": "[encoded data removed]",
            "text/plain": [
              "<Figure size 432x288 with 1 Axes>"
            ]
          },
          "metadata": {
            "needs_background": "light"
          },
          "output_type": "display_data"
        }
      ],
      "source": [
        "theta_0 = 0\n",
        "theta_1 = 0\n",
        "alpha = 0.001\n",
        "theta0List = []\n",
        "theta1List = []\n",
        "CosyFuncList = []\n",
        "df = pd.DataFrame(columns=[\"X\",\"Y\",\"YPredict\"])\n",
        "df[\"X\"] = np.linspace(0,20)\n",
        "np.random.shuffle(df[\"X\"])\n",
        "df[\"Y\"] = -2*df[\"X\"]+1\n",
        "#df = df.sample(frac = 1)\n",
        "\n",
        "for i in range(200):\n",
        "    for j in range(df.shape[0]):\n",
        "        theta0List.append(theta_0)\n",
        "        theta1List.append(theta_1)\n",
        "        df.loc[j,\"YPredict\"]=theta_0 + theta_1*df.loc[j,\"X\"]\n",
        "        costFunc = ((df.loc[j,\"YPredict\"] - df.loc[j,\"Y\"])**2)/2\n",
        "        CosyFuncList.append(costFunc)\n",
        "        Gradient_Theta0 = (df.loc[j,\"YPredict\"] - df.loc[j,\"Y\"])\n",
        "        Gradient_Theta1 = (df.loc[j,\"YPredict\"] - df.loc[j,\"Y\"]) * df.loc[j,\"X\"]\n",
        "        theta_0 -= alpha * Gradient_Theta0\n",
        "        theta_1 -= alpha * Gradient_Theta1\n",
        "    #prevCostFunc = costFunc\n",
        "    #if abs(prevCostFunc-costFunc) <= 0.0001:\n",
        "        #break\n",
        "plt.plot(theta0List,CosyFuncList)\n",
        "plt.xlabel(\"Theta 0\")\n",
        "plt.ylabel(\"Cost List\")\n",
        "plt.show()\n"
      ]
    },
    {
      "cell_type": "code",
      "execution_count": null,
      "metadata": {
        "id": "utBA-GQvueFJ",
        "outputId": "b3ca70af-9ee8-4e58-934b-ee599f368df8"
      },
      "outputs": [
        {
          "data": {
            "image/png": "[encoded data removed]",
            "text/plain": [
              "<Figure size 432x288 with 1 Axes>"
            ]
          },
          "metadata": {
            "needs_background": "light"
          },
          "output_type": "display_data"
        }
      ],
      "source": [
        "plt.plot(theta1List,CosyFuncList)\n",
        "plt.xlabel(\"Theta 1\")\n",
        "plt.ylabel(\"Cost Lits\")\n",
        "plt.show()"
      ]
    },
    {
      "cell_type": "code",
      "execution_count": null,
      "metadata": {
        "id": "Ec5JEWlNueFP",
        "outputId": "a29b2428-7edd-4817-f750-ed295999a1e1"
      },
      "outputs": [
        {
          "name": "stdout",
          "output_type": "stream",
          "text": [
            "0.9999851570340178\n"
          ]
        }
      ],
      "source": [
        "from sklearn.metrics import r2_score\n",
        "print(r2_score(df[\"Y\"], df[\"YPredict\"]))"
      ]
    },
    {
      "cell_type": "code",
      "execution_count": null,
      "metadata": {
        "id": "2jzmxKzRueFQ",
        "outputId": "74f50756-5783-4d06-fb33-df3c4df99e8e"
      },
      "outputs": [
        {
          "data": {
            "image/png": "[encoded data removed]",
            "text/plain": [
              "<Figure size 432x288 with 1 Axes>"
            ]
          },
          "metadata": {
            "needs_background": "light"
          },
          "output_type": "display_data"
        }
      ],
      "source": [
        "plt.plot(range(len(CosyFuncList)),CosyFuncList)\n",
        "plt.xlabel(\"Iterations\")\n",
        "plt.ylabel(\"Cost List\")\n",
        "plt.show()"
      ]
    },
    {
      "cell_type": "code",
      "execution_count": null,
      "metadata": {
        "id": "WFX_K6ZMueFR"
      },
      "outputs": [],
      "source": [
        ""
      ]
    },
    {
      "cell_type": "code",
      "execution_count": null,
      "metadata": {
        "id": "UeszKEBwueFS"
      },
      "outputs": [],
      "source": [
        ""
      ]
    },
    {
      "cell_type": "code",
      "execution_count": null,
      "metadata": {
        "id": "YcWnrAT3ueFX"
      },
      "outputs": [],
      "source": [
        ""
      ]
    },
    {
      "cell_type": "code",
      "execution_count": null,
      "metadata": {
        "id": "0UjoAX_6ueFX"
      },
      "outputs": [],
      "source": [
        ""
      ]
    },
    {
      "cell_type": "code",
      "execution_count": null,
      "metadata": {
        "id": "n279vy9TueFY"
      },
      "outputs": [],
      "source": [
        ""
      ]
    },
    {
      "cell_type": "code",
      "execution_count": null,
      "metadata": {
        "id": "kWKMyOZzueFY"
      },
      "outputs": [],
      "source": [
        ""
      ]
    }
  ],
  "metadata": {
    "kernelspec": {
      "display_name": "Python 3",
      "language": "python",
      "name": "python3"
    },
    "language_info": {
      "codemirror_mode": {
        "name": "ipython",
        "version": 3
      },
      "file_extension": ".py",
      "mimetype": "text/x-python",
      "name": "python",
      "nbconvert_exporter": "python",
      "pygments_lexer": "ipython3",
      "version": "3.10.2"
    },
    "colab": {
      "name": "Practical Session 2 GD Variants Batch - Mini-Batch - Stochastic.ipynb",
      "provenance": [],
      "include_colab_link": true
    }
  },
  "nbformat": 4,
  "nbformat_minor": 0
}