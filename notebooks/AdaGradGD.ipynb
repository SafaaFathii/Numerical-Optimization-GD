{
  "nbformat": 4,
  "nbformat_minor": 0,
  "metadata": {
    "colab": {
      "name": "AdaGradGD.ipynb",
      "provenance": [],
      "collapsed_sections": [],
      "authorship_tag": "ABX9TyOpcdVQIbu2myxSpVY0EP+a",
      "include_colab_link": true
    },
    "kernelspec": {
      "name": "python3",
      "display_name": "Python 3"
    },
    "language_info": {
      "name": "python"
    }
  },
  "cells": [
    {
      "cell_type": "markdown",
      "metadata": {
        "id": "view-in-github",
        "colab_type": "text"
      },
      "source": [
        "<a href=\"https://colab.research.google.com/github/SafaaFathii/Numerical-Optimization-GD/blob/main/notebooks/AdaGradGD.ipynb\" target=\"_parent\"><img src=\"https://colab.research.google.com/assets/colab-badge.svg\" alt=\"Open In Colab\"/></a>"
      ]
    },
    {
      "cell_type": "code",
      "execution_count": null,
      "metadata": {
        "id": "5viN7q2-9kAd"
      },
      "outputs": [],
      "source": [
        "import numpy as np\n",
        "import pandas as pd\n",
        "import math\n",
        "import matplotlib.pyplot as plt"
      ]
    },
    {
      "cell_type": "code",
      "source": [
        "df = pd.DataFrame(columns=[\"X\",\"Y\"])\n",
        "df[\"X\"] = np.linspace(0,20)\n",
        "df[\"Y\"] = -1*df[\"X\"]+2\n",
        "from sklearn.utils import shuffle\n",
        "df = shuffle(df)\n",
        "df.reset_index(inplace = True , drop=True)\n",
        "df.head()"
      ],
      "metadata": {
        "colab": {
          "base_uri": "https://localhost:8080/",
          "height": 206
        },
        "id": "qV3YHEFt9zJ5",
        "outputId": "b4c8dd94-7e83-4a7d-e201-20846d5f442b"
      },
      "execution_count": null,
      "outputs": [
        {
          "output_type": "execute_result",
          "data": {
            "text/plain": [
              "           X          Y\n",
              "0  12.244898 -10.244898\n",
              "1   4.081633  -2.081633\n",
              "2   9.795918  -7.795918\n",
              "3   8.979592  -6.979592\n",
              "4  17.959184 -15.959184"
            ],
            "text/html": [
              "\n",
              "  <div id=\"df-f52b0c31-e34c-4276-97eb-8e5d257609ab\">\n",
              "    <div class=\"colab-df-container\">\n",
              "      <div>\n",
              "<style scoped>\n",
              "    .dataframe tbody tr th:only-of-type {\n",
              "        vertical-align: middle;\n",
              "    }\n",
              "\n",
              "    .dataframe tbody tr th {\n",
              "        vertical-align: top;\n",
              "    }\n",
              "\n",
              "    .dataframe thead th {\n",
              "        text-align: right;\n",
              "    }\n",
              "</style>\n",
              "<table border=\"1\" class=\"dataframe\">\n",
              "  <thead>\n",
              "    <tr style=\"text-align: right;\">\n",
              "      <th></th>\n",
              "      <th>X</th>\n",
              "      <th>Y</th>\n",
              "    </tr>\n",
              "  </thead>\n",
              "  <tbody>\n",
              "    <tr>\n",
              "      <th>0</th>\n",
              "      <td>12.244898</td>\n",
              "      <td>-10.244898</td>\n",
              "    </tr>\n",
              "    <tr>\n",
              "      <th>1</th>\n",
              "      <td>4.081633</td>\n",
              "      <td>-2.081633</td>\n",
              "    </tr>\n",
              "    <tr>\n",
              "      <th>2</th>\n",
              "      <td>9.795918</td>\n",
              "      <td>-7.795918</td>\n",
              "    </tr>\n",
              "    <tr>\n",
              "      <th>3</th>\n",
              "      <td>8.979592</td>\n",
              "      <td>-6.979592</td>\n",
              "    </tr>\n",
              "    <tr>\n",
              "      <th>4</th>\n",
              "      <td>17.959184</td>\n",
              "      <td>-15.959184</td>\n",
              "    </tr>\n",
              "  </tbody>\n",
              "</table>\n",
              "</div>\n",
              "      <button class=\"colab-df-convert\" onclick=\"convertToInteractive('df-f52b0c31-e34c-4276-97eb-8e5d257609ab')\"\n",
              "              title=\"Convert this dataframe to an interactive table.\"\n",
              "              style=\"display:none;\">\n",
              "        \n",
              "  <svg xmlns=\"http://www.w3.org/2000/svg\" height=\"24px\"viewBox=\"0 0 24 24\"\n",
              "       width=\"24px\">\n",
              "    <path d=\"M0 0h24v24H0V0z\" fill=\"none\"/>\n",
              "    <path d=\"M18.56 5.44l.94 2.06.94-2.06 2.06-.94-2.06-.94-.94-2.06-.94 2.06-2.06.94zm-11 1L8.5 8.5l.94-2.06 2.06-.94-2.06-.94L8.5 2.5l-.94 2.06-2.06.94zm10 10l.94 2.06.94-2.06 2.06-.94-2.06-.94-.94-2.06-.94 2.06-2.06.94z\"/><path d=\"M17.41 7.96l-1.37-1.37c-.4-.4-.92-.59-1.43-.59-.52 0-1.04.2-1.43.59L10.3 9.45l-7.72 7.72c-.78.78-.78 2.05 0 2.83L4 21.41c.39.39.9.59 1.41.59.51 0 1.02-.2 1.41-.59l7.78-7.78 2.81-2.81c.8-.78.8-2.07 0-2.86zM5.41 20L4 18.59l7.72-7.72 1.47 1.35L5.41 20z\"/>\n",
              "  </svg>\n",
              "      </button>\n",
              "      \n",
              "  <style>\n",
              "    .colab-df-container {\n",
              "      display:flex;\n",
              "      flex-wrap:wrap;\n",
              "      gap: 12px;\n",
              "    }\n",
              "\n",
              "    .colab-df-convert {\n",
              "      background-color: #E8F0FE;\n",
              "      border: none;\n",
              "      border-radius: 50%;\n",
              "      cursor: pointer;\n",
              "      display: none;\n",
              "      fill: #1967D2;\n",
              "      height: 32px;\n",
              "      padding: 0 0 0 0;\n",
              "      width: 32px;\n",
              "    }\n",
              "\n",
              "    .colab-df-convert:hover {\n",
              "      background-color: #E2EBFA;\n",
              "      box-shadow: 0px 1px 2px rgba(60, 64, 67, 0.3), 0px 1px 3px 1px rgba(60, 64, 67, 0.15);\n",
              "      fill: #174EA6;\n",
              "    }\n",
              "\n",
              "    [theme=dark] .colab-df-convert {\n",
              "      background-color: #3B4455;\n",
              "      fill: #D2E3FC;\n",
              "    }\n",
              "\n",
              "    [theme=dark] .colab-df-convert:hover {\n",
              "      background-color: #434B5C;\n",
              "      box-shadow: 0px 1px 3px 1px rgba(0, 0, 0, 0.15);\n",
              "      filter: drop-shadow(0px 1px 2px rgba(0, 0, 0, 0.3));\n",
              "      fill: #FFFFFF;\n",
              "    }\n",
              "  </style>\n",
              "\n",
              "      <script>\n",
              "        const buttonEl =\n",
              "          document.querySelector('#df-f52b0c31-e34c-4276-97eb-8e5d257609ab button.colab-df-convert');\n",
              "        buttonEl.style.display =\n",
              "          google.colab.kernel.accessAllowed ? 'block' : 'none';\n",
              "\n",
              "        async function convertToInteractive(key) {\n",
              "          const element = document.querySelector('#df-f52b0c31-e34c-4276-97eb-8e5d257609ab');\n",
              "          const dataTable =\n",
              "            await google.colab.kernel.invokeFunction('convertToInteractive',\n",
              "                                                     [key], {});\n",
              "          if (!dataTable) return;\n",
              "\n",
              "          const docLinkHtml = 'Like what you see? Visit the ' +\n",
              "            '<a target=\"_blank\" href=https://colab.research.google.com/notebooks/data_table.ipynb>data table notebook</a>'\n",
              "            + ' to learn more about interactive tables.';\n",
              "          element.innerHTML = '';\n",
              "          dataTable['output_type'] = 'display_data';\n",
              "          await google.colab.output.renderOutput(dataTable, element);\n",
              "          const docLink = document.createElement('div');\n",
              "          docLink.innerHTML = docLinkHtml;\n",
              "          element.appendChild(docLink);\n",
              "        }\n",
              "      </script>\n",
              "    </div>\n",
              "  </div>\n",
              "  "
            ]
          },
          "metadata": {},
          "execution_count": 82
        }
      ]
    },
    {
      "cell_type": "markdown",
      "source": [
        "AdaGrad Batch Gradient Descent"
      ],
      "metadata": {
        "id": "IKKQodIs-exG"
      }
    },
    {
      "cell_type": "code",
      "source": [
        "def AdaGrad_Batch_GD(df,alpha,eps):\n",
        "  theta_0 = 0\n",
        "  theta_1 =0\n",
        "  vt0 = 0\n",
        "  vt1 = 0\n",
        "  Cost_List = []\n",
        "  theta_0_List = []\n",
        "  theta_1_List = []\n",
        "  for i in range(1000):\n",
        "    theta_0_List.append(theta_0)\n",
        "    theta_1_List.append(theta_1)\n",
        "    df[\"Y_Predict\"] = theta_0 + theta_1 * df[\"X\"]\n",
        "    Cost = sum(np.power(df[\"Y_Predict\"]-df[\"Y\"] , 2)) / (2*df.shape[0])\n",
        "    Cost_List.append(Cost)\n",
        "    G_Theta_0 = sum(df[\"Y_Predict\"]-df[\"Y\"])/df.shape[0]\n",
        "    G_Theta_1 = sum((df[\"Y_Predict\"] - df[\"Y\"])*df[\"X\"])/df.shape[0]\n",
        "    vt0 += (G_Theta_0)**2\n",
        "    vt1 += (G_Theta_1)**2\n",
        "    theta_0 -= (alpha * G_Theta_0)/(math.sqrt(vt0)+eps)\n",
        "    theta_1 -= (alpha * G_Theta_1)/(math.sqrt(vt1)+eps)\n",
        "  return theta_0_List,theta_1_List,Cost_List,theta_0,theta_1"
      ],
      "metadata": {
        "id": "5BD2oq_M-GEb"
      },
      "execution_count": null,
      "outputs": []
    },
    {
      "cell_type": "code",
      "source": [
        "theta_0_List,theta_1_List,Cost_List,theta_0,theta_1 = AdaGrad_Batch_GD(df,0.1,1e-8)"
      ],
      "metadata": {
        "id": "X5yX7GZ-A3Fj"
      },
      "execution_count": null,
      "outputs": []
    },
    {
      "cell_type": "code",
      "source": [
        "from sklearn.metrics import r2_score\n",
        "print(r2_score(df[\"Y\"], df[\"Y_Predict\"]))"
      ],
      "metadata": {
        "colab": {
          "base_uri": "https://localhost:8080/"
        },
        "id": "hqdSpYtuA29e",
        "outputId": "ba8f034f-72c6-4f22-b430-343e0341a54d"
      },
      "execution_count": null,
      "outputs": [
        {
          "output_type": "stream",
          "name": "stdout",
          "text": [
            "0.9933828333566689\n"
          ]
        }
      ]
    },
    {
      "cell_type": "code",
      "source": [
        "ax = plt.axes()\n",
        "ax.scatter(df[\"X\"],df[\"Y\"])\n",
        "ax.plot(df[\"X\"],df[\"Y_Predict\"])\n",
        "plt.show()"
      ],
      "metadata": {
        "colab": {
          "base_uri": "https://localhost:8080/",
          "height": 265
        },
        "id": "5H4F5jDeBL4w",
        "outputId": "fc03249e-8341-4221-8365-cba9f804de4c"
      },
      "execution_count": null,
      "outputs": [
        {
          "output_type": "display_data",
          "data": {
            "text/plain": [
              "<Figure size 432x288 with 1 Axes>"
            ],
            "image/png": "[encoded data removed]"
          },
          "metadata": {
            "needs_background": "light"
          }
        }
      ]
    },
    {
      "cell_type": "code",
      "source": [
        "plt.plot(theta_0_List,Cost_List)\n",
        "plt.xlabel(\"Theta 0\")\n",
        "plt.ylabel(\"Cost Value\")\n",
        "plt.show()"
      ],
      "metadata": {
        "colab": {
          "base_uri": "https://localhost:8080/",
          "height": 279
        },
        "id": "5eRipyhXBThK",
        "outputId": "52aa1114-ac49-4873-c1c9-fd414c7577a9"
      },
      "execution_count": null,
      "outputs": [
        {
          "output_type": "display_data",
          "data": {
            "text/plain": [
              "<Figure size 432x288 with 1 Axes>"
            ],
            "image/png": "[encoded data removed]"
          },
          "metadata": {
            "needs_background": "light"
          }
        }
      ]
    },
    {
      "cell_type": "code",
      "source": [
        "plt.plot(theta_1_List,Cost_List)\n",
        "plt.xlabel(\"Theta 1\")\n",
        "plt.ylabel(\"Cost Value\")\n",
        "plt.show()"
      ],
      "metadata": {
        "colab": {
          "base_uri": "https://localhost:8080/",
          "height": 279
        },
        "id": "-gm9iURbBd2Z",
        "outputId": "84d907e4-bc6c-4a7d-fae6-ce3d4d4127a7"
      },
      "execution_count": null,
      "outputs": [
        {
          "output_type": "display_data",
          "data": {
            "text/plain": [
              "<Figure size 432x288 with 1 Axes>"
            ],
            "image/png": "[encoded data removed]"
          },
          "metadata": {
            "needs_background": "light"
          }
        }
      ]
    },
    {
      "cell_type": "code",
      "source": [
        "plt.plot(range(len(Cost_List)),Cost_List)\n",
        "plt.xlabel(\"Iteration\")\n",
        "plt.ylabel(\"Cost Value\")\n",
        "plt.show()"
      ],
      "metadata": {
        "colab": {
          "base_uri": "https://localhost:8080/",
          "height": 279
        },
        "id": "VkqXjjwYBzWR",
        "outputId": "0194e467-22c1-46d0-bdf8-16e231ae29fc"
      },
      "execution_count": null,
      "outputs": [
        {
          "output_type": "display_data",
          "data": {
            "text/plain": [
              "<Figure size 432x288 with 1 Axes>"
            ],
            "image/png": "[encoded data removed]"
          },
          "metadata": {
            "needs_background": "light"
          }
        }
      ]
    },
    {
      "cell_type": "code",
      "source": [
        ""
      ],
      "metadata": {
        "id": "3xHkks9BB8N9"
      },
      "execution_count": null,
      "outputs": []
    },
    {
      "cell_type": "markdown",
      "source": [
        "AdaGrad Single MiniBatch"
      ],
      "metadata": {
        "id": "sxVPRLmQB9oC"
      }
    },
    {
      "cell_type": "code",
      "source": [
        "df2 = pd.DataFrame(columns=[\"X\",\"Y\"])\n",
        "df2[\"X\"] = np.linspace(0,20)\n",
        "df2[\"Y\"] = -1*df2[\"X\"]+2\n",
        "from sklearn.utils import shuffle\n",
        "df2 = shuffle(df2)\n",
        "df2.reset_index(inplace = True , drop=True)\n",
        "df2.head()"
      ],
      "metadata": {
        "colab": {
          "base_uri": "https://localhost:8080/",
          "height": 206
        },
        "id": "yQp8wR1mDJM6",
        "outputId": "7da6c902-6433-4c73-cdee-a3ff001e2fb4"
      },
      "execution_count": null,
      "outputs": [
        {
          "output_type": "execute_result",
          "data": {
            "text/plain": [
              "           X          Y\n",
              "0   2.448980  -0.448980\n",
              "1   6.530612  -4.530612\n",
              "2  13.877551 -11.877551\n",
              "3  19.591837 -17.591837\n",
              "4   8.163265  -6.163265"
            ],
            "text/html": [
              "\n",
              "  <div id=\"df-2cbeccf1-4bf5-481a-8e1e-021f6145c565\">\n",
              "    <div class=\"colab-df-container\">\n",
              "      <div>\n",
              "<style scoped>\n",
              "    .dataframe tbody tr th:only-of-type {\n",
              "        vertical-align: middle;\n",
              "    }\n",
              "\n",
              "    .dataframe tbody tr th {\n",
              "        vertical-align: top;\n",
              "    }\n",
              "\n",
              "    .dataframe thead th {\n",
              "        text-align: right;\n",
              "    }\n",
              "</style>\n",
              "<table border=\"1\" class=\"dataframe\">\n",
              "  <thead>\n",
              "    <tr style=\"text-align: right;\">\n",
              "      <th></th>\n",
              "      <th>X</th>\n",
              "      <th>Y</th>\n",
              "    </tr>\n",
              "  </thead>\n",
              "  <tbody>\n",
              "    <tr>\n",
              "      <th>0</th>\n",
              "      <td>2.448980</td>\n",
              "      <td>-0.448980</td>\n",
              "    </tr>\n",
              "    <tr>\n",
              "      <th>1</th>\n",
              "      <td>6.530612</td>\n",
              "      <td>-4.530612</td>\n",
              "    </tr>\n",
              "    <tr>\n",
              "      <th>2</th>\n",
              "      <td>13.877551</td>\n",
              "      <td>-11.877551</td>\n",
              "    </tr>\n",
              "    <tr>\n",
              "      <th>3</th>\n",
              "      <td>19.591837</td>\n",
              "      <td>-17.591837</td>\n",
              "    </tr>\n",
              "    <tr>\n",
              "      <th>4</th>\n",
              "      <td>8.163265</td>\n",
              "      <td>-6.163265</td>\n",
              "    </tr>\n",
              "  </tbody>\n",
              "</table>\n",
              "</div>\n",
              "      <button class=\"colab-df-convert\" onclick=\"convertToInteractive('df-2cbeccf1-4bf5-481a-8e1e-021f6145c565')\"\n",
              "              title=\"Convert this dataframe to an interactive table.\"\n",
              "              style=\"display:none;\">\n",
              "        \n",
              "  <svg xmlns=\"http://www.w3.org/2000/svg\" height=\"24px\"viewBox=\"0 0 24 24\"\n",
              "       width=\"24px\">\n",
              "    <path d=\"M0 0h24v24H0V0z\" fill=\"none\"/>\n",
              "    <path d=\"M18.56 5.44l.94 2.06.94-2.06 2.06-.94-2.06-.94-.94-2.06-.94 2.06-2.06.94zm-11 1L8.5 8.5l.94-2.06 2.06-.94-2.06-.94L8.5 2.5l-.94 2.06-2.06.94zm10 10l.94 2.06.94-2.06 2.06-.94-2.06-.94-.94-2.06-.94 2.06-2.06.94z\"/><path d=\"M17.41 7.96l-1.37-1.37c-.4-.4-.92-.59-1.43-.59-.52 0-1.04.2-1.43.59L10.3 9.45l-7.72 7.72c-.78.78-.78 2.05 0 2.83L4 21.41c.39.39.9.59 1.41.59.51 0 1.02-.2 1.41-.59l7.78-7.78 2.81-2.81c.8-.78.8-2.07 0-2.86zM5.41 20L4 18.59l7.72-7.72 1.47 1.35L5.41 20z\"/>\n",
              "  </svg>\n",
              "      </button>\n",
              "      \n",
              "  <style>\n",
              "    .colab-df-container {\n",
              "      display:flex;\n",
              "      flex-wrap:wrap;\n",
              "      gap: 12px;\n",
              "    }\n",
              "\n",
              "    .colab-df-convert {\n",
              "      background-color: #E8F0FE;\n",
              "      border: none;\n",
              "      border-radius: 50%;\n",
              "      cursor: pointer;\n",
              "      display: none;\n",
              "      fill: #1967D2;\n",
              "      height: 32px;\n",
              "      padding: 0 0 0 0;\n",
              "      width: 32px;\n",
              "    }\n",
              "\n",
              "    .colab-df-convert:hover {\n",
              "      background-color: #E2EBFA;\n",
              "      box-shadow: 0px 1px 2px rgba(60, 64, 67, 0.3), 0px 1px 3px 1px rgba(60, 64, 67, 0.15);\n",
              "      fill: #174EA6;\n",
              "    }\n",
              "\n",
              "    [theme=dark] .colab-df-convert {\n",
              "      background-color: #3B4455;\n",
              "      fill: #D2E3FC;\n",
              "    }\n",
              "\n",
              "    [theme=dark] .colab-df-convert:hover {\n",
              "      background-color: #434B5C;\n",
              "      box-shadow: 0px 1px 3px 1px rgba(0, 0, 0, 0.15);\n",
              "      filter: drop-shadow(0px 1px 2px rgba(0, 0, 0, 0.3));\n",
              "      fill: #FFFFFF;\n",
              "    }\n",
              "  </style>\n",
              "\n",
              "      <script>\n",
              "        const buttonEl =\n",
              "          document.querySelector('#df-2cbeccf1-4bf5-481a-8e1e-021f6145c565 button.colab-df-convert');\n",
              "        buttonEl.style.display =\n",
              "          google.colab.kernel.accessAllowed ? 'block' : 'none';\n",
              "\n",
              "        async function convertToInteractive(key) {\n",
              "          const element = document.querySelector('#df-2cbeccf1-4bf5-481a-8e1e-021f6145c565');\n",
              "          const dataTable =\n",
              "            await google.colab.kernel.invokeFunction('convertToInteractive',\n",
              "                                                     [key], {});\n",
              "          if (!dataTable) return;\n",
              "\n",
              "          const docLinkHtml = 'Like what you see? Visit the ' +\n",
              "            '<a target=\"_blank\" href=https://colab.research.google.com/notebooks/data_table.ipynb>data table notebook</a>'\n",
              "            + ' to learn more about interactive tables.';\n",
              "          element.innerHTML = '';\n",
              "          dataTable['output_type'] = 'display_data';\n",
              "          await google.colab.output.renderOutput(dataTable, element);\n",
              "          const docLink = document.createElement('div');\n",
              "          docLink.innerHTML = docLinkHtml;\n",
              "          element.appendChild(docLink);\n",
              "        }\n",
              "      </script>\n",
              "    </div>\n",
              "  </div>\n",
              "  "
            ]
          },
          "metadata": {},
          "execution_count": 90
        }
      ]
    },
    {
      "cell_type": "code",
      "source": [
        "def AdaGrad_Single_MiniBatch(df3,alpha,eps):\n",
        "    theta_0 = 0\n",
        "    theta_1 = 0\n",
        "    theta0List = []\n",
        "    theta1List = []\n",
        "    CostList = []\n",
        "    vt0 = 0\n",
        "    vt1 = 0\n",
        "    CostPrev = 0\n",
        "    batchSize = len(df3)//5\n",
        "    end = False\n",
        "    for i in range(200):\n",
        "      for j in range(0,df3.shape[0],batchSize):\n",
        "        theta0List.append(theta_0)\n",
        "        theta1List.append(theta_1)\n",
        "        df3.loc[j:j+batchSize-1,\"Y_Predict\"]= theta_0+theta_1*df3.loc[j:j+batchSize-1,\"X\"]\n",
        "        Cost = sum(( df3.loc[j:j+batchSize-1,\"Y_Predict\"]- df3.loc[j:j+batchSize-1,\"Y\"])**2)/(2*batchSize)\n",
        "        CostList.append(Cost) \n",
        "        Gradient_Theta_0 = sum(df3.loc[j:j+batchSize-1,\"Y_Predict\"] - df3.loc[j:j+batchSize-1,\"Y\"])/batchSize\n",
        "        Gradient_Theta_1 = sum((df3.loc[j:j+batchSize-1,\"Y_Predict\"] - df3.loc[j:j+batchSize-1,\"Y\"]) * df3.loc[j:j+batchSize-1,\"X\"])/batchSize\n",
        "\n",
        "        vt0 += (Gradient_Theta_0)**2\n",
        "        vt1 += (Gradient_Theta_1)**2\n",
        "        theta_0 -= (alpha * Gradient_Theta_0)/(math.sqrt(vt0)+eps)\n",
        "        theta_1 -= (alpha * Gradient_Theta_1)/(math.sqrt(vt1)+eps)\n",
        "\n",
        "      if abs(Cost - CostPrev)<0.001:\n",
        "        end = True\n",
        "      else:\n",
        "        CostPrev = Cost   \n",
        "      if end:\n",
        "        break\n",
        "    return theta0List,theta1List,CostList,theta_0,theta_1"
      ],
      "metadata": {
        "id": "3F77M9sCCDKY"
      },
      "execution_count": null,
      "outputs": []
    },
    {
      "cell_type": "code",
      "source": [
        "theta_0_List,theta_1_List,Cost_List,theta_0,theta_1 = AdaGrad_Single_MiniBatch(df2,0.1,1e-8)"
      ],
      "metadata": {
        "id": "27swPpK_D5Kb"
      },
      "execution_count": null,
      "outputs": []
    },
    {
      "cell_type": "code",
      "source": [
        "from sklearn.metrics import r2_score\n",
        "print(r2_score(df2[\"Y\"], df2[\"Y_Predict\"]))"
      ],
      "metadata": {
        "colab": {
          "base_uri": "https://localhost:8080/"
        },
        "id": "s4J7_Y-YEGcn",
        "outputId": "b815c1fe-49ec-421a-e41b-323462632518"
      },
      "execution_count": null,
      "outputs": [
        {
          "output_type": "stream",
          "name": "stdout",
          "text": [
            "0.9918948579805301\n"
          ]
        }
      ]
    },
    {
      "cell_type": "code",
      "source": [
        "ax = plt.axes()\n",
        "ax.scatter(df2[\"X\"],df2[\"Y\"])\n",
        "ax.plot(df2[\"X\"],df2[\"Y_Predict\"])\n",
        "plt.show()"
      ],
      "metadata": {
        "colab": {
          "base_uri": "https://localhost:8080/",
          "height": 265
        },
        "id": "gRtgpn10ESWu",
        "outputId": "31b399cb-c45a-453a-9078-6b112fcc5aef"
      },
      "execution_count": null,
      "outputs": [
        {
          "output_type": "display_data",
          "data": {
            "text/plain": [
              "<Figure size 432x288 with 1 Axes>"
            ],
            "image/png": "[encoded data removed]"
          },
          "metadata": {
            "needs_background": "light"
          }
        }
      ]
    },
    {
      "cell_type": "code",
      "source": [
        "plt.plot(theta_0_List,Cost_List)\n",
        "plt.xlabel(\"Theta 0\")\n",
        "plt.ylabel(\"Cost Value\")\n",
        "plt.show()"
      ],
      "metadata": {
        "colab": {
          "base_uri": "https://localhost:8080/",
          "height": 279
        },
        "id": "Qdwez5weEZSY",
        "outputId": "a5548f91-f801-4e22-a815-a59028cc53ed"
      },
      "execution_count": null,
      "outputs": [
        {
          "output_type": "display_data",
          "data": {
            "text/plain": [
              "<Figure size 432x288 with 1 Axes>"
            ],
            "image/png": "[encoded data removed]"
          },
          "metadata": {
            "needs_background": "light"
          }
        }
      ]
    },
    {
      "cell_type": "code",
      "source": [
        "plt.plot(theta_1_List,Cost_List)\n",
        "plt.xlabel(\"Theta 1\")\n",
        "plt.ylabel(\"Cost Value\")\n",
        "plt.show()"
      ],
      "metadata": {
        "colab": {
          "base_uri": "https://localhost:8080/",
          "height": 279
        },
        "id": "_Mbfev4DEd5W",
        "outputId": "858e8a86-e443-4c29-e71b-d59fd0949e0a"
      },
      "execution_count": null,
      "outputs": [
        {
          "output_type": "display_data",
          "data": {
            "text/plain": [
              "<Figure size 432x288 with 1 Axes>"
            ],
            "image/png": "[encoded data removed]"
          },
          "metadata": {
            "needs_background": "light"
          }
        }
      ]
    },
    {
      "cell_type": "code",
      "source": [
        ""
      ],
      "metadata": {
        "id": "HBUPmqtsEgkp"
      },
      "execution_count": null,
      "outputs": []
    },
    {
      "cell_type": "markdown",
      "source": [
        "AdaGrad Single Stochastic"
      ],
      "metadata": {
        "id": "7Fl1SHqWE3Cu"
      }
    },
    {
      "cell_type": "code",
      "source": [
        "df3 = pd.DataFrame(columns=[\"X\",\"Y\",\"Y_Predict\"])\n",
        "df3[\"X\"] = np.linspace(0,20)\n",
        "df3[\"Y\"] = -1*df3[\"X\"]+2\n",
        "from sklearn.utils import shuffle\n",
        "df3 = shuffle(df3)\n",
        "df3.reset_index(inplace = True , drop=True)\n",
        "df3.head()"
      ],
      "metadata": {
        "colab": {
          "base_uri": "https://localhost:8080/",
          "height": 206
        },
        "id": "84BUGTyDE5yn",
        "outputId": "63f9f056-c766-43ca-c600-dda7be4ccb03"
      },
      "execution_count": null,
      "outputs": [
        {
          "output_type": "execute_result",
          "data": {
            "text/plain": [
              "           X          Y Y_Predict\n",
              "0   5.306122  -3.306122       NaN\n",
              "1  10.612245  -8.612245       NaN\n",
              "2  13.877551 -11.877551       NaN\n",
              "3  13.061224 -11.061224       NaN\n",
              "4  12.244898 -10.244898       NaN"
            ],
            "text/html": [
              "\n",
              "  <div id=\"df-74ecf6c1-9560-4388-bf74-50a1b7a5fdbe\">\n",
              "    <div class=\"colab-df-container\">\n",
              "      <div>\n",
              "<style scoped>\n",
              "    .dataframe tbody tr th:only-of-type {\n",
              "        vertical-align: middle;\n",
              "    }\n",
              "\n",
              "    .dataframe tbody tr th {\n",
              "        vertical-align: top;\n",
              "    }\n",
              "\n",
              "    .dataframe thead th {\n",
              "        text-align: right;\n",
              "    }\n",
              "</style>\n",
              "<table border=\"1\" class=\"dataframe\">\n",
              "  <thead>\n",
              "    <tr style=\"text-align: right;\">\n",
              "      <th></th>\n",
              "      <th>X</th>\n",
              "      <th>Y</th>\n",
              "      <th>Y_Predict</th>\n",
              "    </tr>\n",
              "  </thead>\n",
              "  <tbody>\n",
              "    <tr>\n",
              "      <th>0</th>\n",
              "      <td>5.306122</td>\n",
              "      <td>-3.306122</td>\n",
              "      <td>NaN</td>\n",
              "    </tr>\n",
              "    <tr>\n",
              "      <th>1</th>\n",
              "      <td>10.612245</td>\n",
              "      <td>-8.612245</td>\n",
              "      <td>NaN</td>\n",
              "    </tr>\n",
              "    <tr>\n",
              "      <th>2</th>\n",
              "      <td>13.877551</td>\n",
              "      <td>-11.877551</td>\n",
              "      <td>NaN</td>\n",
              "    </tr>\n",
              "    <tr>\n",
              "      <th>3</th>\n",
              "      <td>13.061224</td>\n",
              "      <td>-11.061224</td>\n",
              "      <td>NaN</td>\n",
              "    </tr>\n",
              "    <tr>\n",
              "      <th>4</th>\n",
              "      <td>12.244898</td>\n",
              "      <td>-10.244898</td>\n",
              "      <td>NaN</td>\n",
              "    </tr>\n",
              "  </tbody>\n",
              "</table>\n",
              "</div>\n",
              "      <button class=\"colab-df-convert\" onclick=\"convertToInteractive('df-74ecf6c1-9560-4388-bf74-50a1b7a5fdbe')\"\n",
              "              title=\"Convert this dataframe to an interactive table.\"\n",
              "              style=\"display:none;\">\n",
              "        \n",
              "  <svg xmlns=\"http://www.w3.org/2000/svg\" height=\"24px\"viewBox=\"0 0 24 24\"\n",
              "       width=\"24px\">\n",
              "    <path d=\"M0 0h24v24H0V0z\" fill=\"none\"/>\n",
              "    <path d=\"M18.56 5.44l.94 2.06.94-2.06 2.06-.94-2.06-.94-.94-2.06-.94 2.06-2.06.94zm-11 1L8.5 8.5l.94-2.06 2.06-.94-2.06-.94L8.5 2.5l-.94 2.06-2.06.94zm10 10l.94 2.06.94-2.06 2.06-.94-2.06-.94-.94-2.06-.94 2.06-2.06.94z\"/><path d=\"M17.41 7.96l-1.37-1.37c-.4-.4-.92-.59-1.43-.59-.52 0-1.04.2-1.43.59L10.3 9.45l-7.72 7.72c-.78.78-.78 2.05 0 2.83L4 21.41c.39.39.9.59 1.41.59.51 0 1.02-.2 1.41-.59l7.78-7.78 2.81-2.81c.8-.78.8-2.07 0-2.86zM5.41 20L4 18.59l7.72-7.72 1.47 1.35L5.41 20z\"/>\n",
              "  </svg>\n",
              "      </button>\n",
              "      \n",
              "  <style>\n",
              "    .colab-df-container {\n",
              "      display:flex;\n",
              "      flex-wrap:wrap;\n",
              "      gap: 12px;\n",
              "    }\n",
              "\n",
              "    .colab-df-convert {\n",
              "      background-color: #E8F0FE;\n",
              "      border: none;\n",
              "      border-radius: 50%;\n",
              "      cursor: pointer;\n",
              "      display: none;\n",
              "      fill: #1967D2;\n",
              "      height: 32px;\n",
              "      padding: 0 0 0 0;\n",
              "      width: 32px;\n",
              "    }\n",
              "\n",
              "    .colab-df-convert:hover {\n",
              "      background-color: #E2EBFA;\n",
              "      box-shadow: 0px 1px 2px rgba(60, 64, 67, 0.3), 0px 1px 3px 1px rgba(60, 64, 67, 0.15);\n",
              "      fill: #174EA6;\n",
              "    }\n",
              "\n",
              "    [theme=dark] .colab-df-convert {\n",
              "      background-color: #3B4455;\n",
              "      fill: #D2E3FC;\n",
              "    }\n",
              "\n",
              "    [theme=dark] .colab-df-convert:hover {\n",
              "      background-color: #434B5C;\n",
              "      box-shadow: 0px 1px 3px 1px rgba(0, 0, 0, 0.15);\n",
              "      filter: drop-shadow(0px 1px 2px rgba(0, 0, 0, 0.3));\n",
              "      fill: #FFFFFF;\n",
              "    }\n",
              "  </style>\n",
              "\n",
              "      <script>\n",
              "        const buttonEl =\n",
              "          document.querySelector('#df-74ecf6c1-9560-4388-bf74-50a1b7a5fdbe button.colab-df-convert');\n",
              "        buttonEl.style.display =\n",
              "          google.colab.kernel.accessAllowed ? 'block' : 'none';\n",
              "\n",
              "        async function convertToInteractive(key) {\n",
              "          const element = document.querySelector('#df-74ecf6c1-9560-4388-bf74-50a1b7a5fdbe');\n",
              "          const dataTable =\n",
              "            await google.colab.kernel.invokeFunction('convertToInteractive',\n",
              "                                                     [key], {});\n",
              "          if (!dataTable) return;\n",
              "\n",
              "          const docLinkHtml = 'Like what you see? Visit the ' +\n",
              "            '<a target=\"_blank\" href=https://colab.research.google.com/notebooks/data_table.ipynb>data table notebook</a>'\n",
              "            + ' to learn more about interactive tables.';\n",
              "          element.innerHTML = '';\n",
              "          dataTable['output_type'] = 'display_data';\n",
              "          await google.colab.output.renderOutput(dataTable, element);\n",
              "          const docLink = document.createElement('div');\n",
              "          docLink.innerHTML = docLinkHtml;\n",
              "          element.appendChild(docLink);\n",
              "        }\n",
              "      </script>\n",
              "    </div>\n",
              "  </div>\n",
              "  "
            ]
          },
          "metadata": {},
          "execution_count": 97
        }
      ]
    },
    {
      "cell_type": "code",
      "source": [
        "def AdaGrad_Single_Stochastic(df2,alpha,eps):\n",
        "  theta_0 = 0\n",
        "  theta_1 = 0\n",
        "  theta0List = []\n",
        "  theta1List = []\n",
        "  CostList = []\n",
        "  vt0 = 0\n",
        "  vt1 = 0\n",
        "  CostPrev = 0\n",
        "  end = False\n",
        "  for i in range(10000):\n",
        "    for j in range(df2.shape[0]):\n",
        "      maxIter= i*j\n",
        "      theta0List.append(theta_0)\n",
        "      theta1List.append(theta_1)\n",
        "      df2.loc[j,\"Y_Predict\"] = theta_0+theta_1*df2.loc[j,\"X\"]\n",
        "      Cost = ((df2.loc[j,\"Y_Predict\"] - df2.loc[j,\"Y\"])**2)/2   \n",
        "      CostList.append(Cost)   \n",
        "      Gradient_Theta_0 = df2.loc[j,\"Y_Predict\"] - df2.loc[j,\"Y\"]\n",
        "      Gradient_Theta_1 = (df2.loc[j,\"Y_Predict\"] - df2.loc[j,\"Y\"])*df2.loc[j,\"X\"]\n",
        "      vt0 += (Gradient_Theta_0)**2\n",
        "      vt1 += (Gradient_Theta_1)**2\n",
        "      theta_0 -= (alpha * Gradient_Theta_0)/(math.sqrt(vt0)+eps)\n",
        "      theta_1 -= (alpha * Gradient_Theta_1)/(math.sqrt(vt1)+eps)\n",
        "    if abs(Cost - CostPrev)<0.001:\n",
        "        end = True\n",
        "    else:\n",
        "      CostPrev = Cost   \n",
        "    if end:\n",
        "      break\n",
        "  return theta0List,theta1List,CostList,theta_0,theta_1\n",
        "\n"
      ],
      "metadata": {
        "id": "j0K_EnJIFTec"
      },
      "execution_count": null,
      "outputs": []
    },
    {
      "cell_type": "code",
      "source": [
        "theta_0_List,theta_1_List,Cost_List,theta_0,theta_1 = AdaGrad_Single_Stochastic(df3,0.1,1e-8)\n"
      ],
      "metadata": {
        "id": "IIQUt1_BF3xx"
      },
      "execution_count": null,
      "outputs": []
    },
    {
      "cell_type": "code",
      "source": [
        "from sklearn.metrics import r2_score\n",
        "print(r2_score(df3[\"Y\"], df3[\"Y_Predict\"]))"
      ],
      "metadata": {
        "colab": {
          "base_uri": "https://localhost:8080/"
        },
        "id": "iVUaluucJ2Tm",
        "outputId": "585e0669-3331-462c-b1f3-51f454df7555"
      },
      "execution_count": null,
      "outputs": [
        {
          "output_type": "stream",
          "name": "stdout",
          "text": [
            "0.9989723429339891\n"
          ]
        }
      ]
    },
    {
      "cell_type": "code",
      "source": [
        "ax = plt.axes()\n",
        "ax.scatter(df3[\"X\"],df3[\"Y\"])\n",
        "ax.plot(df3[\"X\"],df3[\"Y_Predict\"])\n",
        "plt.show()"
      ],
      "metadata": {
        "colab": {
          "base_uri": "https://localhost:8080/",
          "height": 265
        },
        "id": "nv7D01UiKBuV",
        "outputId": "48a9a2a3-0436-4999-dc46-2c39f1e762f7"
      },
      "execution_count": null,
      "outputs": [
        {
          "output_type": "display_data",
          "data": {
            "text/plain": [
              "<Figure size 432x288 with 1 Axes>"
            ],
            "image/png": "[encoded data removed]"
          },
          "metadata": {
            "needs_background": "light"
          }
        }
      ]
    },
    {
      "cell_type": "code",
      "source": [
        "plt.plot(theta_0_List,Cost_List)\n",
        "plt.xlabel(\"Theta 0\")\n",
        "plt.ylabel(\"Cost Value\")\n",
        "plt.show()"
      ],
      "metadata": {
        "colab": {
          "base_uri": "https://localhost:8080/",
          "height": 279
        },
        "id": "3SX3_dsBLLma",
        "outputId": "d538e08a-a586-4662-df8d-4fdd6363492e"
      },
      "execution_count": null,
      "outputs": [
        {
          "output_type": "display_data",
          "data": {
            "text/plain": [
              "<Figure size 432x288 with 1 Axes>"
            ],
            "image/png": "[encoded data removed]"
          },
          "metadata": {
            "needs_background": "light"
          }
        }
      ]
    },
    {
      "cell_type": "code",
      "source": [
        "plt.plot(theta_1_List,Cost_List)\n",
        "plt.xlabel(\"Theta 1\")\n",
        "plt.ylabel(\"Cost Value\")\n",
        "plt.show()"
      ],
      "metadata": {
        "colab": {
          "base_uri": "https://localhost:8080/",
          "height": 279
        },
        "id": "-MdNils9LQi5",
        "outputId": "21d88a3f-f990-4048-fb86-2a7bef9544b4"
      },
      "execution_count": null,
      "outputs": [
        {
          "output_type": "display_data",
          "data": {
            "text/plain": [
              "<Figure size 432x288 with 1 Axes>"
            ],
            "image/png": "[encoded data removed]"
          },
          "metadata": {
            "needs_background": "light"
          }
        }
      ]
    },
    {
      "cell_type": "code",
      "source": [
        ""
      ],
      "metadata": {
        "id": "cuFKk0yzLVtt"
      },
      "execution_count": null,
      "outputs": []
    },
    {
      "cell_type": "markdown",
      "source": [
        "AdaGrad Multi MiniBatch"
      ],
      "metadata": {
        "id": "8-urhwbbL3ht"
      }
    },
    {
      "cell_type": "code",
      "source": [
        "df4 = pd.read_csv(\"MultipleLR.csv\",names = [\"X1\",\"X2\",\"X3\",\"Y\"])\n",
        "from sklearn.utils import shuffle\n",
        "df4 = shuffle(df4)\n",
        "df4.reset_index(inplace = True , drop=True)\n",
        "df4.head()"
      ],
      "metadata": {
        "colab": {
          "base_uri": "https://localhost:8080/",
          "height": 206
        },
        "id": "N5jEQdwYL78X",
        "outputId": "9b5aa9f6-a28d-4aec-b67a-356bbe891a7a"
      },
      "execution_count": null,
      "outputs": [
        {
          "output_type": "execute_result",
          "data": {
            "text/plain": [
              "   X1  X2  X3    Y\n",
              "0  73  66  70  142\n",
              "1  93  88  93  185\n",
              "2  70  73  78  148\n",
              "3  89  91  90  180\n",
              "4  69  70  73  141"
            ],
            "text/html": [
              "\n",
              "  <div id=\"df-9ad46cc6-032f-4dd9-a4f4-d210acdda94a\">\n",
              "    <div class=\"colab-df-container\">\n",
              "      <div>\n",
              "<style scoped>\n",
              "    .dataframe tbody tr th:only-of-type {\n",
              "        vertical-align: middle;\n",
              "    }\n",
              "\n",
              "    .dataframe tbody tr th {\n",
              "        vertical-align: top;\n",
              "    }\n",
              "\n",
              "    .dataframe thead th {\n",
              "        text-align: right;\n",
              "    }\n",
              "</style>\n",
              "<table border=\"1\" class=\"dataframe\">\n",
              "  <thead>\n",
              "    <tr style=\"text-align: right;\">\n",
              "      <th></th>\n",
              "      <th>X1</th>\n",
              "      <th>X2</th>\n",
              "      <th>X3</th>\n",
              "      <th>Y</th>\n",
              "    </tr>\n",
              "  </thead>\n",
              "  <tbody>\n",
              "    <tr>\n",
              "      <th>0</th>\n",
              "      <td>73</td>\n",
              "      <td>66</td>\n",
              "      <td>70</td>\n",
              "      <td>142</td>\n",
              "    </tr>\n",
              "    <tr>\n",
              "      <th>1</th>\n",
              "      <td>93</td>\n",
              "      <td>88</td>\n",
              "      <td>93</td>\n",
              "      <td>185</td>\n",
              "    </tr>\n",
              "    <tr>\n",
              "      <th>2</th>\n",
              "      <td>70</td>\n",
              "      <td>73</td>\n",
              "      <td>78</td>\n",
              "      <td>148</td>\n",
              "    </tr>\n",
              "    <tr>\n",
              "      <th>3</th>\n",
              "      <td>89</td>\n",
              "      <td>91</td>\n",
              "      <td>90</td>\n",
              "      <td>180</td>\n",
              "    </tr>\n",
              "    <tr>\n",
              "      <th>4</th>\n",
              "      <td>69</td>\n",
              "      <td>70</td>\n",
              "      <td>73</td>\n",
              "      <td>141</td>\n",
              "    </tr>\n",
              "  </tbody>\n",
              "</table>\n",
              "</div>\n",
              "      <button class=\"colab-df-convert\" onclick=\"convertToInteractive('df-9ad46cc6-032f-4dd9-a4f4-d210acdda94a')\"\n",
              "              title=\"Convert this dataframe to an interactive table.\"\n",
              "              style=\"display:none;\">\n",
              "        \n",
              "  <svg xmlns=\"http://www.w3.org/2000/svg\" height=\"24px\"viewBox=\"0 0 24 24\"\n",
              "       width=\"24px\">\n",
              "    <path d=\"M0 0h24v24H0V0z\" fill=\"none\"/>\n",
              "    <path d=\"M18.56 5.44l.94 2.06.94-2.06 2.06-.94-2.06-.94-.94-2.06-.94 2.06-2.06.94zm-11 1L8.5 8.5l.94-2.06 2.06-.94-2.06-.94L8.5 2.5l-.94 2.06-2.06.94zm10 10l.94 2.06.94-2.06 2.06-.94-2.06-.94-.94-2.06-.94 2.06-2.06.94z\"/><path d=\"M17.41 7.96l-1.37-1.37c-.4-.4-.92-.59-1.43-.59-.52 0-1.04.2-1.43.59L10.3 9.45l-7.72 7.72c-.78.78-.78 2.05 0 2.83L4 21.41c.39.39.9.59 1.41.59.51 0 1.02-.2 1.41-.59l7.78-7.78 2.81-2.81c.8-.78.8-2.07 0-2.86zM5.41 20L4 18.59l7.72-7.72 1.47 1.35L5.41 20z\"/>\n",
              "  </svg>\n",
              "      </button>\n",
              "      \n",
              "  <style>\n",
              "    .colab-df-container {\n",
              "      display:flex;\n",
              "      flex-wrap:wrap;\n",
              "      gap: 12px;\n",
              "    }\n",
              "\n",
              "    .colab-df-convert {\n",
              "      background-color: #E8F0FE;\n",
              "      border: none;\n",
              "      border-radius: 50%;\n",
              "      cursor: pointer;\n",
              "      display: none;\n",
              "      fill: #1967D2;\n",
              "      height: 32px;\n",
              "      padding: 0 0 0 0;\n",
              "      width: 32px;\n",
              "    }\n",
              "\n",
              "    .colab-df-convert:hover {\n",
              "      background-color: #E2EBFA;\n",
              "      box-shadow: 0px 1px 2px rgba(60, 64, 67, 0.3), 0px 1px 3px 1px rgba(60, 64, 67, 0.15);\n",
              "      fill: #174EA6;\n",
              "    }\n",
              "\n",
              "    [theme=dark] .colab-df-convert {\n",
              "      background-color: #3B4455;\n",
              "      fill: #D2E3FC;\n",
              "    }\n",
              "\n",
              "    [theme=dark] .colab-df-convert:hover {\n",
              "      background-color: #434B5C;\n",
              "      box-shadow: 0px 1px 3px 1px rgba(0, 0, 0, 0.15);\n",
              "      filter: drop-shadow(0px 1px 2px rgba(0, 0, 0, 0.3));\n",
              "      fill: #FFFFFF;\n",
              "    }\n",
              "  </style>\n",
              "\n",
              "      <script>\n",
              "        const buttonEl =\n",
              "          document.querySelector('#df-9ad46cc6-032f-4dd9-a4f4-d210acdda94a button.colab-df-convert');\n",
              "        buttonEl.style.display =\n",
              "          google.colab.kernel.accessAllowed ? 'block' : 'none';\n",
              "\n",
              "        async function convertToInteractive(key) {\n",
              "          const element = document.querySelector('#df-9ad46cc6-032f-4dd9-a4f4-d210acdda94a');\n",
              "          const dataTable =\n",
              "            await google.colab.kernel.invokeFunction('convertToInteractive',\n",
              "                                                     [key], {});\n",
              "          if (!dataTable) return;\n",
              "\n",
              "          const docLinkHtml = 'Like what you see? Visit the ' +\n",
              "            '<a target=\"_blank\" href=https://colab.research.google.com/notebooks/data_table.ipynb>data table notebook</a>'\n",
              "            + ' to learn more about interactive tables.';\n",
              "          element.innerHTML = '';\n",
              "          dataTable['output_type'] = 'display_data';\n",
              "          await google.colab.output.renderOutput(dataTable, element);\n",
              "          const docLink = document.createElement('div');\n",
              "          docLink.innerHTML = docLinkHtml;\n",
              "          element.appendChild(docLink);\n",
              "        }\n",
              "      </script>\n",
              "    </div>\n",
              "  </div>\n",
              "  "
            ]
          },
          "metadata": {},
          "execution_count": 112
        }
      ]
    },
    {
      "cell_type": "code",
      "source": [
        "def AdaGrad_Multi_MiniBatch(df3,alpha,eps):\n",
        "    thetas = np.array([0,0,0,0],dtype = np.float64)\n",
        "    Vts = np.array([0,0,0,0],dtype = np.float64)\n",
        "    df3.insert(loc = 0,column = \"X0\",value = 1)\n",
        "    predictors= list(df3.iloc[:,:4].columns)\n",
        "    CostList = []\n",
        "    CostPrev = 0\n",
        "    batchSize = len(df3)//5\n",
        "    end = False\n",
        "    for i in range(200):\n",
        "      for j in range(0,df3.shape[0],batchSize):\n",
        "        df3.loc[j:j+batchSize-1,\"Y_Predict\"]= df3.loc[j:j+batchSize-1,predictors].dot(thetas)\n",
        "        Cost = sum(( df3.loc[j:j+batchSize-1,\"Y_Predict\"]- df3.loc[j:j+batchSize-1,\"Y\"])**2)/(2*batchSize)\n",
        "        CostList.append(Cost) \n",
        "        GradientList= []\n",
        "        for k in predictors:\n",
        "            GradientList.append(sum(( df3.loc[j:j+batchSize-1,\"Y_Predict\"] - df3.loc[j:j+batchSize-1,\"Y\"])*df3.loc[j:j+batchSize-1,k])/batchSize)\n",
        "\n",
        "        Vts = Vts + np.array(GradientList)**2\n",
        "        thetas = thetas - (alpha * np.array(GradientList))/((Vts**0.5)+eps)\n",
        "\n",
        "      if abs(Cost - CostPrev)<0.001:\n",
        "        end = True\n",
        "      else:\n",
        "        CostPrev = Cost   \n",
        "      if end:\n",
        "        break\n",
        "    return CostList,thetas"
      ],
      "metadata": {
        "id": "Zwj3Y20tQThu"
      },
      "execution_count": null,
      "outputs": []
    },
    {
      "cell_type": "code",
      "source": [
        "CostList,thetas = AdaGrad_Multi_MiniBatch(df4,0.1,1e-8)\n"
      ],
      "metadata": {
        "id": "bUtNoRmO7-0i"
      },
      "execution_count": null,
      "outputs": []
    },
    {
      "cell_type": "code",
      "source": [
        "from sklearn.metrics import r2_score\n",
        "print(r2_score(df4[\"Y\"], df4[\"Y_Predict\"]))"
      ],
      "metadata": {
        "colab": {
          "base_uri": "https://localhost:8080/"
        },
        "id": "81Fp1rOg8c4j",
        "outputId": "2e1f01e5-35cf-4ae7-915c-75a697d22d18"
      },
      "execution_count": null,
      "outputs": [
        {
          "output_type": "stream",
          "name": "stdout",
          "text": [
            "0.9793078743492977\n"
          ]
        }
      ]
    },
    {
      "cell_type": "code",
      "source": [
        "plt.plot(range(len(CostList)),CostList)\n",
        "plt.xlabel(\"Iteration\")\n",
        "plt.ylabel(\"Cost Value\")\n",
        "plt.show()"
      ],
      "metadata": {
        "colab": {
          "base_uri": "https://localhost:8080/",
          "height": 279
        },
        "id": "d8QOv_HVDwZs",
        "outputId": "3ccede8c-4de9-484c-f62f-2267048ced77"
      },
      "execution_count": null,
      "outputs": [
        {
          "output_type": "display_data",
          "data": {
            "text/plain": [
              "<Figure size 432x288 with 1 Axes>"
            ],
            "image/png": "[encoded data removed]"
          },
          "metadata": {
            "needs_background": "light"
          }
        }
      ]
    },
    {
      "cell_type": "code",
      "source": [
        ""
      ],
      "metadata": {
        "id": "4nGCWPxgESDD"
      },
      "execution_count": null,
      "outputs": []
    },
    {
      "cell_type": "markdown",
      "source": [
        "AdaGrad Multi Stochastic"
      ],
      "metadata": {
        "id": "5zHdNthxEkoy"
      }
    },
    {
      "cell_type": "code",
      "source": [
        "df5 = pd.read_csv(\"MultipleLR.csv\",names = [\"X1\",\"X2\",\"X3\",\"Y\"])\n",
        "from sklearn.utils import shuffle\n",
        "df5 = shuffle(df5)\n",
        "df5.reset_index(inplace = True , drop=True)\n",
        "df5.head()"
      ],
      "metadata": {
        "colab": {
          "base_uri": "https://localhost:8080/",
          "height": 206
        },
        "id": "T1bZ3nnGEn9y",
        "outputId": "6b9850f2-70f9-49c2-d8e6-445c1f5a6d07"
      },
      "execution_count": null,
      "outputs": [
        {
          "output_type": "execute_result",
          "data": {
            "text/plain": [
              "   X1  X2  X3    Y\n",
              "0  93  95  91  184\n",
              "1  78  75  68  147\n",
              "2  89  91  90  180\n",
              "3  47  56  60  115\n",
              "4  73  66  70  142"
            ],
            "text/html": [
              "\n",
              "  <div id=\"df-be840afe-a2c6-4112-abae-79e87b976439\">\n",
              "    <div class=\"colab-df-container\">\n",
              "      <div>\n",
              "<style scoped>\n",
              "    .dataframe tbody tr th:only-of-type {\n",
              "        vertical-align: middle;\n",
              "    }\n",
              "\n",
              "    .dataframe tbody tr th {\n",
              "        vertical-align: top;\n",
              "    }\n",
              "\n",
              "    .dataframe thead th {\n",
              "        text-align: right;\n",
              "    }\n",
              "</style>\n",
              "<table border=\"1\" class=\"dataframe\">\n",
              "  <thead>\n",
              "    <tr style=\"text-align: right;\">\n",
              "      <th></th>\n",
              "      <th>X1</th>\n",
              "      <th>X2</th>\n",
              "      <th>X3</th>\n",
              "      <th>Y</th>\n",
              "    </tr>\n",
              "  </thead>\n",
              "  <tbody>\n",
              "    <tr>\n",
              "      <th>0</th>\n",
              "      <td>93</td>\n",
              "      <td>95</td>\n",
              "      <td>91</td>\n",
              "      <td>184</td>\n",
              "    </tr>\n",
              "    <tr>\n",
              "      <th>1</th>\n",
              "      <td>78</td>\n",
              "      <td>75</td>\n",
              "      <td>68</td>\n",
              "      <td>147</td>\n",
              "    </tr>\n",
              "    <tr>\n",
              "      <th>2</th>\n",
              "      <td>89</td>\n",
              "      <td>91</td>\n",
              "      <td>90</td>\n",
              "      <td>180</td>\n",
              "    </tr>\n",
              "    <tr>\n",
              "      <th>3</th>\n",
              "      <td>47</td>\n",
              "      <td>56</td>\n",
              "      <td>60</td>\n",
              "      <td>115</td>\n",
              "    </tr>\n",
              "    <tr>\n",
              "      <th>4</th>\n",
              "      <td>73</td>\n",
              "      <td>66</td>\n",
              "      <td>70</td>\n",
              "      <td>142</td>\n",
              "    </tr>\n",
              "  </tbody>\n",
              "</table>\n",
              "</div>\n",
              "      <button class=\"colab-df-convert\" onclick=\"convertToInteractive('df-be840afe-a2c6-4112-abae-79e87b976439')\"\n",
              "              title=\"Convert this dataframe to an interactive table.\"\n",
              "              style=\"display:none;\">\n",
              "        \n",
              "  <svg xmlns=\"http://www.w3.org/2000/svg\" height=\"24px\"viewBox=\"0 0 24 24\"\n",
              "       width=\"24px\">\n",
              "    <path d=\"M0 0h24v24H0V0z\" fill=\"none\"/>\n",
              "    <path d=\"M18.56 5.44l.94 2.06.94-2.06 2.06-.94-2.06-.94-.94-2.06-.94 2.06-2.06.94zm-11 1L8.5 8.5l.94-2.06 2.06-.94-2.06-.94L8.5 2.5l-.94 2.06-2.06.94zm10 10l.94 2.06.94-2.06 2.06-.94-2.06-.94-.94-2.06-.94 2.06-2.06.94z\"/><path d=\"M17.41 7.96l-1.37-1.37c-.4-.4-.92-.59-1.43-.59-.52 0-1.04.2-1.43.59L10.3 9.45l-7.72 7.72c-.78.78-.78 2.05 0 2.83L4 21.41c.39.39.9.59 1.41.59.51 0 1.02-.2 1.41-.59l7.78-7.78 2.81-2.81c.8-.78.8-2.07 0-2.86zM5.41 20L4 18.59l7.72-7.72 1.47 1.35L5.41 20z\"/>\n",
              "  </svg>\n",
              "      </button>\n",
              "      \n",
              "  <style>\n",
              "    .colab-df-container {\n",
              "      display:flex;\n",
              "      flex-wrap:wrap;\n",
              "      gap: 12px;\n",
              "    }\n",
              "\n",
              "    .colab-df-convert {\n",
              "      background-color: #E8F0FE;\n",
              "      border: none;\n",
              "      border-radius: 50%;\n",
              "      cursor: pointer;\n",
              "      display: none;\n",
              "      fill: #1967D2;\n",
              "      height: 32px;\n",
              "      padding: 0 0 0 0;\n",
              "      width: 32px;\n",
              "    }\n",
              "\n",
              "    .colab-df-convert:hover {\n",
              "      background-color: #E2EBFA;\n",
              "      box-shadow: 0px 1px 2px rgba(60, 64, 67, 0.3), 0px 1px 3px 1px rgba(60, 64, 67, 0.15);\n",
              "      fill: #174EA6;\n",
              "    }\n",
              "\n",
              "    [theme=dark] .colab-df-convert {\n",
              "      background-color: #3B4455;\n",
              "      fill: #D2E3FC;\n",
              "    }\n",
              "\n",
              "    [theme=dark] .colab-df-convert:hover {\n",
              "      background-color: #434B5C;\n",
              "      box-shadow: 0px 1px 3px 1px rgba(0, 0, 0, 0.15);\n",
              "      filter: drop-shadow(0px 1px 2px rgba(0, 0, 0, 0.3));\n",
              "      fill: #FFFFFF;\n",
              "    }\n",
              "  </style>\n",
              "\n",
              "      <script>\n",
              "        const buttonEl =\n",
              "          document.querySelector('#df-be840afe-a2c6-4112-abae-79e87b976439 button.colab-df-convert');\n",
              "        buttonEl.style.display =\n",
              "          google.colab.kernel.accessAllowed ? 'block' : 'none';\n",
              "\n",
              "        async function convertToInteractive(key) {\n",
              "          const element = document.querySelector('#df-be840afe-a2c6-4112-abae-79e87b976439');\n",
              "          const dataTable =\n",
              "            await google.colab.kernel.invokeFunction('convertToInteractive',\n",
              "                                                     [key], {});\n",
              "          if (!dataTable) return;\n",
              "\n",
              "          const docLinkHtml = 'Like what you see? Visit the ' +\n",
              "            '<a target=\"_blank\" href=https://colab.research.google.com/notebooks/data_table.ipynb>data table notebook</a>'\n",
              "            + ' to learn more about interactive tables.';\n",
              "          element.innerHTML = '';\n",
              "          dataTable['output_type'] = 'display_data';\n",
              "          await google.colab.output.renderOutput(dataTable, element);\n",
              "          const docLink = document.createElement('div');\n",
              "          docLink.innerHTML = docLinkHtml;\n",
              "          element.appendChild(docLink);\n",
              "        }\n",
              "      </script>\n",
              "    </div>\n",
              "  </div>\n",
              "  "
            ]
          },
          "metadata": {},
          "execution_count": 126
        }
      ]
    },
    {
      "cell_type": "code",
      "source": [
        "def AdaGrad_Multi_Stochastic(df2,alpha,eps):\n",
        "  thetas = np.array([0,0,0,0],dtype = np.float64)\n",
        "  df2.insert(loc = 0,column = \"X0\",value = 1)\n",
        "  predictors= list(df2.iloc[:,:4].columns)\n",
        "  Vts = np.array([0,0,0,0],dtype = np.float64)\n",
        "  CostList = []\n",
        "  CostPrev = 0\n",
        "  end = False\n",
        "  for i in range(200):\n",
        "    for j in range(df2.shape[0]):\n",
        "      df2.loc[j,\"Y_Predict\"] = df2.loc[j,predictors].dot(thetas)\n",
        "      Cost = ((df2.loc[j,\"Y_Predict\"] - df2.loc[j,\"Y\"])**2)/2   \n",
        "      CostList.append(Cost)   \n",
        "      GradientList= []\n",
        "      for k in predictors:\n",
        "        GradientList.append((df2.loc[j,\"Y_Predict\"]-df2.loc[j,\"Y\"])*df2.loc[j,k])\n",
        "      Vts = Vts + np.array(GradientList)**2\n",
        "      thetas = thetas - (alpha * np.array(GradientList))/((Vts**0.5)+eps)\n",
        "    if abs(Cost - CostPrev)<0.001:\n",
        "        end = True\n",
        "    else:\n",
        "      CostPrev = Cost   \n",
        "    if end:\n",
        "      break\n",
        "  return CostList,thetas\n",
        "\n"
      ],
      "metadata": {
        "id": "B1yzKs0TFDwY"
      },
      "execution_count": null,
      "outputs": []
    },
    {
      "cell_type": "code",
      "source": [
        "CostList,thetas = AdaGrad_Multi_Stochastic(df5,0.1,1e-8)"
      ],
      "metadata": {
        "id": "72vF8_zQF8vr"
      },
      "execution_count": null,
      "outputs": []
    },
    {
      "cell_type": "code",
      "source": [
        "from sklearn.metrics import r2_score\n",
        "print(r2_score(df5[\"Y\"], df5[\"Y_Predict\"]))"
      ],
      "metadata": {
        "colab": {
          "base_uri": "https://localhost:8080/"
        },
        "id": "e_X9NtN8GK6R",
        "outputId": "bfcf527a-9341-4589-8273-f5298e980183"
      },
      "execution_count": null,
      "outputs": [
        {
          "output_type": "stream",
          "name": "stdout",
          "text": [
            "0.9819589253251256\n"
          ]
        }
      ]
    },
    {
      "cell_type": "code",
      "source": [
        "plt.plot(range(len(CostList)),CostList)\n",
        "plt.xlabel(\"Iteration\")\n",
        "plt.ylabel(\"Cost Value\")\n",
        "plt.show()"
      ],
      "metadata": {
        "colab": {
          "base_uri": "https://localhost:8080/",
          "height": 280
        },
        "id": "XnUFG_w5GQ0j",
        "outputId": "246b89a9-7343-40b7-9247-1ce2f4af7d74"
      },
      "execution_count": null,
      "outputs": [
        {
          "output_type": "display_data",
          "data": {
            "text/plain": [
              "<Figure size 432x288 with 1 Axes>"
            ],
            "image/png": "[encoded data removed]"
          },
          "metadata": {
            "needs_background": "light"
          }
        }
      ]
    },
    {
      "cell_type": "code",
      "source": [
        ""
      ],
      "metadata": {
        "id": "5-BgYsjWGhaS"
      },
      "execution_count": null,
      "outputs": []
    }
  ]
}