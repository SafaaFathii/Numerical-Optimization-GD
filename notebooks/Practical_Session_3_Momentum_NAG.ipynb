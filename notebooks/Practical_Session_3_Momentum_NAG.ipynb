{
  "cells": [
    {
      "cell_type": "markdown",
      "metadata": {
        "id": "view-in-github",
        "colab_type": "text"
      },
      "source": [
        "<a href=\"https://colab.research.google.com/github/SafaaFathii/Numerical-Optimization-GD/blob/main/notebooks/Practical_Session_3_Momentum_NAG.ipynb\" target=\"_parent\"><img src=\"https://colab.research.google.com/assets/colab-badge.svg\" alt=\"Open In Colab\"/></a>"
      ]
    },
    {
      "cell_type": "markdown",
      "metadata": {
        "id": "xUfdcWiz8E3d"
      },
      "source": [
        "## Practical Work 3"
      ]
    },
    {
      "cell_type": "markdown",
      "metadata": {
        "id": "lozHrhWJ8E3k"
      },
      "source": [
        "For this practical work, the student will have to develop a Python program that is able to implement the accelerated gradient descent methods <b>(Momentum and NAG)</b> in order to achieve the linear regression of a set of datapoints."
      ]
    },
    {
      "cell_type": "markdown",
      "metadata": {
        "id": "PztrWLbt8E3l"
      },
      "source": [
        "#### Import numpy, matplotlib.pyplot and make it inline"
      ]
    },
    {
      "cell_type": "code",
      "execution_count": null,
      "metadata": {
        "id": "ZPNefZKv8E3m"
      },
      "outputs": [],
      "source": [
        "import numpy as np\n",
        "import matplotlib.pyplot as plt\n",
        "import pandas as pd"
      ]
    },
    {
      "cell_type": "markdown",
      "metadata": {
        "id": "ZBnpUFMP8E3o"
      },
      "source": [
        "To have a dataset or set of data points, the student must generate a pair of arrays <b>X</b> and <b>y</b> with the values in <b>X</b> equally distributed between <b>0</b> and <b>20</b> and the values in <b>y</b> such that: \n",
        "<b>yi = a*xi + b (and a = -1, b = 2)</b>\n"
      ]
    },
    {
      "cell_type": "code",
      "execution_count": null,
      "metadata": {
        "id": "B0mmSGy58E3p",
        "outputId": "82330a1b-c161-4c59-a759-fb205f651005"
      },
      "outputs": [
        {
          "name": "stderr",
          "output_type": "stream",
          "text": [
            "C:\\Users\\fathy\\AppData\\Local\\Temp\\ipykernel_4672\\3121986680.py:3: UserWarning: you are shuffling a 'Series' object which is not a subclass of 'Sequence'; `shuffle` is not guaranteed to behave correctly. E.g., non-numpy array/tensor objects with view semantics may contain duplicates after shuffling.\n",
            "  np.random.shuffle(df[\"X\"])\n"
          ]
        },
        {
          "data": {
            "text/html": [
              "<div>\n",
              "<style scoped>\n",
              "    .dataframe tbody tr th:only-of-type {\n",
              "        vertical-align: middle;\n",
              "    }\n",
              "\n",
              "    .dataframe tbody tr th {\n",
              "        vertical-align: top;\n",
              "    }\n",
              "\n",
              "    .dataframe thead th {\n",
              "        text-align: right;\n",
              "    }\n",
              "</style>\n",
              "<table border=\"1\" class=\"dataframe\">\n",
              "  <thead>\n",
              "    <tr style=\"text-align: right;\">\n",
              "      <th></th>\n",
              "      <th>X</th>\n",
              "      <th>Y</th>\n",
              "      <th>YPredict</th>\n",
              "    </tr>\n",
              "  </thead>\n",
              "  <tbody>\n",
              "    <tr>\n",
              "      <th>0</th>\n",
              "      <td>19.183673</td>\n",
              "      <td>-17.183673</td>\n",
              "      <td></td>\n",
              "    </tr>\n",
              "    <tr>\n",
              "      <th>1</th>\n",
              "      <td>7.346939</td>\n",
              "      <td>-5.346939</td>\n",
              "      <td></td>\n",
              "    </tr>\n",
              "    <tr>\n",
              "      <th>2</th>\n",
              "      <td>11.836735</td>\n",
              "      <td>-9.836735</td>\n",
              "      <td></td>\n",
              "    </tr>\n",
              "    <tr>\n",
              "      <th>3</th>\n",
              "      <td>13.877551</td>\n",
              "      <td>-11.877551</td>\n",
              "      <td></td>\n",
              "    </tr>\n",
              "    <tr>\n",
              "      <th>4</th>\n",
              "      <td>2.040816</td>\n",
              "      <td>-0.040816</td>\n",
              "      <td></td>\n",
              "    </tr>\n",
              "    <tr>\n",
              "      <th>5</th>\n",
              "      <td>13.469388</td>\n",
              "      <td>-11.469388</td>\n",
              "      <td></td>\n",
              "    </tr>\n",
              "    <tr>\n",
              "      <th>6</th>\n",
              "      <td>17.142857</td>\n",
              "      <td>-15.142857</td>\n",
              "      <td></td>\n",
              "    </tr>\n",
              "    <tr>\n",
              "      <th>7</th>\n",
              "      <td>7.755102</td>\n",
              "      <td>-5.755102</td>\n",
              "      <td></td>\n",
              "    </tr>\n",
              "    <tr>\n",
              "      <th>8</th>\n",
              "      <td>4.897959</td>\n",
              "      <td>-2.897959</td>\n",
              "      <td></td>\n",
              "    </tr>\n",
              "    <tr>\n",
              "      <th>9</th>\n",
              "      <td>19.591837</td>\n",
              "      <td>-17.591837</td>\n",
              "      <td></td>\n",
              "    </tr>\n",
              "    <tr>\n",
              "      <th>10</th>\n",
              "      <td>5.714286</td>\n",
              "      <td>-3.714286</td>\n",
              "      <td></td>\n",
              "    </tr>\n",
              "    <tr>\n",
              "      <th>11</th>\n",
              "      <td>16.734694</td>\n",
              "      <td>-14.734694</td>\n",
              "      <td></td>\n",
              "    </tr>\n",
              "    <tr>\n",
              "      <th>12</th>\n",
              "      <td>15.102041</td>\n",
              "      <td>-13.102041</td>\n",
              "      <td></td>\n",
              "    </tr>\n",
              "    <tr>\n",
              "      <th>13</th>\n",
              "      <td>9.795918</td>\n",
              "      <td>-7.795918</td>\n",
              "      <td></td>\n",
              "    </tr>\n",
              "    <tr>\n",
              "      <th>14</th>\n",
              "      <td>1.224490</td>\n",
              "      <td>0.775510</td>\n",
              "      <td></td>\n",
              "    </tr>\n",
              "    <tr>\n",
              "      <th>15</th>\n",
              "      <td>18.367347</td>\n",
              "      <td>-16.367347</td>\n",
              "      <td></td>\n",
              "    </tr>\n",
              "    <tr>\n",
              "      <th>16</th>\n",
              "      <td>15.918367</td>\n",
              "      <td>-13.918367</td>\n",
              "      <td></td>\n",
              "    </tr>\n",
              "    <tr>\n",
              "      <th>17</th>\n",
              "      <td>1.632653</td>\n",
              "      <td>0.367347</td>\n",
              "      <td></td>\n",
              "    </tr>\n",
              "    <tr>\n",
              "      <th>18</th>\n",
              "      <td>12.244898</td>\n",
              "      <td>-10.244898</td>\n",
              "      <td></td>\n",
              "    </tr>\n",
              "    <tr>\n",
              "      <th>19</th>\n",
              "      <td>18.775510</td>\n",
              "      <td>-16.775510</td>\n",
              "      <td></td>\n",
              "    </tr>\n",
              "    <tr>\n",
              "      <th>20</th>\n",
              "      <td>11.020408</td>\n",
              "      <td>-9.020408</td>\n",
              "      <td></td>\n",
              "    </tr>\n",
              "    <tr>\n",
              "      <th>21</th>\n",
              "      <td>17.551020</td>\n",
              "      <td>-15.551020</td>\n",
              "      <td></td>\n",
              "    </tr>\n",
              "    <tr>\n",
              "      <th>22</th>\n",
              "      <td>16.326531</td>\n",
              "      <td>-14.326531</td>\n",
              "      <td></td>\n",
              "    </tr>\n",
              "    <tr>\n",
              "      <th>23</th>\n",
              "      <td>2.448980</td>\n",
              "      <td>-0.448980</td>\n",
              "      <td></td>\n",
              "    </tr>\n",
              "    <tr>\n",
              "      <th>24</th>\n",
              "      <td>8.571429</td>\n",
              "      <td>-6.571429</td>\n",
              "      <td></td>\n",
              "    </tr>\n",
              "    <tr>\n",
              "      <th>25</th>\n",
              "      <td>15.510204</td>\n",
              "      <td>-13.510204</td>\n",
              "      <td></td>\n",
              "    </tr>\n",
              "    <tr>\n",
              "      <th>26</th>\n",
              "      <td>3.673469</td>\n",
              "      <td>-1.673469</td>\n",
              "      <td></td>\n",
              "    </tr>\n",
              "    <tr>\n",
              "      <th>27</th>\n",
              "      <td>8.979592</td>\n",
              "      <td>-6.979592</td>\n",
              "      <td></td>\n",
              "    </tr>\n",
              "    <tr>\n",
              "      <th>28</th>\n",
              "      <td>10.612245</td>\n",
              "      <td>-8.612245</td>\n",
              "      <td></td>\n",
              "    </tr>\n",
              "    <tr>\n",
              "      <th>29</th>\n",
              "      <td>8.163265</td>\n",
              "      <td>-6.163265</td>\n",
              "      <td></td>\n",
              "    </tr>\n",
              "    <tr>\n",
              "      <th>30</th>\n",
              "      <td>6.938776</td>\n",
              "      <td>-4.938776</td>\n",
              "      <td></td>\n",
              "    </tr>\n",
              "    <tr>\n",
              "      <th>31</th>\n",
              "      <td>6.530612</td>\n",
              "      <td>-4.530612</td>\n",
              "      <td></td>\n",
              "    </tr>\n",
              "    <tr>\n",
              "      <th>32</th>\n",
              "      <td>3.265306</td>\n",
              "      <td>-1.265306</td>\n",
              "      <td></td>\n",
              "    </tr>\n",
              "    <tr>\n",
              "      <th>33</th>\n",
              "      <td>12.653061</td>\n",
              "      <td>-10.653061</td>\n",
              "      <td></td>\n",
              "    </tr>\n",
              "    <tr>\n",
              "      <th>34</th>\n",
              "      <td>13.061224</td>\n",
              "      <td>-11.061224</td>\n",
              "      <td></td>\n",
              "    </tr>\n",
              "    <tr>\n",
              "      <th>35</th>\n",
              "      <td>11.428571</td>\n",
              "      <td>-9.428571</td>\n",
              "      <td></td>\n",
              "    </tr>\n",
              "    <tr>\n",
              "      <th>36</th>\n",
              "      <td>5.306122</td>\n",
              "      <td>-3.306122</td>\n",
              "      <td></td>\n",
              "    </tr>\n",
              "    <tr>\n",
              "      <th>37</th>\n",
              "      <td>0.816327</td>\n",
              "      <td>1.183673</td>\n",
              "      <td></td>\n",
              "    </tr>\n",
              "    <tr>\n",
              "      <th>38</th>\n",
              "      <td>6.122449</td>\n",
              "      <td>-4.122449</td>\n",
              "      <td></td>\n",
              "    </tr>\n",
              "    <tr>\n",
              "      <th>39</th>\n",
              "      <td>0.408163</td>\n",
              "      <td>1.591837</td>\n",
              "      <td></td>\n",
              "    </tr>\n",
              "    <tr>\n",
              "      <th>40</th>\n",
              "      <td>10.204082</td>\n",
              "      <td>-8.204082</td>\n",
              "      <td></td>\n",
              "    </tr>\n",
              "    <tr>\n",
              "      <th>41</th>\n",
              "      <td>4.081633</td>\n",
              "      <td>-2.081633</td>\n",
              "      <td></td>\n",
              "    </tr>\n",
              "    <tr>\n",
              "      <th>42</th>\n",
              "      <td>17.959184</td>\n",
              "      <td>-15.959184</td>\n",
              "      <td></td>\n",
              "    </tr>\n",
              "    <tr>\n",
              "      <th>43</th>\n",
              "      <td>2.857143</td>\n",
              "      <td>-0.857143</td>\n",
              "      <td></td>\n",
              "    </tr>\n",
              "    <tr>\n",
              "      <th>44</th>\n",
              "      <td>0.000000</td>\n",
              "      <td>2.000000</td>\n",
              "      <td></td>\n",
              "    </tr>\n",
              "    <tr>\n",
              "      <th>45</th>\n",
              "      <td>4.489796</td>\n",
              "      <td>-2.489796</td>\n",
              "      <td></td>\n",
              "    </tr>\n",
              "    <tr>\n",
              "      <th>46</th>\n",
              "      <td>14.285714</td>\n",
              "      <td>-12.285714</td>\n",
              "      <td></td>\n",
              "    </tr>\n",
              "    <tr>\n",
              "      <th>47</th>\n",
              "      <td>9.387755</td>\n",
              "      <td>-7.387755</td>\n",
              "      <td></td>\n",
              "    </tr>\n",
              "    <tr>\n",
              "      <th>48</th>\n",
              "      <td>14.693878</td>\n",
              "      <td>-12.693878</td>\n",
              "      <td></td>\n",
              "    </tr>\n",
              "    <tr>\n",
              "      <th>49</th>\n",
              "      <td>20.000000</td>\n",
              "      <td>-18.000000</td>\n",
              "      <td></td>\n",
              "    </tr>\n",
              "  </tbody>\n",
              "</table>\n",
              "</div>"
            ],
            "text/plain": [
              "            X          Y YPredict\n",
              "0   19.183673 -17.183673         \n",
              "1    7.346939  -5.346939         \n",
              "2   11.836735  -9.836735         \n",
              "3   13.877551 -11.877551         \n",
              "4    2.040816  -0.040816         \n",
              "5   13.469388 -11.469388         \n",
              "6   17.142857 -15.142857         \n",
              "7    7.755102  -5.755102         \n",
              "8    4.897959  -2.897959         \n",
              "9   19.591837 -17.591837         \n",
              "10   5.714286  -3.714286         \n",
              "11  16.734694 -14.734694         \n",
              "12  15.102041 -13.102041         \n",
              "13   9.795918  -7.795918         \n",
              "14   1.224490   0.775510         \n",
              "15  18.367347 -16.367347         \n",
              "16  15.918367 -13.918367         \n",
              "17   1.632653   0.367347         \n",
              "18  12.244898 -10.244898         \n",
              "19  18.775510 -16.775510         \n",
              "20  11.020408  -9.020408         \n",
              "21  17.551020 -15.551020         \n",
              "22  16.326531 -14.326531         \n",
              "23   2.448980  -0.448980         \n",
              "24   8.571429  -6.571429         \n",
              "25  15.510204 -13.510204         \n",
              "26   3.673469  -1.673469         \n",
              "27   8.979592  -6.979592         \n",
              "28  10.612245  -8.612245         \n",
              "29   8.163265  -6.163265         \n",
              "30   6.938776  -4.938776         \n",
              "31   6.530612  -4.530612         \n",
              "32   3.265306  -1.265306         \n",
              "33  12.653061 -10.653061         \n",
              "34  13.061224 -11.061224         \n",
              "35  11.428571  -9.428571         \n",
              "36   5.306122  -3.306122         \n",
              "37   0.816327   1.183673         \n",
              "38   6.122449  -4.122449         \n",
              "39   0.408163   1.591837         \n",
              "40  10.204082  -8.204082         \n",
              "41   4.081633  -2.081633         \n",
              "42  17.959184 -15.959184         \n",
              "43   2.857143  -0.857143         \n",
              "44   0.000000   2.000000         \n",
              "45   4.489796  -2.489796         \n",
              "46  14.285714 -12.285714         \n",
              "47   9.387755  -7.387755         \n",
              "48  14.693878 -12.693878         \n",
              "49  20.000000 -18.000000         "
            ]
          },
          "execution_count": 31,
          "metadata": {},
          "output_type": "execute_result"
        }
      ],
      "source": [
        "X = np.linspace(0,20)\n",
        "df = pd.DataFrame({\"X\": X})\n",
        "np.random.shuffle(df[\"X\"])\n",
        "df[\"Y\"] = -1 * df[\"X\"] + 2\n",
        "df[\"YPredict\"] = \"\"\n",
        "df"
      ]
    },
    {
      "cell_type": "code",
      "execution_count": null,
      "metadata": {
        "id": "0MSjJrWg8E3q",
        "outputId": "fc1a7bb7-6dd1-44b9-ac0d-e05896c8fb19"
      },
      "outputs": [
        {
          "data": {
            "image/png": "[encoded data removed]",
            "text/plain": [
              "<Figure size 432x288 with 1 Axes>"
            ]
          },
          "metadata": {
            "needs_background": "light"
          },
          "output_type": "display_data"
        }
      ],
      "source": [
        "plt.scatter(df[\"X\"],df[\"Y\"])\n",
        "plt.show()"
      ]
    },
    {
      "cell_type": "markdown",
      "metadata": {
        "id": "PUbXzaHn8E3s"
      },
      "source": [
        "#### Plot your data points. "
      ]
    },
    {
      "cell_type": "code",
      "execution_count": null,
      "metadata": {
        "id": "f-N8LDcK8E3s"
      },
      "outputs": [],
      "source": [
        ""
      ]
    },
    {
      "cell_type": "markdown",
      "metadata": {
        "id": "ivMVn7Cr8E3t"
      },
      "source": [
        "#### Use your final version of the implemented Batch GD algorithm for single variable to find the best line filt of the given data.\n",
        "#### Coose the suitable number of iterations, learning rate, and stop criteria.\n",
        "#### Calculate r2 score. Shouldn't below 0.9\n",
        "#### Plot the required curves (loss-epochs, loss-theta0, loss-theta1, all fitted lines per epoch (single graph) , best fit line)"
      ]
    },
    {
      "cell_type": "code",
      "execution_count": null,
      "metadata": {
        "id": "RpSo5uep8E3u"
      },
      "outputs": [],
      "source": [
        ""
      ]
    },
    {
      "cell_type": "code",
      "execution_count": null,
      "metadata": {
        "id": "xFwZE44k8E3u"
      },
      "outputs": [],
      "source": [
        ""
      ]
    },
    {
      "cell_type": "code",
      "execution_count": null,
      "metadata": {
        "id": "eLYbxovU8E3v"
      },
      "outputs": [],
      "source": [
        ""
      ]
    },
    {
      "cell_type": "code",
      "execution_count": null,
      "metadata": {
        "id": "RsRKKr5A8E3v"
      },
      "outputs": [],
      "source": [
        ""
      ]
    },
    {
      "cell_type": "code",
      "execution_count": null,
      "metadata": {
        "id": "6FwwLFna8E3w"
      },
      "outputs": [],
      "source": [
        ""
      ]
    },
    {
      "cell_type": "code",
      "execution_count": null,
      "metadata": {
        "id": "z8kmflMf8E3w"
      },
      "outputs": [],
      "source": [
        ""
      ]
    },
    {
      "cell_type": "code",
      "execution_count": null,
      "metadata": {
        "id": "kXvNMI1E8E3w"
      },
      "outputs": [],
      "source": [
        ""
      ]
    },
    {
      "cell_type": "code",
      "execution_count": null,
      "metadata": {
        "id": "J8ZDKEwH8E3w"
      },
      "outputs": [],
      "source": [
        ""
      ]
    },
    {
      "cell_type": "code",
      "execution_count": null,
      "metadata": {
        "id": "_JyyzPS18E3x"
      },
      "outputs": [],
      "source": [
        ""
      ]
    },
    {
      "cell_type": "code",
      "execution_count": null,
      "metadata": {
        "id": "qeFXOmGR8E3x"
      },
      "outputs": [],
      "source": [
        ""
      ]
    },
    {
      "cell_type": "code",
      "execution_count": null,
      "metadata": {
        "id": "5yu-KXva8E3x"
      },
      "outputs": [],
      "source": [
        ""
      ]
    },
    {
      "cell_type": "code",
      "execution_count": null,
      "metadata": {
        "id": "aJL_pFPd8E3y"
      },
      "outputs": [],
      "source": [
        ""
      ]
    },
    {
      "cell_type": "code",
      "execution_count": null,
      "metadata": {
        "id": "9xLc93k08E3y"
      },
      "outputs": [],
      "source": [
        ""
      ]
    },
    {
      "cell_type": "markdown",
      "metadata": {
        "id": "nNeWP7NI8E3y"
      },
      "source": [
        "### Update your Batch GD for one variable  implementation to be Momentum-Based GD and check your results"
      ]
    },
    {
      "cell_type": "markdown",
      "metadata": {
        "id": "kgO-oeMN8E3z"
      },
      "source": [
        "#### γ takes values between 0 and 1."
      ]
    },
    {
      "cell_type": "code",
      "execution_count": null,
      "metadata": {
        "id": "_yC8tkYl8E30",
        "outputId": "a7a55d36-8ace-4fce-f60e-13362f0dbe59"
      },
      "outputs": [
        {
          "data": {
            "image/png": "[encoded data removed]",
            "text/plain": [
              "<Figure size 432x288 with 1 Axes>"
            ]
          },
          "metadata": {
            "needs_background": "light"
          },
          "output_type": "display_data"
        }
      ],
      "source": [
        "def Hypo(theta_0,theta_1):\n",
        "    df[\"YPredict\"] = theta_0 + theta_1 * df[\"X\"]\n",
        "def CostFunc():\n",
        "    sumii = sum(np.power(df[\"YPredict\"]-df[\"Y\"] , 2))\n",
        "    totalCost = sumii/(2*df.shape[0])\n",
        "    return totalCost\n",
        "def Gradient_Theta():\n",
        "    G_Theta_0 = sum(df[\"YPredict\"]-df[\"Y\"])/df.shape[0]\n",
        "    G_Theta_1 = sum((df[\"YPredict\"] - df[\"Y\"])*df[\"X\"])/df.shape[0]\n",
        "    return G_Theta_0,G_Theta_1\n",
        "def UpdateParameters(theta_0,theta_1,Vd_theta_0,Vd_theta_1):\n",
        "    theta_0 -= Vd_theta_0\n",
        "    theta_1 -= Vd_theta_1\n",
        "    return theta_0,theta_1\n",
        "theta_0 = 0\n",
        "theta_1 = 0\n",
        "alpha = 0.001\n",
        "gamma = 0.9\n",
        "costList = []\n",
        "theta_0_List = []\n",
        "theta_1_List = []\n",
        "Vd_theta_0 = 0\n",
        "Vd_theta_1 = 0\n",
        "epoch = 0\n",
        "for i in range(1000):\n",
        "    Hypo(theta_0,theta_1)\n",
        "    theta_0_List.append(theta_0)\n",
        "    theta_1_List.append(theta_1)\n",
        "    total_Cost = CostFunc()\n",
        "    costList.append(total_Cost)\n",
        "    G_theta_0,G_Theta_1 = Gradient_Theta()\n",
        "    Vd_theta_0 = gamma * Vd_theta_0 +  alpha * G_theta_0\n",
        "    Vd_theta_1 = gamma * Vd_theta_1 +  alpha * G_Theta_1\n",
        "    theta_0,theta_1=UpdateParameters(theta_0,theta_1,Vd_theta_0,Vd_theta_1)\n",
        "plt.scatter(range(1000),costList)\n",
        "plt.xlabel(\"Number Of Epochs\")\n",
        "plt.ylabel(\"Cost List\")\n",
        "plt.show()\n",
        "\n"
      ]
    },
    {
      "cell_type": "code",
      "execution_count": null,
      "metadata": {
        "id": "982ssy4A8E30",
        "outputId": "2a067b30-773e-4fc6-d44e-549feaee53ce"
      },
      "outputs": [
        {
          "data": {
            "image/png": "[encoded data removed]",
            "text/plain": [
              "<Figure size 432x288 with 1 Axes>"
            ]
          },
          "metadata": {
            "needs_background": "light"
          },
          "output_type": "display_data"
        }
      ],
      "source": [
        "plt.scatter(theta_0_List,costList)\n",
        "plt.xlabel(\"Number Of Epochs\")\n",
        "plt.ylabel(\"Cost List\")\n",
        "plt.show()"
      ]
    },
    {
      "cell_type": "code",
      "execution_count": null,
      "metadata": {
        "id": "PHIgcKPR8E31",
        "outputId": "8595f14c-f357-479e-c5d1-2eaa04ba5867"
      },
      "outputs": [
        {
          "name": "stdout",
          "output_type": "stream",
          "text": [
            "0.9998256724267002\n"
          ]
        }
      ],
      "source": [
        "from sklearn.metrics import r2_score\n",
        "print(r2_score(df[\"Y\"], df[\"YPredict\"]))\n"
      ]
    },
    {
      "cell_type": "code",
      "execution_count": null,
      "metadata": {
        "id": "bdH_NHla8E32"
      },
      "outputs": [],
      "source": [
        ""
      ]
    },
    {
      "cell_type": "code",
      "execution_count": null,
      "metadata": {
        "id": "XUSyjYCf8E32"
      },
      "outputs": [],
      "source": [
        ""
      ]
    },
    {
      "cell_type": "code",
      "execution_count": null,
      "metadata": {
        "id": "jNEuI1Pr8E32"
      },
      "outputs": [],
      "source": [
        ""
      ]
    },
    {
      "cell_type": "code",
      "execution_count": null,
      "metadata": {
        "scrolled": false,
        "id": "79FU9msX8E32"
      },
      "outputs": [],
      "source": [
        ""
      ]
    },
    {
      "cell_type": "markdown",
      "metadata": {
        "id": "KPgV1jZA8E32"
      },
      "source": [
        "#### Try another values of momentum term and check your reults.\n",
        "#### Try very large values close to one and very small values close to zero. \n",
        "#### Try momentum = 0"
      ]
    },
    {
      "cell_type": "code",
      "execution_count": null,
      "metadata": {
        "id": "-LO_11T_8E33"
      },
      "outputs": [],
      "source": [
        ""
      ]
    },
    {
      "cell_type": "code",
      "execution_count": null,
      "metadata": {
        "id": "W2ezPt5c8E33"
      },
      "outputs": [],
      "source": [
        ""
      ]
    },
    {
      "cell_type": "code",
      "execution_count": null,
      "metadata": {
        "scrolled": true,
        "id": "Asa9GAFP8E33"
      },
      "outputs": [],
      "source": [
        ""
      ]
    },
    {
      "cell_type": "markdown",
      "metadata": {
        "id": "gmviIH-_8E33"
      },
      "source": [
        "### Update your Batch GD for one variable  implementation to be NAG and check your results"
      ]
    },
    {
      "cell_type": "code",
      "execution_count": null,
      "metadata": {
        "id": "JXHByCOF8E34",
        "outputId": "924e542a-aecb-49f2-cde2-c50fb3d5d6a2"
      },
      "outputs": [
        {
          "name": "stderr",
          "output_type": "stream",
          "text": [
            "C:\\Users\\fathy\\AppData\\Local\\Temp\\ipykernel_4672\\1087686862.py:10: UserWarning: you are shuffling a 'Series' object which is not a subclass of 'Sequence'; `shuffle` is not guaranteed to behave correctly. E.g., non-numpy array/tensor objects with view semantics may contain duplicates after shuffling.\n",
            "  np.random.shuffle(df[\"X\"])\n"
          ]
        },
        {
          "data": {
            "image/png": "[encoded data removed]",
            "text/plain": [
              "<Figure size 432x288 with 1 Axes>"
            ]
          },
          "metadata": {
            "needs_background": "light"
          },
          "output_type": "display_data"
        }
      ],
      "source": [
        "def Hypo(theta_0,theta_1):\n",
        "    df[\"YPredict\"] = theta_0 + theta_1 * df[\"X\"]\n",
        "def CostFunc():\n",
        "    sumii = sum(np.power(df[\"YPredict\"]-df[\"Y\"] , 2))\n",
        "    totalCost = sumii/(2*df.shape[0])\n",
        "    return totalCost\n",
        "\n",
        "X = np.linspace(0,20)\n",
        "df = pd.DataFrame({\"X\": X})\n",
        "np.random.shuffle(df[\"X\"])\n",
        "df[\"Y\"] = -1 * df[\"X\"] + 2\n",
        "df[\"YPredict\"] = \"\"\n",
        "theta_0 = 0\n",
        "theta_1 = 0\n",
        "alpha = 0.001\n",
        "gamma = 0.9\n",
        "costList = []\n",
        "theta_0_List = []\n",
        "theta_1_List = []\n",
        "Vd_theta_0 = 0\n",
        "Vd_theta_1 = 0\n",
        "vd_Prev_0 = 0\n",
        "vd_Prev_1 = 0\n",
        "epoch = 0\n",
        "for i in range(1000):\n",
        "    Hypo(theta_0,theta_1)\n",
        "    theta_0_List.append(theta_0)\n",
        "    theta_1_List.append(theta_1)\n",
        "    total_Cost = CostFunc()\n",
        "    costList.append(total_Cost)\n",
        "    Theta_Temp_0 = theta_0 - gamma * Vd_theta_0\n",
        "    Theta_Temp_1 = theta_1 - gamma * Vd_theta_1\n",
        "    Gradient_Theta_Temp_0 = sum(df[\"YPredict\"]-df[\"Y\"])/df.shape[0]\n",
        "    Gradient_Theta_Temp_1 = sum((df[\"YPredict\"] - df[\"Y\"])*df[\"X\"])/df.shape[0]\n",
        "    theta_0 = Theta_Temp_0 - alpha * Gradient_Theta_Temp_0\n",
        "    theta_1 = Theta_Temp_1 - alpha * Gradient_Theta_Temp_1\n",
        "    Vd_theta_0 = gamma * Vd_theta_0 +  alpha * Gradient_Theta_Temp_0\n",
        "    Vd_theta_1 = gamma * Vd_theta_1 +  alpha * Gradient_Theta_Temp_1\n",
        "\n",
        "plt.scatter(range(1000),costList)\n",
        "plt.xlabel(\"Number Of Epochs\")\n",
        "plt.ylabel(\"Cost List\")\n",
        "plt.show()\n",
        "\n"
      ]
    },
    {
      "cell_type": "code",
      "execution_count": null,
      "metadata": {
        "id": "i191M-RZ8E34",
        "outputId": "73c77863-0403-4874-ca79-2f68abe48bf2"
      },
      "outputs": [
        {
          "name": "stdout",
          "output_type": "stream",
          "text": [
            "0.9998256724267002\n"
          ]
        }
      ],
      "source": [
        "from sklearn.metrics import r2_score\n",
        "print(r2_score(df[\"Y\"], df[\"YPredict\"]))"
      ]
    },
    {
      "cell_type": "code",
      "execution_count": null,
      "metadata": {
        "id": "PGKkE3s68E35"
      },
      "outputs": [],
      "source": [
        ""
      ]
    },
    {
      "cell_type": "code",
      "execution_count": null,
      "metadata": {
        "scrolled": true,
        "id": "xXhiDraH8E35"
      },
      "outputs": [],
      "source": [
        ""
      ]
    },
    {
      "cell_type": "markdown",
      "metadata": {
        "id": "wCzjqVeY8E35"
      },
      "source": [
        "## Congratulations "
      ]
    },
    {
      "cell_type": "code",
      "execution_count": null,
      "metadata": {
        "id": "iABBBK608E35"
      },
      "outputs": [],
      "source": [
        ""
      ]
    }
  ],
  "metadata": {
    "kernelspec": {
      "display_name": "Python 3",
      "language": "python",
      "name": "python3"
    },
    "language_info": {
      "codemirror_mode": {
        "name": "ipython",
        "version": 3
      },
      "file_extension": ".py",
      "mimetype": "text/x-python",
      "name": "python",
      "nbconvert_exporter": "python",
      "pygments_lexer": "ipython3",
      "version": "3.10.2"
    },
    "colab": {
      "name": "Practical Session 3 Momentum - NAG.ipynb",
      "provenance": [],
      "include_colab_link": true
    }
  },
  "nbformat": 4,
  "nbformat_minor": 0
}